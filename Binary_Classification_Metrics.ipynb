{
  "nbformat": 4,
  "nbformat_minor": 0,
  "metadata": {
    "colab": {
      "provenance": [],
      "toc_visible": true,
      "include_colab_link": true
    },
    "kernelspec": {
      "name": "python3",
      "display_name": "Python 3"
    },
    "language_info": {
      "name": "python"
    }
  },
  "cells": [
    {
      "cell_type": "markdown",
      "metadata": {
        "id": "view-in-github",
        "colab_type": "text"
      },
      "source": [
        "<a href=\"https://colab.research.google.com/github/barzansaeedpour/binary-classification-metrics/blob/main/Binary_Classification_Metrics.ipynb\" target=\"_parent\"><img src=\"https://colab.research.google.com/assets/colab-badge.svg\" alt=\"Open In Colab\"/></a>"
      ]
    },
    {
      "cell_type": "markdown",
      "source": [
        "## Download the dataset\n",
        "\n",
        "- Go to your kaggle account --> Your profile --> Settings --> API --> Create New Token.\n",
        "\n",
        "A json file (kaggle.json) will be downloaded automatically. Upload it in colab files."
      ],
      "metadata": {
        "id": "j7q5wc3xCeZT"
      }
    },
    {
      "cell_type": "code",
      "execution_count": 1,
      "metadata": {
        "colab": {
          "base_uri": "https://localhost:8080/"
        },
        "id": "ipN4y3XrIgZu",
        "outputId": "993b8f98-1b93-48da-a0d2-0e2bb294ad0e"
      },
      "outputs": [
        {
          "output_type": "stream",
          "name": "stdout",
          "text": [
            "Downloading creditcardfraud.zip to /content\n",
            " 92% 61.0M/66.0M [00:01<00:00, 54.3MB/s]\n",
            "100% 66.0M/66.0M [00:01<00:00, 47.2MB/s]\n",
            "Archive:  creditcardfraud.zip\n",
            "  inflating: creditcard.csv          \n"
          ]
        }
      ],
      "source": [
        "# Download the dataset (be sure to upload your Kaggle.json API token!)\n",
        "\n",
        "!mkdir ~/.kaggle\n",
        "!cp kaggle.json ~/.kaggle\n",
        "!chmod 600 ~/.kaggle/kaggle.json\n",
        "!kaggle datasets download -d mlg-ulb/creditcardfraud\n",
        "!unzip creditcardfraud.zip"
      ]
    },
    {
      "cell_type": "markdown",
      "source": [
        "## Load the dataset"
      ],
      "metadata": {
        "id": "aG7r-H8XEU4K"
      }
    },
    {
      "cell_type": "code",
      "source": [
        "# Load the dataset\n",
        "\n",
        "import pandas as pd\n",
        "\n",
        "df = pd.read_csv('creditcard.csv')\n",
        "\n",
        "df.head()"
      ],
      "metadata": {
        "colab": {
          "base_uri": "https://localhost:8080/",
          "height": 256
        },
        "id": "YbmAWAhFTCov",
        "outputId": "4e1b9e1a-4d32-4da5-8462-8dc5533c7759"
      },
      "execution_count": 2,
      "outputs": [
        {
          "output_type": "execute_result",
          "data": {
            "text/plain": [
              "   Time        V1        V2        V3        V4        V5        V6        V7  \\\n",
              "0   0.0 -1.359807 -0.072781  2.536347  1.378155 -0.338321  0.462388  0.239599   \n",
              "1   0.0  1.191857  0.266151  0.166480  0.448154  0.060018 -0.082361 -0.078803   \n",
              "2   1.0 -1.358354 -1.340163  1.773209  0.379780 -0.503198  1.800499  0.791461   \n",
              "3   1.0 -0.966272 -0.185226  1.792993 -0.863291 -0.010309  1.247203  0.237609   \n",
              "4   2.0 -1.158233  0.877737  1.548718  0.403034 -0.407193  0.095921  0.592941   \n",
              "\n",
              "         V8        V9  ...       V21       V22       V23       V24       V25  \\\n",
              "0  0.098698  0.363787  ... -0.018307  0.277838 -0.110474  0.066928  0.128539   \n",
              "1  0.085102 -0.255425  ... -0.225775 -0.638672  0.101288 -0.339846  0.167170   \n",
              "2  0.247676 -1.514654  ...  0.247998  0.771679  0.909412 -0.689281 -0.327642   \n",
              "3  0.377436 -1.387024  ... -0.108300  0.005274 -0.190321 -1.175575  0.647376   \n",
              "4 -0.270533  0.817739  ... -0.009431  0.798278 -0.137458  0.141267 -0.206010   \n",
              "\n",
              "        V26       V27       V28  Amount  Class  \n",
              "0 -0.189115  0.133558 -0.021053  149.62      0  \n",
              "1  0.125895 -0.008983  0.014724    2.69      0  \n",
              "2 -0.139097 -0.055353 -0.059752  378.66      0  \n",
              "3 -0.221929  0.062723  0.061458  123.50      0  \n",
              "4  0.502292  0.219422  0.215153   69.99      0  \n",
              "\n",
              "[5 rows x 31 columns]"
            ],
            "text/html": [
              "\n",
              "  <div id=\"df-e2c07f25-beb3-4b83-9a6c-0fef6f277c5e\" class=\"colab-df-container\">\n",
              "    <div>\n",
              "<style scoped>\n",
              "    .dataframe tbody tr th:only-of-type {\n",
              "        vertical-align: middle;\n",
              "    }\n",
              "\n",
              "    .dataframe tbody tr th {\n",
              "        vertical-align: top;\n",
              "    }\n",
              "\n",
              "    .dataframe thead th {\n",
              "        text-align: right;\n",
              "    }\n",
              "</style>\n",
              "<table border=\"1\" class=\"dataframe\">\n",
              "  <thead>\n",
              "    <tr style=\"text-align: right;\">\n",
              "      <th></th>\n",
              "      <th>Time</th>\n",
              "      <th>V1</th>\n",
              "      <th>V2</th>\n",
              "      <th>V3</th>\n",
              "      <th>V4</th>\n",
              "      <th>V5</th>\n",
              "      <th>V6</th>\n",
              "      <th>V7</th>\n",
              "      <th>V8</th>\n",
              "      <th>V9</th>\n",
              "      <th>...</th>\n",
              "      <th>V21</th>\n",
              "      <th>V22</th>\n",
              "      <th>V23</th>\n",
              "      <th>V24</th>\n",
              "      <th>V25</th>\n",
              "      <th>V26</th>\n",
              "      <th>V27</th>\n",
              "      <th>V28</th>\n",
              "      <th>Amount</th>\n",
              "      <th>Class</th>\n",
              "    </tr>\n",
              "  </thead>\n",
              "  <tbody>\n",
              "    <tr>\n",
              "      <th>0</th>\n",
              "      <td>0.0</td>\n",
              "      <td>-1.359807</td>\n",
              "      <td>-0.072781</td>\n",
              "      <td>2.536347</td>\n",
              "      <td>1.378155</td>\n",
              "      <td>-0.338321</td>\n",
              "      <td>0.462388</td>\n",
              "      <td>0.239599</td>\n",
              "      <td>0.098698</td>\n",
              "      <td>0.363787</td>\n",
              "      <td>...</td>\n",
              "      <td>-0.018307</td>\n",
              "      <td>0.277838</td>\n",
              "      <td>-0.110474</td>\n",
              "      <td>0.066928</td>\n",
              "      <td>0.128539</td>\n",
              "      <td>-0.189115</td>\n",
              "      <td>0.133558</td>\n",
              "      <td>-0.021053</td>\n",
              "      <td>149.62</td>\n",
              "      <td>0</td>\n",
              "    </tr>\n",
              "    <tr>\n",
              "      <th>1</th>\n",
              "      <td>0.0</td>\n",
              "      <td>1.191857</td>\n",
              "      <td>0.266151</td>\n",
              "      <td>0.166480</td>\n",
              "      <td>0.448154</td>\n",
              "      <td>0.060018</td>\n",
              "      <td>-0.082361</td>\n",
              "      <td>-0.078803</td>\n",
              "      <td>0.085102</td>\n",
              "      <td>-0.255425</td>\n",
              "      <td>...</td>\n",
              "      <td>-0.225775</td>\n",
              "      <td>-0.638672</td>\n",
              "      <td>0.101288</td>\n",
              "      <td>-0.339846</td>\n",
              "      <td>0.167170</td>\n",
              "      <td>0.125895</td>\n",
              "      <td>-0.008983</td>\n",
              "      <td>0.014724</td>\n",
              "      <td>2.69</td>\n",
              "      <td>0</td>\n",
              "    </tr>\n",
              "    <tr>\n",
              "      <th>2</th>\n",
              "      <td>1.0</td>\n",
              "      <td>-1.358354</td>\n",
              "      <td>-1.340163</td>\n",
              "      <td>1.773209</td>\n",
              "      <td>0.379780</td>\n",
              "      <td>-0.503198</td>\n",
              "      <td>1.800499</td>\n",
              "      <td>0.791461</td>\n",
              "      <td>0.247676</td>\n",
              "      <td>-1.514654</td>\n",
              "      <td>...</td>\n",
              "      <td>0.247998</td>\n",
              "      <td>0.771679</td>\n",
              "      <td>0.909412</td>\n",
              "      <td>-0.689281</td>\n",
              "      <td>-0.327642</td>\n",
              "      <td>-0.139097</td>\n",
              "      <td>-0.055353</td>\n",
              "      <td>-0.059752</td>\n",
              "      <td>378.66</td>\n",
              "      <td>0</td>\n",
              "    </tr>\n",
              "    <tr>\n",
              "      <th>3</th>\n",
              "      <td>1.0</td>\n",
              "      <td>-0.966272</td>\n",
              "      <td>-0.185226</td>\n",
              "      <td>1.792993</td>\n",
              "      <td>-0.863291</td>\n",
              "      <td>-0.010309</td>\n",
              "      <td>1.247203</td>\n",
              "      <td>0.237609</td>\n",
              "      <td>0.377436</td>\n",
              "      <td>-1.387024</td>\n",
              "      <td>...</td>\n",
              "      <td>-0.108300</td>\n",
              "      <td>0.005274</td>\n",
              "      <td>-0.190321</td>\n",
              "      <td>-1.175575</td>\n",
              "      <td>0.647376</td>\n",
              "      <td>-0.221929</td>\n",
              "      <td>0.062723</td>\n",
              "      <td>0.061458</td>\n",
              "      <td>123.50</td>\n",
              "      <td>0</td>\n",
              "    </tr>\n",
              "    <tr>\n",
              "      <th>4</th>\n",
              "      <td>2.0</td>\n",
              "      <td>-1.158233</td>\n",
              "      <td>0.877737</td>\n",
              "      <td>1.548718</td>\n",
              "      <td>0.403034</td>\n",
              "      <td>-0.407193</td>\n",
              "      <td>0.095921</td>\n",
              "      <td>0.592941</td>\n",
              "      <td>-0.270533</td>\n",
              "      <td>0.817739</td>\n",
              "      <td>...</td>\n",
              "      <td>-0.009431</td>\n",
              "      <td>0.798278</td>\n",
              "      <td>-0.137458</td>\n",
              "      <td>0.141267</td>\n",
              "      <td>-0.206010</td>\n",
              "      <td>0.502292</td>\n",
              "      <td>0.219422</td>\n",
              "      <td>0.215153</td>\n",
              "      <td>69.99</td>\n",
              "      <td>0</td>\n",
              "    </tr>\n",
              "  </tbody>\n",
              "</table>\n",
              "<p>5 rows × 31 columns</p>\n",
              "</div>\n",
              "    <div class=\"colab-df-buttons\">\n",
              "\n",
              "  <div class=\"colab-df-container\">\n",
              "    <button class=\"colab-df-convert\" onclick=\"convertToInteractive('df-e2c07f25-beb3-4b83-9a6c-0fef6f277c5e')\"\n",
              "            title=\"Convert this dataframe to an interactive table.\"\n",
              "            style=\"display:none;\">\n",
              "\n",
              "  <svg xmlns=\"http://www.w3.org/2000/svg\" height=\"24px\" viewBox=\"0 -960 960 960\">\n",
              "    <path d=\"M120-120v-720h720v720H120Zm60-500h600v-160H180v160Zm220 220h160v-160H400v160Zm0 220h160v-160H400v160ZM180-400h160v-160H180v160Zm440 0h160v-160H620v160ZM180-180h160v-160H180v160Zm440 0h160v-160H620v160Z\"/>\n",
              "  </svg>\n",
              "    </button>\n",
              "\n",
              "  <style>\n",
              "    .colab-df-container {\n",
              "      display:flex;\n",
              "      gap: 12px;\n",
              "    }\n",
              "\n",
              "    .colab-df-convert {\n",
              "      background-color: #E8F0FE;\n",
              "      border: none;\n",
              "      border-radius: 50%;\n",
              "      cursor: pointer;\n",
              "      display: none;\n",
              "      fill: #1967D2;\n",
              "      height: 32px;\n",
              "      padding: 0 0 0 0;\n",
              "      width: 32px;\n",
              "    }\n",
              "\n",
              "    .colab-df-convert:hover {\n",
              "      background-color: #E2EBFA;\n",
              "      box-shadow: 0px 1px 2px rgba(60, 64, 67, 0.3), 0px 1px 3px 1px rgba(60, 64, 67, 0.15);\n",
              "      fill: #174EA6;\n",
              "    }\n",
              "\n",
              "    .colab-df-buttons div {\n",
              "      margin-bottom: 4px;\n",
              "    }\n",
              "\n",
              "    [theme=dark] .colab-df-convert {\n",
              "      background-color: #3B4455;\n",
              "      fill: #D2E3FC;\n",
              "    }\n",
              "\n",
              "    [theme=dark] .colab-df-convert:hover {\n",
              "      background-color: #434B5C;\n",
              "      box-shadow: 0px 1px 3px 1px rgba(0, 0, 0, 0.15);\n",
              "      filter: drop-shadow(0px 1px 2px rgba(0, 0, 0, 0.3));\n",
              "      fill: #FFFFFF;\n",
              "    }\n",
              "  </style>\n",
              "\n",
              "    <script>\n",
              "      const buttonEl =\n",
              "        document.querySelector('#df-e2c07f25-beb3-4b83-9a6c-0fef6f277c5e button.colab-df-convert');\n",
              "      buttonEl.style.display =\n",
              "        google.colab.kernel.accessAllowed ? 'block' : 'none';\n",
              "\n",
              "      async function convertToInteractive(key) {\n",
              "        const element = document.querySelector('#df-e2c07f25-beb3-4b83-9a6c-0fef6f277c5e');\n",
              "        const dataTable =\n",
              "          await google.colab.kernel.invokeFunction('convertToInteractive',\n",
              "                                                    [key], {});\n",
              "        if (!dataTable) return;\n",
              "\n",
              "        const docLinkHtml = 'Like what you see? Visit the ' +\n",
              "          '<a target=\"_blank\" href=https://colab.research.google.com/notebooks/data_table.ipynb>data table notebook</a>'\n",
              "          + ' to learn more about interactive tables.';\n",
              "        element.innerHTML = '';\n",
              "        dataTable['output_type'] = 'display_data';\n",
              "        await google.colab.output.renderOutput(dataTable, element);\n",
              "        const docLink = document.createElement('div');\n",
              "        docLink.innerHTML = docLinkHtml;\n",
              "        element.appendChild(docLink);\n",
              "      }\n",
              "    </script>\n",
              "  </div>\n",
              "\n",
              "\n",
              "<div id=\"df-0b3d9313-0ff9-4203-b2d3-739b0a335779\">\n",
              "  <button class=\"colab-df-quickchart\" onclick=\"quickchart('df-0b3d9313-0ff9-4203-b2d3-739b0a335779')\"\n",
              "            title=\"Suggest charts\"\n",
              "            style=\"display:none;\">\n",
              "\n",
              "<svg xmlns=\"http://www.w3.org/2000/svg\" height=\"24px\"viewBox=\"0 0 24 24\"\n",
              "     width=\"24px\">\n",
              "    <g>\n",
              "        <path d=\"M19 3H5c-1.1 0-2 .9-2 2v14c0 1.1.9 2 2 2h14c1.1 0 2-.9 2-2V5c0-1.1-.9-2-2-2zM9 17H7v-7h2v7zm4 0h-2V7h2v10zm4 0h-2v-4h2v4z\"/>\n",
              "    </g>\n",
              "</svg>\n",
              "  </button>\n",
              "\n",
              "<style>\n",
              "  .colab-df-quickchart {\n",
              "      --bg-color: #E8F0FE;\n",
              "      --fill-color: #1967D2;\n",
              "      --hover-bg-color: #E2EBFA;\n",
              "      --hover-fill-color: #174EA6;\n",
              "      --disabled-fill-color: #AAA;\n",
              "      --disabled-bg-color: #DDD;\n",
              "  }\n",
              "\n",
              "  [theme=dark] .colab-df-quickchart {\n",
              "      --bg-color: #3B4455;\n",
              "      --fill-color: #D2E3FC;\n",
              "      --hover-bg-color: #434B5C;\n",
              "      --hover-fill-color: #FFFFFF;\n",
              "      --disabled-bg-color: #3B4455;\n",
              "      --disabled-fill-color: #666;\n",
              "  }\n",
              "\n",
              "  .colab-df-quickchart {\n",
              "    background-color: var(--bg-color);\n",
              "    border: none;\n",
              "    border-radius: 50%;\n",
              "    cursor: pointer;\n",
              "    display: none;\n",
              "    fill: var(--fill-color);\n",
              "    height: 32px;\n",
              "    padding: 0;\n",
              "    width: 32px;\n",
              "  }\n",
              "\n",
              "  .colab-df-quickchart:hover {\n",
              "    background-color: var(--hover-bg-color);\n",
              "    box-shadow: 0 1px 2px rgba(60, 64, 67, 0.3), 0 1px 3px 1px rgba(60, 64, 67, 0.15);\n",
              "    fill: var(--button-hover-fill-color);\n",
              "  }\n",
              "\n",
              "  .colab-df-quickchart-complete:disabled,\n",
              "  .colab-df-quickchart-complete:disabled:hover {\n",
              "    background-color: var(--disabled-bg-color);\n",
              "    fill: var(--disabled-fill-color);\n",
              "    box-shadow: none;\n",
              "  }\n",
              "\n",
              "  .colab-df-spinner {\n",
              "    border: 2px solid var(--fill-color);\n",
              "    border-color: transparent;\n",
              "    border-bottom-color: var(--fill-color);\n",
              "    animation:\n",
              "      spin 1s steps(1) infinite;\n",
              "  }\n",
              "\n",
              "  @keyframes spin {\n",
              "    0% {\n",
              "      border-color: transparent;\n",
              "      border-bottom-color: var(--fill-color);\n",
              "      border-left-color: var(--fill-color);\n",
              "    }\n",
              "    20% {\n",
              "      border-color: transparent;\n",
              "      border-left-color: var(--fill-color);\n",
              "      border-top-color: var(--fill-color);\n",
              "    }\n",
              "    30% {\n",
              "      border-color: transparent;\n",
              "      border-left-color: var(--fill-color);\n",
              "      border-top-color: var(--fill-color);\n",
              "      border-right-color: var(--fill-color);\n",
              "    }\n",
              "    40% {\n",
              "      border-color: transparent;\n",
              "      border-right-color: var(--fill-color);\n",
              "      border-top-color: var(--fill-color);\n",
              "    }\n",
              "    60% {\n",
              "      border-color: transparent;\n",
              "      border-right-color: var(--fill-color);\n",
              "    }\n",
              "    80% {\n",
              "      border-color: transparent;\n",
              "      border-right-color: var(--fill-color);\n",
              "      border-bottom-color: var(--fill-color);\n",
              "    }\n",
              "    90% {\n",
              "      border-color: transparent;\n",
              "      border-bottom-color: var(--fill-color);\n",
              "    }\n",
              "  }\n",
              "</style>\n",
              "\n",
              "  <script>\n",
              "    async function quickchart(key) {\n",
              "      const quickchartButtonEl =\n",
              "        document.querySelector('#' + key + ' button');\n",
              "      quickchartButtonEl.disabled = true;  // To prevent multiple clicks.\n",
              "      quickchartButtonEl.classList.add('colab-df-spinner');\n",
              "      try {\n",
              "        const charts = await google.colab.kernel.invokeFunction(\n",
              "            'suggestCharts', [key], {});\n",
              "      } catch (error) {\n",
              "        console.error('Error during call to suggestCharts:', error);\n",
              "      }\n",
              "      quickchartButtonEl.classList.remove('colab-df-spinner');\n",
              "      quickchartButtonEl.classList.add('colab-df-quickchart-complete');\n",
              "    }\n",
              "    (() => {\n",
              "      let quickchartButtonEl =\n",
              "        document.querySelector('#df-0b3d9313-0ff9-4203-b2d3-739b0a335779 button');\n",
              "      quickchartButtonEl.style.display =\n",
              "        google.colab.kernel.accessAllowed ? 'block' : 'none';\n",
              "    })();\n",
              "  </script>\n",
              "</div>\n",
              "    </div>\n",
              "  </div>\n"
            ],
            "application/vnd.google.colaboratory.intrinsic+json": {
              "type": "dataframe",
              "variable_name": "df"
            }
          },
          "metadata": {},
          "execution_count": 2
        }
      ]
    },
    {
      "cell_type": "markdown",
      "source": [
        "By running the code below, we see that there are 284315 not fraud and only 492 fraud transactions.\n",
        "\n",
        "This shows a very unbalanced data!"
      ],
      "metadata": {
        "id": "4ydWiha0KVoi"
      }
    },
    {
      "cell_type": "code",
      "source": [
        "# Observe class imbalance\n",
        "\n",
        "df['Class'].value_counts()"
      ],
      "metadata": {
        "colab": {
          "base_uri": "https://localhost:8080/"
        },
        "id": "HgzRCkDETNEr",
        "outputId": "cea3bb6c-1ef9-43bf-b80d-7df9277eb2f0"
      },
      "execution_count": 3,
      "outputs": [
        {
          "output_type": "execute_result",
          "data": {
            "text/plain": [
              "0    284315\n",
              "1       492\n",
              "Name: Class, dtype: int64"
            ]
          },
          "metadata": {},
          "execution_count": 3
        }
      ]
    },
    {
      "cell_type": "code",
      "source": [
        "# Shuffle the dataset\n",
        "\n",
        "df = df.sample(frac=1, random_state=1)\n",
        "df = df.reset_index(drop=True)\n",
        "df.head()"
      ],
      "metadata": {
        "colab": {
          "base_uri": "https://localhost:8080/",
          "height": 256
        },
        "id": "8rzIaCviTUxd",
        "outputId": "ac554d43-97d3-4976-b903-7edb4a28fe4f"
      },
      "execution_count": 4,
      "outputs": [
        {
          "output_type": "execute_result",
          "data": {
            "text/plain": [
              "       Time        V1        V2        V3        V4        V5        V6  \\\n",
              "0  119907.0 -0.611712 -0.769705 -0.149759 -0.224877  2.028577 -2.019887   \n",
              "1   78340.0 -0.814682  1.319219  1.329415  0.027273 -0.284871 -0.653985   \n",
              "2   82382.0 -0.318193  1.118618  0.969864 -0.127052  0.569563 -0.532484   \n",
              "3   31717.0 -1.328271  1.018378  1.775426 -1.574193 -0.117696 -0.457733   \n",
              "4   80923.0  1.276712  0.617120 -0.578014  0.879173  0.061706 -1.472002   \n",
              "\n",
              "         V7        V8        V9  ...       V21       V22       V23       V24  \\\n",
              "0  0.292491 -0.523020  0.358468  ... -0.075208  0.045536  0.380739  0.023440   \n",
              "1  0.321552  0.435975 -0.704298  ... -0.128619 -0.368565  0.090660  0.401147   \n",
              "2  0.706252 -0.064966 -0.463271  ... -0.305402 -0.774704 -0.123884 -0.495687   \n",
              "3  0.681867 -0.031641  0.383872  ... -0.220815 -0.419013 -0.239197  0.009967   \n",
              "4  0.373692 -0.287204 -0.084482  ... -0.160161 -0.430404 -0.076738  0.258708   \n",
              "\n",
              "        V25       V26       V27       V28  Amount  Class  \n",
              "0 -2.220686 -0.201146  0.066501  0.221180    1.79      0  \n",
              "1 -0.261034  0.080621  0.162427  0.059456    1.98      0  \n",
              "2 -0.018148  0.121679  0.249050  0.092516    0.89      0  \n",
              "3  0.232829  0.814177  0.098797 -0.004273   15.98      0  \n",
              "4  0.552170  0.370701 -0.034255  0.041709    0.76      0  \n",
              "\n",
              "[5 rows x 31 columns]"
            ],
            "text/html": [
              "\n",
              "  <div id=\"df-1ee2cf1a-c68f-4fb9-a350-a2d0e63c85e4\" class=\"colab-df-container\">\n",
              "    <div>\n",
              "<style scoped>\n",
              "    .dataframe tbody tr th:only-of-type {\n",
              "        vertical-align: middle;\n",
              "    }\n",
              "\n",
              "    .dataframe tbody tr th {\n",
              "        vertical-align: top;\n",
              "    }\n",
              "\n",
              "    .dataframe thead th {\n",
              "        text-align: right;\n",
              "    }\n",
              "</style>\n",
              "<table border=\"1\" class=\"dataframe\">\n",
              "  <thead>\n",
              "    <tr style=\"text-align: right;\">\n",
              "      <th></th>\n",
              "      <th>Time</th>\n",
              "      <th>V1</th>\n",
              "      <th>V2</th>\n",
              "      <th>V3</th>\n",
              "      <th>V4</th>\n",
              "      <th>V5</th>\n",
              "      <th>V6</th>\n",
              "      <th>V7</th>\n",
              "      <th>V8</th>\n",
              "      <th>V9</th>\n",
              "      <th>...</th>\n",
              "      <th>V21</th>\n",
              "      <th>V22</th>\n",
              "      <th>V23</th>\n",
              "      <th>V24</th>\n",
              "      <th>V25</th>\n",
              "      <th>V26</th>\n",
              "      <th>V27</th>\n",
              "      <th>V28</th>\n",
              "      <th>Amount</th>\n",
              "      <th>Class</th>\n",
              "    </tr>\n",
              "  </thead>\n",
              "  <tbody>\n",
              "    <tr>\n",
              "      <th>0</th>\n",
              "      <td>119907.0</td>\n",
              "      <td>-0.611712</td>\n",
              "      <td>-0.769705</td>\n",
              "      <td>-0.149759</td>\n",
              "      <td>-0.224877</td>\n",
              "      <td>2.028577</td>\n",
              "      <td>-2.019887</td>\n",
              "      <td>0.292491</td>\n",
              "      <td>-0.523020</td>\n",
              "      <td>0.358468</td>\n",
              "      <td>...</td>\n",
              "      <td>-0.075208</td>\n",
              "      <td>0.045536</td>\n",
              "      <td>0.380739</td>\n",
              "      <td>0.023440</td>\n",
              "      <td>-2.220686</td>\n",
              "      <td>-0.201146</td>\n",
              "      <td>0.066501</td>\n",
              "      <td>0.221180</td>\n",
              "      <td>1.79</td>\n",
              "      <td>0</td>\n",
              "    </tr>\n",
              "    <tr>\n",
              "      <th>1</th>\n",
              "      <td>78340.0</td>\n",
              "      <td>-0.814682</td>\n",
              "      <td>1.319219</td>\n",
              "      <td>1.329415</td>\n",
              "      <td>0.027273</td>\n",
              "      <td>-0.284871</td>\n",
              "      <td>-0.653985</td>\n",
              "      <td>0.321552</td>\n",
              "      <td>0.435975</td>\n",
              "      <td>-0.704298</td>\n",
              "      <td>...</td>\n",
              "      <td>-0.128619</td>\n",
              "      <td>-0.368565</td>\n",
              "      <td>0.090660</td>\n",
              "      <td>0.401147</td>\n",
              "      <td>-0.261034</td>\n",
              "      <td>0.080621</td>\n",
              "      <td>0.162427</td>\n",
              "      <td>0.059456</td>\n",
              "      <td>1.98</td>\n",
              "      <td>0</td>\n",
              "    </tr>\n",
              "    <tr>\n",
              "      <th>2</th>\n",
              "      <td>82382.0</td>\n",
              "      <td>-0.318193</td>\n",
              "      <td>1.118618</td>\n",
              "      <td>0.969864</td>\n",
              "      <td>-0.127052</td>\n",
              "      <td>0.569563</td>\n",
              "      <td>-0.532484</td>\n",
              "      <td>0.706252</td>\n",
              "      <td>-0.064966</td>\n",
              "      <td>-0.463271</td>\n",
              "      <td>...</td>\n",
              "      <td>-0.305402</td>\n",
              "      <td>-0.774704</td>\n",
              "      <td>-0.123884</td>\n",
              "      <td>-0.495687</td>\n",
              "      <td>-0.018148</td>\n",
              "      <td>0.121679</td>\n",
              "      <td>0.249050</td>\n",
              "      <td>0.092516</td>\n",
              "      <td>0.89</td>\n",
              "      <td>0</td>\n",
              "    </tr>\n",
              "    <tr>\n",
              "      <th>3</th>\n",
              "      <td>31717.0</td>\n",
              "      <td>-1.328271</td>\n",
              "      <td>1.018378</td>\n",
              "      <td>1.775426</td>\n",
              "      <td>-1.574193</td>\n",
              "      <td>-0.117696</td>\n",
              "      <td>-0.457733</td>\n",
              "      <td>0.681867</td>\n",
              "      <td>-0.031641</td>\n",
              "      <td>0.383872</td>\n",
              "      <td>...</td>\n",
              "      <td>-0.220815</td>\n",
              "      <td>-0.419013</td>\n",
              "      <td>-0.239197</td>\n",
              "      <td>0.009967</td>\n",
              "      <td>0.232829</td>\n",
              "      <td>0.814177</td>\n",
              "      <td>0.098797</td>\n",
              "      <td>-0.004273</td>\n",
              "      <td>15.98</td>\n",
              "      <td>0</td>\n",
              "    </tr>\n",
              "    <tr>\n",
              "      <th>4</th>\n",
              "      <td>80923.0</td>\n",
              "      <td>1.276712</td>\n",
              "      <td>0.617120</td>\n",
              "      <td>-0.578014</td>\n",
              "      <td>0.879173</td>\n",
              "      <td>0.061706</td>\n",
              "      <td>-1.472002</td>\n",
              "      <td>0.373692</td>\n",
              "      <td>-0.287204</td>\n",
              "      <td>-0.084482</td>\n",
              "      <td>...</td>\n",
              "      <td>-0.160161</td>\n",
              "      <td>-0.430404</td>\n",
              "      <td>-0.076738</td>\n",
              "      <td>0.258708</td>\n",
              "      <td>0.552170</td>\n",
              "      <td>0.370701</td>\n",
              "      <td>-0.034255</td>\n",
              "      <td>0.041709</td>\n",
              "      <td>0.76</td>\n",
              "      <td>0</td>\n",
              "    </tr>\n",
              "  </tbody>\n",
              "</table>\n",
              "<p>5 rows × 31 columns</p>\n",
              "</div>\n",
              "    <div class=\"colab-df-buttons\">\n",
              "\n",
              "  <div class=\"colab-df-container\">\n",
              "    <button class=\"colab-df-convert\" onclick=\"convertToInteractive('df-1ee2cf1a-c68f-4fb9-a350-a2d0e63c85e4')\"\n",
              "            title=\"Convert this dataframe to an interactive table.\"\n",
              "            style=\"display:none;\">\n",
              "\n",
              "  <svg xmlns=\"http://www.w3.org/2000/svg\" height=\"24px\" viewBox=\"0 -960 960 960\">\n",
              "    <path d=\"M120-120v-720h720v720H120Zm60-500h600v-160H180v160Zm220 220h160v-160H400v160Zm0 220h160v-160H400v160ZM180-400h160v-160H180v160Zm440 0h160v-160H620v160ZM180-180h160v-160H180v160Zm440 0h160v-160H620v160Z\"/>\n",
              "  </svg>\n",
              "    </button>\n",
              "\n",
              "  <style>\n",
              "    .colab-df-container {\n",
              "      display:flex;\n",
              "      gap: 12px;\n",
              "    }\n",
              "\n",
              "    .colab-df-convert {\n",
              "      background-color: #E8F0FE;\n",
              "      border: none;\n",
              "      border-radius: 50%;\n",
              "      cursor: pointer;\n",
              "      display: none;\n",
              "      fill: #1967D2;\n",
              "      height: 32px;\n",
              "      padding: 0 0 0 0;\n",
              "      width: 32px;\n",
              "    }\n",
              "\n",
              "    .colab-df-convert:hover {\n",
              "      background-color: #E2EBFA;\n",
              "      box-shadow: 0px 1px 2px rgba(60, 64, 67, 0.3), 0px 1px 3px 1px rgba(60, 64, 67, 0.15);\n",
              "      fill: #174EA6;\n",
              "    }\n",
              "\n",
              "    .colab-df-buttons div {\n",
              "      margin-bottom: 4px;\n",
              "    }\n",
              "\n",
              "    [theme=dark] .colab-df-convert {\n",
              "      background-color: #3B4455;\n",
              "      fill: #D2E3FC;\n",
              "    }\n",
              "\n",
              "    [theme=dark] .colab-df-convert:hover {\n",
              "      background-color: #434B5C;\n",
              "      box-shadow: 0px 1px 3px 1px rgba(0, 0, 0, 0.15);\n",
              "      filter: drop-shadow(0px 1px 2px rgba(0, 0, 0, 0.3));\n",
              "      fill: #FFFFFF;\n",
              "    }\n",
              "  </style>\n",
              "\n",
              "    <script>\n",
              "      const buttonEl =\n",
              "        document.querySelector('#df-1ee2cf1a-c68f-4fb9-a350-a2d0e63c85e4 button.colab-df-convert');\n",
              "      buttonEl.style.display =\n",
              "        google.colab.kernel.accessAllowed ? 'block' : 'none';\n",
              "\n",
              "      async function convertToInteractive(key) {\n",
              "        const element = document.querySelector('#df-1ee2cf1a-c68f-4fb9-a350-a2d0e63c85e4');\n",
              "        const dataTable =\n",
              "          await google.colab.kernel.invokeFunction('convertToInteractive',\n",
              "                                                    [key], {});\n",
              "        if (!dataTable) return;\n",
              "\n",
              "        const docLinkHtml = 'Like what you see? Visit the ' +\n",
              "          '<a target=\"_blank\" href=https://colab.research.google.com/notebooks/data_table.ipynb>data table notebook</a>'\n",
              "          + ' to learn more about interactive tables.';\n",
              "        element.innerHTML = '';\n",
              "        dataTable['output_type'] = 'display_data';\n",
              "        await google.colab.output.renderOutput(dataTable, element);\n",
              "        const docLink = document.createElement('div');\n",
              "        docLink.innerHTML = docLinkHtml;\n",
              "        element.appendChild(docLink);\n",
              "      }\n",
              "    </script>\n",
              "  </div>\n",
              "\n",
              "\n",
              "<div id=\"df-4e3eca2a-325b-433c-a0ec-3645b1ad3e15\">\n",
              "  <button class=\"colab-df-quickchart\" onclick=\"quickchart('df-4e3eca2a-325b-433c-a0ec-3645b1ad3e15')\"\n",
              "            title=\"Suggest charts\"\n",
              "            style=\"display:none;\">\n",
              "\n",
              "<svg xmlns=\"http://www.w3.org/2000/svg\" height=\"24px\"viewBox=\"0 0 24 24\"\n",
              "     width=\"24px\">\n",
              "    <g>\n",
              "        <path d=\"M19 3H5c-1.1 0-2 .9-2 2v14c0 1.1.9 2 2 2h14c1.1 0 2-.9 2-2V5c0-1.1-.9-2-2-2zM9 17H7v-7h2v7zm4 0h-2V7h2v10zm4 0h-2v-4h2v4z\"/>\n",
              "    </g>\n",
              "</svg>\n",
              "  </button>\n",
              "\n",
              "<style>\n",
              "  .colab-df-quickchart {\n",
              "      --bg-color: #E8F0FE;\n",
              "      --fill-color: #1967D2;\n",
              "      --hover-bg-color: #E2EBFA;\n",
              "      --hover-fill-color: #174EA6;\n",
              "      --disabled-fill-color: #AAA;\n",
              "      --disabled-bg-color: #DDD;\n",
              "  }\n",
              "\n",
              "  [theme=dark] .colab-df-quickchart {\n",
              "      --bg-color: #3B4455;\n",
              "      --fill-color: #D2E3FC;\n",
              "      --hover-bg-color: #434B5C;\n",
              "      --hover-fill-color: #FFFFFF;\n",
              "      --disabled-bg-color: #3B4455;\n",
              "      --disabled-fill-color: #666;\n",
              "  }\n",
              "\n",
              "  .colab-df-quickchart {\n",
              "    background-color: var(--bg-color);\n",
              "    border: none;\n",
              "    border-radius: 50%;\n",
              "    cursor: pointer;\n",
              "    display: none;\n",
              "    fill: var(--fill-color);\n",
              "    height: 32px;\n",
              "    padding: 0;\n",
              "    width: 32px;\n",
              "  }\n",
              "\n",
              "  .colab-df-quickchart:hover {\n",
              "    background-color: var(--hover-bg-color);\n",
              "    box-shadow: 0 1px 2px rgba(60, 64, 67, 0.3), 0 1px 3px 1px rgba(60, 64, 67, 0.15);\n",
              "    fill: var(--button-hover-fill-color);\n",
              "  }\n",
              "\n",
              "  .colab-df-quickchart-complete:disabled,\n",
              "  .colab-df-quickchart-complete:disabled:hover {\n",
              "    background-color: var(--disabled-bg-color);\n",
              "    fill: var(--disabled-fill-color);\n",
              "    box-shadow: none;\n",
              "  }\n",
              "\n",
              "  .colab-df-spinner {\n",
              "    border: 2px solid var(--fill-color);\n",
              "    border-color: transparent;\n",
              "    border-bottom-color: var(--fill-color);\n",
              "    animation:\n",
              "      spin 1s steps(1) infinite;\n",
              "  }\n",
              "\n",
              "  @keyframes spin {\n",
              "    0% {\n",
              "      border-color: transparent;\n",
              "      border-bottom-color: var(--fill-color);\n",
              "      border-left-color: var(--fill-color);\n",
              "    }\n",
              "    20% {\n",
              "      border-color: transparent;\n",
              "      border-left-color: var(--fill-color);\n",
              "      border-top-color: var(--fill-color);\n",
              "    }\n",
              "    30% {\n",
              "      border-color: transparent;\n",
              "      border-left-color: var(--fill-color);\n",
              "      border-top-color: var(--fill-color);\n",
              "      border-right-color: var(--fill-color);\n",
              "    }\n",
              "    40% {\n",
              "      border-color: transparent;\n",
              "      border-right-color: var(--fill-color);\n",
              "      border-top-color: var(--fill-color);\n",
              "    }\n",
              "    60% {\n",
              "      border-color: transparent;\n",
              "      border-right-color: var(--fill-color);\n",
              "    }\n",
              "    80% {\n",
              "      border-color: transparent;\n",
              "      border-right-color: var(--fill-color);\n",
              "      border-bottom-color: var(--fill-color);\n",
              "    }\n",
              "    90% {\n",
              "      border-color: transparent;\n",
              "      border-bottom-color: var(--fill-color);\n",
              "    }\n",
              "  }\n",
              "</style>\n",
              "\n",
              "  <script>\n",
              "    async function quickchart(key) {\n",
              "      const quickchartButtonEl =\n",
              "        document.querySelector('#' + key + ' button');\n",
              "      quickchartButtonEl.disabled = true;  // To prevent multiple clicks.\n",
              "      quickchartButtonEl.classList.add('colab-df-spinner');\n",
              "      try {\n",
              "        const charts = await google.colab.kernel.invokeFunction(\n",
              "            'suggestCharts', [key], {});\n",
              "      } catch (error) {\n",
              "        console.error('Error during call to suggestCharts:', error);\n",
              "      }\n",
              "      quickchartButtonEl.classList.remove('colab-df-spinner');\n",
              "      quickchartButtonEl.classList.add('colab-df-quickchart-complete');\n",
              "    }\n",
              "    (() => {\n",
              "      let quickchartButtonEl =\n",
              "        document.querySelector('#df-4e3eca2a-325b-433c-a0ec-3645b1ad3e15 button');\n",
              "      quickchartButtonEl.style.display =\n",
              "        google.colab.kernel.accessAllowed ? 'block' : 'none';\n",
              "    })();\n",
              "  </script>\n",
              "</div>\n",
              "    </div>\n",
              "  </div>\n"
            ],
            "application/vnd.google.colaboratory.intrinsic+json": {
              "type": "dataframe",
              "variable_name": "df"
            }
          },
          "metadata": {},
          "execution_count": 4
        }
      ]
    },
    {
      "cell_type": "markdown",
      "source": [
        "## Train & Test Splitting"
      ],
      "metadata": {
        "id": "EcsoXHRX6ll8"
      }
    },
    {
      "cell_type": "code",
      "source": [
        "# Create (X_train, y_train), (X_test, y_test)\n",
        "\n",
        "as_np = df.to_numpy()\n",
        "\n",
        "index = int(len(as_np) * .92)\n",
        "\n",
        "X_train, y_train = as_np[:index, :-1], as_np[:index, -1]\n",
        "X_test, y_test = as_np[index:, :-1], as_np[index:, -1]\n",
        "\n",
        "(X_train.shape, y_train.shape), (X_test.shape, y_test.shape)"
      ],
      "metadata": {
        "colab": {
          "base_uri": "https://localhost:8080/"
        },
        "id": "UN5h_2DWT-r7",
        "outputId": "a6d5f0f3-1da1-4051-85dc-cb6315893370"
      },
      "execution_count": 5,
      "outputs": [
        {
          "output_type": "execute_result",
          "data": {
            "text/plain": [
              "(((262022, 30), (262022,)), ((22785, 30), (22785,)))"
            ]
          },
          "metadata": {},
          "execution_count": 5
        }
      ]
    },
    {
      "cell_type": "markdown",
      "source": [
        "## Preprocessing"
      ],
      "metadata": {
        "id": "UBwLgRgaCQT9"
      }
    },
    {
      "cell_type": "code",
      "source": [
        "# Preprocess the input matrices\n",
        "\n",
        "from sklearn.preprocessing import StandardScaler\n",
        "\n",
        "scaler = StandardScaler().fit(X_train)\n",
        "\n",
        "X_train = scaler.transform(X_train)\n",
        "X_test = scaler.transform(X_test)\n",
        "\n",
        "X_test[:2]"
      ],
      "metadata": {
        "colab": {
          "base_uri": "https://localhost:8080/"
        },
        "id": "BFacnqmlXeMu",
        "outputId": "2c03554f-4ed1-402a-8de2-7df5f2bd603a"
      },
      "execution_count": 6,
      "outputs": [
        {
          "output_type": "execute_result",
          "data": {
            "text/plain": [
              "array([[ 0.14097956,  0.53955733, -1.15153973, -0.47041404,  0.57191953,\n",
              "        -0.85362208, -0.27419086, -0.03159233, -0.25697594,  2.43387034,\n",
              "        -0.75622807, -0.03956163, -1.77401948,  2.41251471,  1.26340856,\n",
              "        -0.24099657,  0.16722599,  0.24463032,  0.56588687, -0.53397987,\n",
              "         1.02654979,  0.4423462 ,  0.47928779, -0.49696321, -0.14435544,\n",
              "        -0.64466426,  0.08065479, -0.24695714,  0.11458447,  1.64640304],\n",
              "       [ 0.671004  , -0.17870974,  0.61200314, -1.46701456, -1.07832074,\n",
              "         2.09869282,  2.32026256,  0.1206093 ,  1.00162072, -0.32909453,\n",
              "        -1.19386994,  0.08307262, -0.17088564, -0.29384832, -0.47517231,\n",
              "         0.94467365,  0.35164934,  0.51565632,  0.7195823 , -0.94869002,\n",
              "        -0.27942395,  0.43920839,  0.99645864, -0.31479867,  1.02631447,\n",
              "         0.083005  , -0.34483488, -0.38849413, -0.05074221, -0.26100058]])"
            ]
          },
          "metadata": {},
          "execution_count": 6
        }
      ]
    },
    {
      "cell_type": "markdown",
      "source": [
        "## Fit Logistic Regression Model"
      ],
      "metadata": {
        "id": "vvyjdQW2Cbaw"
      }
    },
    {
      "cell_type": "code",
      "source": [
        "# Fit Logistic Regression Model & get predictions on test set\n",
        "\n",
        "from sklearn.linear_model import LogisticRegression\n",
        "\n",
        "model = LogisticRegression().fit(X_train, y_train)\n",
        "\n",
        "test_predictions = model.predict(X_test)\n",
        "\n",
        "test_predictions"
      ],
      "metadata": {
        "colab": {
          "base_uri": "https://localhost:8080/"
        },
        "id": "oujpZAZvYDeB",
        "outputId": "14ea79af-2ba7-460d-8bfd-8d7114b263da"
      },
      "execution_count": 7,
      "outputs": [
        {
          "output_type": "execute_result",
          "data": {
            "text/plain": [
              "array([0., 0., 0., ..., 0., 0., 0.])"
            ]
          },
          "metadata": {},
          "execution_count": 7
        }
      ]
    },
    {
      "cell_type": "markdown",
      "source": [
        "## Evaluation Metrics"
      ],
      "metadata": {
        "id": "GdUuHHr2Ckmq"
      }
    },
    {
      "cell_type": "markdown",
      "source": [
        "### Confusion Matrix"
      ],
      "metadata": {
        "id": "uLijWV_3CxQ7"
      }
    },
    {
      "cell_type": "code",
      "source": [
        "# Display Confusion Matrix\n",
        "\n",
        "from sklearn.metrics import confusion_matrix, ConfusionMatrixDisplay\n",
        "\n",
        "cm = confusion_matrix(y_test, test_predictions, labels=[0, 1])\n",
        "disp = ConfusionMatrixDisplay(confusion_matrix=cm,\n",
        "                              display_labels=['Not Fraud', 'Fraud'])\n",
        "disp.plot()"
      ],
      "metadata": {
        "colab": {
          "base_uri": "https://localhost:8080/",
          "height": 466
        },
        "id": "Gb_xRhI3Yh50",
        "outputId": "8ee92592-02e7-4e0a-88ce-53d5baff4e9e"
      },
      "execution_count": 8,
      "outputs": [
        {
          "output_type": "execute_result",
          "data": {
            "text/plain": [
              "<sklearn.metrics._plot.confusion_matrix.ConfusionMatrixDisplay at 0x78ef3dba59f0>"
            ]
          },
          "metadata": {},
          "execution_count": 8
        },
        {
          "output_type": "display_data",
          "data": {
            "text/plain": [
              "<Figure size 640x480 with 2 Axes>"
            ],
            "image/png": "[encoded data removed]"
          },
          "metadata": {}
        }
      ]
    },
    {
      "cell_type": "markdown",
      "source": [
        "✔️ $True$ $Negative$ = $Is$ $Negative$, $Predicted$ $Negative$\n",
        "\n",
        "❌ $False$ $Positive$ = $Predicted$ $Positive$, $Is$ $Negative$\n",
        "\n",
        "❌ $False$ $Negative$ = $Predicted$ $Negative$, $Is$ $Positive$\n",
        "\n",
        "✔️ $True$ $Positive$ = $Is$ $Positive$, $Predicted$ $Positive$"
      ],
      "metadata": {
        "id": "p_9FdTsxoh-a"
      }
    },
    {
      "cell_type": "code",
      "source": [
        "# Get TNs, FPs, FNs, TPs\n",
        "\n",
        "tn, fp, fn, tp = cm.ravel()\n",
        "\n",
        "s = \"\"\"\n",
        "True Negatives: {0}\n",
        "False Positives: {1}\n",
        "False Negatives: {2}\n",
        "True Positives: {3}\n",
        "\"\"\".format(tn, fp, fn, tp)\n",
        "\n",
        "print(s)"
      ],
      "metadata": {
        "colab": {
          "base_uri": "https://localhost:8080/"
        },
        "id": "iRlp9guhcfbq",
        "outputId": "b04691f1-7b93-4176-dd95-d4b3b32941f8"
      },
      "execution_count": 9,
      "outputs": [
        {
          "output_type": "stream",
          "name": "stdout",
          "text": [
            "\n",
            "True Negatives: 22741\n",
            "False Positives: 8\n",
            "False Negatives: 16\n",
            "True Positives: 20\n",
            "\n"
          ]
        }
      ]
    },
    {
      "cell_type": "markdown",
      "source": [
        "### Accuracy"
      ],
      "metadata": {
        "id": "fnsaif-qC-zJ"
      }
    },
    {
      "cell_type": "markdown",
      "source": [
        "$Accuracy$ =  $\\frac{TP + TN}{TP + TN + FP + FN}$"
      ],
      "metadata": {
        "id": "BMaZ9IlLqTSG"
      }
    },
    {
      "cell_type": "code",
      "source": [
        "def accuracy(tn, fp, fn, tp):\n",
        "  return (tp + tn) / (tp + tn + fp + fn)\n",
        "\n",
        "\"Accuracy: {0}\".format(accuracy(tn, fp, fn, tp))"
      ],
      "metadata": {
        "colab": {
          "base_uri": "https://localhost:8080/",
          "height": 35
        },
        "id": "J4un_hsLqR9c",
        "outputId": "6790af36-bf05-4d38-8813-116be1ca6437"
      },
      "execution_count": 10,
      "outputs": [
        {
          "output_type": "execute_result",
          "data": {
            "text/plain": [
              "'Accuracy: 0.9989466754443713'"
            ],
            "application/vnd.google.colaboratory.intrinsic+json": {
              "type": "string"
            }
          },
          "metadata": {},
          "execution_count": 10
        }
      ]
    },
    {
      "cell_type": "markdown",
      "source": [
        "### Recall"
      ],
      "metadata": {
        "id": "Qana8YVxDB-e"
      }
    },
    {
      "cell_type": "markdown",
      "source": [
        "$Recall$ = $Sensitivity$ = $True$ $Positive$ $Rate$ = $\\frac{TP}{TP + FN}$"
      ],
      "metadata": {
        "id": "VkqZY9R1eJ3N"
      }
    },
    {
      "cell_type": "code",
      "source": [
        "def tpr(tn, fp, fn, tp):\n",
        "  return tp / (tp + fn)\n",
        "\n",
        "\"True Positive Rate: {0}\".format(tpr(tn, fp, fn, tp))"
      ],
      "metadata": {
        "colab": {
          "base_uri": "https://localhost:8080/",
          "height": 35
        },
        "id": "v3PCwY9RdDm9",
        "outputId": "e92359cc-1810-40eb-9879-e4bb2a7fcd30"
      },
      "execution_count": 11,
      "outputs": [
        {
          "output_type": "execute_result",
          "data": {
            "text/plain": [
              "'True Positive Rate: 0.5555555555555556'"
            ],
            "application/vnd.google.colaboratory.intrinsic+json": {
              "type": "string"
            }
          },
          "metadata": {},
          "execution_count": 11
        }
      ]
    },
    {
      "cell_type": "markdown",
      "source": [
        "### False Negative Rate"
      ],
      "metadata": {
        "id": "9N6kO-lRDFas"
      }
    },
    {
      "cell_type": "markdown",
      "source": [
        "$False$ $Negative$ $Rate$ = $\\frac{FN}{TP + FN}$"
      ],
      "metadata": {
        "id": "HypMjNWpi_2h"
      }
    },
    {
      "cell_type": "code",
      "source": [
        "def fnr(tn, fp, fn, tp):\n",
        "  return fn / (tp + fn)\n",
        "\n",
        "\"False Negative Rate: {0}\".format(fnr(tn, fp, fn, tp))"
      ],
      "metadata": {
        "colab": {
          "base_uri": "https://localhost:8080/",
          "height": 35
        },
        "id": "Mx3Yz-Bikjp2",
        "outputId": "3eb1d274-0cfe-406d-9cdc-45ef067e9269"
      },
      "execution_count": 12,
      "outputs": [
        {
          "output_type": "execute_result",
          "data": {
            "text/plain": [
              "'False Negative Rate: 0.4444444444444444'"
            ],
            "application/vnd.google.colaboratory.intrinsic+json": {
              "type": "string"
            }
          },
          "metadata": {},
          "execution_count": 12
        }
      ]
    },
    {
      "cell_type": "code",
      "source": [
        "\"True Positive Rate + False Negative Rate: {0}\".format(tpr(tn, fp, fn, tp) + fnr(tn, fp, fn, tp))"
      ],
      "metadata": {
        "colab": {
          "base_uri": "https://localhost:8080/",
          "height": 35
        },
        "id": "KM4Ezbr-krYn",
        "outputId": "9829aa47-eeb0-46e5-c16f-aa643cf76de6"
      },
      "execution_count": 13,
      "outputs": [
        {
          "output_type": "execute_result",
          "data": {
            "text/plain": [
              "'True Positive Rate + False Negative Rate: 1.0'"
            ],
            "application/vnd.google.colaboratory.intrinsic+json": {
              "type": "string"
            }
          },
          "metadata": {},
          "execution_count": 13
        }
      ]
    },
    {
      "cell_type": "markdown",
      "source": [
        "### Specificity"
      ],
      "metadata": {
        "id": "cU_Xt1tFDKWk"
      }
    },
    {
      "cell_type": "markdown",
      "source": [
        "$Specificity$ = $True$ $Negative$ $Rate$ = $\\frac{TN}{TN + FP}$"
      ],
      "metadata": {
        "id": "DMx-zCVmfUfE"
      }
    },
    {
      "cell_type": "code",
      "source": [
        "def tnr(tn, fp, fn, tp):\n",
        "  return tn / (tn + fp)\n",
        "\n",
        "\"True Negative Rate: {0}\".format(tnr(tn, fp, fn, tp))"
      ],
      "metadata": {
        "colab": {
          "base_uri": "https://localhost:8080/",
          "height": 35
        },
        "id": "Rq6YuLDffKI1",
        "outputId": "458dfec9-4e89-479a-dfc1-3b72c944da53"
      },
      "execution_count": 14,
      "outputs": [
        {
          "output_type": "execute_result",
          "data": {
            "text/plain": [
              "'True Negative Rate: 0.9996483361906018'"
            ],
            "application/vnd.google.colaboratory.intrinsic+json": {
              "type": "string"
            }
          },
          "metadata": {},
          "execution_count": 14
        }
      ]
    },
    {
      "cell_type": "markdown",
      "source": [
        "### False Positive Rate"
      ],
      "metadata": {
        "id": "UV9CbOtYDOCb"
      }
    },
    {
      "cell_type": "markdown",
      "source": [
        "$False$ $Positive$ $Rate$ = $\\frac{FP}{TN + FP}$"
      ],
      "metadata": {
        "id": "d3JFADArhy59"
      }
    },
    {
      "cell_type": "code",
      "source": [
        "def fpr(tn, fp, fn, tp):\n",
        "  return fp / (tn + fp)\n",
        "\n",
        "\"False Positive Rate: {0}\".format(fpr(tn, fp, fn, tp))"
      ],
      "metadata": {
        "colab": {
          "base_uri": "https://localhost:8080/",
          "height": 35
        },
        "id": "y6icVnWEgm8_",
        "outputId": "906db283-8423-4263-a374-34f0d607a29a"
      },
      "execution_count": 15,
      "outputs": [
        {
          "output_type": "execute_result",
          "data": {
            "text/plain": [
              "'False Positive Rate: 0.00035166380939821533'"
            ],
            "application/vnd.google.colaboratory.intrinsic+json": {
              "type": "string"
            }
          },
          "metadata": {},
          "execution_count": 15
        }
      ]
    },
    {
      "cell_type": "code",
      "source": [
        "\"True Negative Rate + False Positive Rate: {0}\".format(tnr(tn, fp, fn, tp) + fpr(tn, fp, fn, tp))"
      ],
      "metadata": {
        "colab": {
          "base_uri": "https://localhost:8080/",
          "height": 35
        },
        "id": "GGBg_fhZiBJ6",
        "outputId": "d3bffcea-eb60-4d06-ac1f-130ef5f4f607"
      },
      "execution_count": 16,
      "outputs": [
        {
          "output_type": "execute_result",
          "data": {
            "text/plain": [
              "'True Negative Rate + False Positive Rate: 1.0'"
            ],
            "application/vnd.google.colaboratory.intrinsic+json": {
              "type": "string"
            }
          },
          "metadata": {},
          "execution_count": 16
        }
      ]
    },
    {
      "cell_type": "markdown",
      "source": [
        "### Precision"
      ],
      "metadata": {
        "id": "fFxgeHW6D_AM"
      }
    },
    {
      "cell_type": "markdown",
      "source": [
        "$Precision$ = $Positive$ $Predictive$ $Value$ = $\\frac{TP}{TP + FP}$"
      ],
      "metadata": {
        "id": "diYsy0oylhRk"
      }
    },
    {
      "cell_type": "code",
      "source": [
        "def ppv(tn, fp, fn, tp):\n",
        "  return tp / (tp + fp)\n",
        "\n",
        "\"Positive Predictive Value: {0}\".format(ppv(tn, fp, fn, tp))"
      ],
      "metadata": {
        "colab": {
          "base_uri": "https://localhost:8080/",
          "height": 35
        },
        "id": "f-G-l6GLlgtz",
        "outputId": "add51345-3a0d-4f56-a4c4-ed5dbb7bff6d"
      },
      "execution_count": 17,
      "outputs": [
        {
          "output_type": "execute_result",
          "data": {
            "text/plain": [
              "'Positive Predictive Value: 0.7142857142857143'"
            ],
            "application/vnd.google.colaboratory.intrinsic+json": {
              "type": "string"
            }
          },
          "metadata": {},
          "execution_count": 17
        }
      ]
    },
    {
      "cell_type": "markdown",
      "source": [
        "### Negative Predictive Value"
      ],
      "metadata": {
        "id": "xFChIzt2ECFV"
      }
    },
    {
      "cell_type": "markdown",
      "source": [
        "$Negative$ $Predictive$ $Value$ = $\\frac{TN}{TN + FN}$"
      ],
      "metadata": {
        "id": "1Mln3VramlCs"
      }
    },
    {
      "cell_type": "code",
      "source": [
        "def npv(tn, fp, fn, tp):\n",
        "  return tn / (tn + fn)\n",
        "\n",
        "\"Negative Predictive Value: {0}\".format(npv(tn, fp, fn, tp))"
      ],
      "metadata": {
        "colab": {
          "base_uri": "https://localhost:8080/",
          "height": 35
        },
        "id": "9_8jnMwdmXN9",
        "outputId": "fbdb71fe-5c34-4a04-99c4-e78c9f1ee925"
      },
      "execution_count": 18,
      "outputs": [
        {
          "output_type": "execute_result",
          "data": {
            "text/plain": [
              "'Negative Predictive Value: 0.9992969196291251'"
            ],
            "application/vnd.google.colaboratory.intrinsic+json": {
              "type": "string"
            }
          },
          "metadata": {},
          "execution_count": 18
        }
      ]
    },
    {
      "cell_type": "markdown",
      "source": [
        "### Balanced Accuracy"
      ],
      "metadata": {
        "id": "qRCbls_SEFvm"
      }
    },
    {
      "cell_type": "markdown",
      "source": [
        "$Balanced$ $Accuracy$ = $\\frac{(TPR + TNR)}{2}$"
      ],
      "metadata": {
        "id": "bRvqhtVdu_oO"
      }
    },
    {
      "cell_type": "code",
      "source": [
        "def balanced_accuracy(tn, fp, fn, tp):\n",
        "  tprr = tpr(tn, fp, fn, tp)\n",
        "  tnrr = tnr(tn, fp, fn, tp)\n",
        "  return (tprr + tnrr) / 2\n",
        "\n",
        "\"Balanced Accuracy: {0}\".format(balanced_accuracy(tn, fp, fn, tp))"
      ],
      "metadata": {
        "colab": {
          "base_uri": "https://localhost:8080/",
          "height": 35
        },
        "id": "t6-NUAr0uaMR",
        "outputId": "ad12bfa4-ebe5-42cc-cc59-db093c87ea83"
      },
      "execution_count": 19,
      "outputs": [
        {
          "output_type": "execute_result",
          "data": {
            "text/plain": [
              "'Balanced Accuracy: 0.7776019458730787'"
            ],
            "application/vnd.google.colaboratory.intrinsic+json": {
              "type": "string"
            }
          },
          "metadata": {},
          "execution_count": 19
        }
      ]
    },
    {
      "cell_type": "markdown",
      "source": [
        "### F-1 Score"
      ],
      "metadata": {
        "id": "R4mZn7_FEJST"
      }
    },
    {
      "cell_type": "markdown",
      "source": [
        "$F_1$ = $\\frac{2*Precisicion*Recall}{Precision + Recall}$"
      ],
      "metadata": {
        "id": "xsyVlCnLspGA"
      }
    },
    {
      "cell_type": "code",
      "source": [
        "def f1(tn, fp, fn, tp):\n",
        "  p = ppv(tn, fp, fn, tp)\n",
        "  r = tpr(tn, fp, fn, tp)\n",
        "\n",
        "  return (2*p*r) / (p + r)\n",
        "\n",
        "\"F1 Score: {0}\".format(f1(tn, fp, fn, tp))"
      ],
      "metadata": {
        "colab": {
          "base_uri": "https://localhost:8080/",
          "height": 35
        },
        "id": "90pQyRGamjRc",
        "outputId": "e22be65d-d496-484a-e2d6-f44934e3e839"
      },
      "execution_count": 20,
      "outputs": [
        {
          "output_type": "execute_result",
          "data": {
            "text/plain": [
              "'F1 Score: 0.6250000000000001'"
            ],
            "application/vnd.google.colaboratory.intrinsic+json": {
              "type": "string"
            }
          },
          "metadata": {},
          "execution_count": 20
        }
      ]
    },
    {
      "cell_type": "code",
      "source": [
        "# Get prediction probabilities\n",
        "\n",
        "probabilities = model.predict_proba(X_test)[:, 1]\n",
        "\n",
        "probabilities"
      ],
      "metadata": {
        "id": "d_JKlHvPHdXc",
        "colab": {
          "base_uri": "https://localhost:8080/"
        },
        "outputId": "28f44f36-853d-4454-c38c-ce458d6dcf6a"
      },
      "execution_count": 21,
      "outputs": [
        {
          "output_type": "execute_result",
          "data": {
            "text/plain": [
              "array([0.00012139, 0.0003532 , 0.00030147, ..., 0.00473659, 0.00017273,\n",
              "       0.00171865])"
            ]
          },
          "metadata": {},
          "execution_count": 21
        }
      ]
    },
    {
      "cell_type": "code",
      "source": [
        "# Get predictions using normal threshold of 0.5\n",
        "\n",
        "pd.value_counts(probabilities > 0.5)"
      ],
      "metadata": {
        "colab": {
          "base_uri": "https://localhost:8080/"
        },
        "id": "EsWieD9jJuxt",
        "outputId": "2c4d3878-e4f4-4943-c201-0faee504da0e"
      },
      "execution_count": 22,
      "outputs": [
        {
          "output_type": "execute_result",
          "data": {
            "text/plain": [
              "False    22757\n",
              "True        28\n",
              "dtype: int64"
            ]
          },
          "metadata": {},
          "execution_count": 22
        }
      ]
    },
    {
      "cell_type": "code",
      "source": [
        "# Generate 2000 evenly-separated thresholds\n",
        "\n",
        "import numpy as np\n",
        "\n",
        "thresholds = np.linspace(0, 1, num=2000).astype(np.float16)\n",
        "\n",
        "thresholds"
      ],
      "metadata": {
        "colab": {
          "base_uri": "https://localhost:8080/"
        },
        "id": "eWErDMmXHkiK",
        "outputId": "4c455952-2bc0-460f-b059-50c001325d53"
      },
      "execution_count": 23,
      "outputs": [
        {
          "output_type": "execute_result",
          "data": {
            "text/plain": [
              "array([0.000e+00, 5.002e-04, 1.000e-03, ..., 9.990e-01, 9.995e-01,\n",
              "       1.000e+00], dtype=float16)"
            ]
          },
          "metadata": {},
          "execution_count": 23
        }
      ]
    },
    {
      "cell_type": "code",
      "source": [
        "# Get test predictions array for each threshold\n",
        "\n",
        "all_predictions = np.array([(probabilities > t).astype(int) for t in thresholds])\n",
        "\n",
        "all_predictions.shape"
      ],
      "metadata": {
        "colab": {
          "base_uri": "https://localhost:8080/"
        },
        "id": "nwMF3axvIL5k",
        "outputId": "a4db84d9-7a52-4699-8c4e-afc1638c930c"
      },
      "execution_count": 24,
      "outputs": [
        {
          "output_type": "execute_result",
          "data": {
            "text/plain": [
              "(2000, 22785)"
            ]
          },
          "metadata": {},
          "execution_count": 24
        }
      ]
    },
    {
      "cell_type": "code",
      "source": [
        "# Show distribution depending on threshold\n",
        "\n",
        "pd.value_counts(all_predictions[0])"
      ],
      "metadata": {
        "colab": {
          "base_uri": "https://localhost:8080/"
        },
        "id": "vtyl_RraJDIc",
        "outputId": "20f7a770-0cfe-4b0f-ea0e-121ac0203863"
      },
      "execution_count": 25,
      "outputs": [
        {
          "output_type": "execute_result",
          "data": {
            "text/plain": [
              "1    22785\n",
              "dtype: int64"
            ]
          },
          "metadata": {},
          "execution_count": 25
        }
      ]
    },
    {
      "cell_type": "code",
      "source": [
        "# Get confusion matrices, true positive rates, and false positive rates for each threshold\n",
        "\n",
        "confusion_matrices = [confusion_matrix(y_test, predictions) for predictions in all_predictions]\n",
        "tn_fp_fn_tps = [cm.ravel() for cm in confusion_matrices]\n",
        "\n",
        "tprs = [tpr(tn, fp, fn, tp) for tn, fp, fn, tp in tn_fp_fn_tps]\n",
        "fprs = [fpr(tn, fp, fn, tp) for tn, fp, fn, tp in tn_fp_fn_tps]"
      ],
      "metadata": {
        "id": "wNNvurundsbu"
      },
      "execution_count": 26,
      "outputs": []
    },
    {
      "cell_type": "code",
      "source": [
        "# Create Scatter Plot of ROC Curve\n",
        "\n",
        "import plotly.express as px\n",
        "\n",
        "px.scatter(x=fprs, y=tprs, color=thresholds, labels=dict(x='False Positive Rate', y='True Positive Rate', color='Threshold'), title='ROC Curve')"
      ],
      "metadata": {
        "colab": {
          "base_uri": "https://localhost:8080/",
          "height": 542
        },
        "id": "xrNqfL99e7vz",
        "outputId": "9b67982b-0cab-49c7-8fb3-88ab184fb009"
      },
      "execution_count": 27,
      "outputs": [
        {
          "output_type": "display_data",
          "data": {
            "text/html": [
              "<html>\n",
              "<head><meta charset=\"utf-8\" /></head>\n",
              "<body>\n",
              "    <div>            <script src=\"https://cdnjs.cloudflare.com/ajax/libs/mathjax/2.7.5/MathJax.js?config=TeX-AMS-MML_SVG\"></script><script type=\"text/javascript\">if (window.MathJax && window.MathJax.Hub && window.MathJax.Hub.Config) {window.MathJax.Hub.Config({SVG: {font: \"STIX-Web\"}});}</script>                <script type=\"text/javascript\">window.PlotlyConfig = {MathJaxConfig: 'local'};</script>\n",
              "        <script charset=\"utf-8\" src=\"https://cdn.plot.ly/plotly-2.24.1.min.js\"></script>                <div id=\"28761c94-6b70-44ed-87cf-60485b120d89\" class=\"plotly-graph-div\" style=\"height:525px; width:100%;\"></div>            <script type=\"text/javascript\">                                    window.PLOTLYENV=window.PLOTLYENV || {};                                    if (document.getElementById(\"28761c94-6b70-44ed-87cf-60485b120d89\")) {                    Plotly.newPlot(                        \"28761c94-6b70-44ed-87cf-60485b120d89\",                        [{\"hovertemplate\":\"False Positive Rate=%{x}\\u003cbr\\u003eTrue Positive Rate=%{y}\\u003cbr\\u003eThreshold=%{marker.color}\\u003cextra\\u003e\\u003c\\u002fextra\\u003e\",\"legendgroup\":\"\",\"marker\":{\"color\":[0.0,0.0005002021789550781,0.0010004043579101562,0.0015010833740234375,0.0020008087158203125,0.0025005340576171875,0.003002166748046875,0.00350189208984375,0.004001617431640625,0.0045013427734375,0.005001068115234375,0.005504608154296875,0.00600433349609375,0.006504058837890625,0.0070037841796875,0.007503509521484375,0.00800323486328125,0.00850677490234375,0.009002685546875,0.0095062255859375,0.01000213623046875,0.01050567626953125,0.01100921630859375,0.011505126953125,0.0120086669921875,0.01250457763671875,0.01300811767578125,0.0135040283203125,0.014007568359375,0.01450347900390625,0.01500701904296875,0.01551055908203125,0.0160064697265625,0.016510009765625,0.0170135498046875,0.0175018310546875,0.01800537109375,0.0185089111328125,0.019012451171875,0.0195159912109375,0.0200042724609375,0.0205078125,0.0210113525390625,0.021514892578125,0.0220184326171875,0.0225067138671875,0.02301025390625,0.0235137939453125,0.024017333984375,0.024505615234375,0.0250091552734375,0.0255126953125,0.0260162353515625,0.026519775390625,0.027008056640625,0.0275115966796875,0.02801513671875,0.0285186767578125,0.0290069580078125,0.029510498046875,0.0300140380859375,0.030517578125,0.0310211181640625,0.031524658203125,0.032012939453125,0.032501220703125,0.03302001953125,0.03350830078125,0.034027099609375,0.034515380859375,0.035003662109375,0.0355224609375,0.0360107421875,0.036529541015625,0.037017822265625,0.037506103515625,0.03802490234375,0.03851318359375,0.039031982421875,0.039520263671875,0.040008544921875,0.04052734375,0.041015625,0.041534423828125,0.042022705078125,0.042510986328125,0.04302978515625,0.04351806640625,0.044036865234375,0.044525146484375,0.045013427734375,0.0455322265625,0.0460205078125,0.0465087890625,0.047027587890625,0.047515869140625,0.04803466796875,0.04852294921875,0.04901123046875,0.049530029296875,0.050018310546875,0.050537109375,0.051025390625,0.051513671875,0.052032470703125,0.052520751953125,0.05303955078125,0.05352783203125,0.05401611328125,0.054534912109375,0.055023193359375,0.0555419921875,0.0560302734375,0.0565185546875,0.057037353515625,0.057525634765625,0.058013916015625,0.05853271484375,0.05902099609375,0.059539794921875,0.060028076171875,0.060516357421875,0.06103515625,0.0615234375,0.062042236328125,0.06256103515625,0.06304931640625,0.06353759765625,0.06402587890625,0.06451416015625,0.06500244140625,0.0655517578125,0.0660400390625,0.0665283203125,0.0670166015625,0.0675048828125,0.06805419921875,0.06854248046875,0.06903076171875,0.06951904296875,0.07000732421875,0.070556640625,0.071044921875,0.071533203125,0.072021484375,0.072509765625,0.07305908203125,0.07354736328125,0.07403564453125,0.07452392578125,0.07501220703125,0.0755615234375,0.0760498046875,0.0765380859375,0.0770263671875,0.0775146484375,0.07806396484375,0.07855224609375,0.07904052734375,0.07952880859375,0.08001708984375,0.08056640625,0.0810546875,0.08154296875,0.08203125,0.08251953125,0.08306884765625,0.08355712890625,0.08404541015625,0.08453369140625,0.08502197265625,0.0855712890625,0.0860595703125,0.0865478515625,0.0870361328125,0.0875244140625,0.08807373046875,0.08856201171875,0.08905029296875,0.08953857421875,0.09002685546875,0.09051513671875,0.091064453125,0.091552734375,0.092041015625,0.092529296875,0.093017578125,0.09356689453125,0.09405517578125,0.09454345703125,0.09503173828125,0.09552001953125,0.0960693359375,0.0965576171875,0.0970458984375,0.0975341796875,0.0980224609375,0.09857177734375,0.09906005859375,0.09954833984375,0.10003662109375,0.10052490234375,0.10107421875,0.1015625,0.10205078125,0.1025390625,0.10302734375,0.10357666015625,0.10406494140625,0.10455322265625,0.10504150390625,0.10552978515625,0.1060791015625,0.1065673828125,0.1070556640625,0.1075439453125,0.1080322265625,0.10858154296875,0.10906982421875,0.10955810546875,0.11004638671875,0.11053466796875,0.111083984375,0.111572265625,0.112060546875,0.112548828125,0.113037109375,0.11358642578125,0.11407470703125,0.11456298828125,0.11505126953125,0.11553955078125,0.11602783203125,0.1165771484375,0.1170654296875,0.1175537109375,0.1180419921875,0.1185302734375,0.11907958984375,0.11956787109375,0.12005615234375,0.12054443359375,0.12103271484375,0.12158203125,0.1220703125,0.12255859375,0.123046875,0.12353515625,0.12408447265625,0.12457275390625,0.1251220703125,0.1256103515625,0.1260986328125,0.1265869140625,0.1270751953125,0.1275634765625,0.1280517578125,0.1285400390625,0.1290283203125,0.1295166015625,0.1300048828125,0.130615234375,0.131103515625,0.131591796875,0.132080078125,0.132568359375,0.133056640625,0.133544921875,0.134033203125,0.134521484375,0.135009765625,0.1356201171875,0.1361083984375,0.1365966796875,0.1370849609375,0.1375732421875,0.1380615234375,0.1385498046875,0.1390380859375,0.1395263671875,0.1400146484375,0.140625,0.14111328125,0.1416015625,0.14208984375,0.142578125,0.14306640625,0.1435546875,0.14404296875,0.14453125,0.14501953125,0.1456298828125,0.1461181640625,0.1466064453125,0.1470947265625,0.1475830078125,0.1480712890625,0.1485595703125,0.1490478515625,0.1495361328125,0.1500244140625,0.150634765625,0.151123046875,0.151611328125,0.152099609375,0.152587890625,0.153076171875,0.153564453125,0.154052734375,0.154541015625,0.155029296875,0.155517578125,0.1561279296875,0.1566162109375,0.1571044921875,0.1575927734375,0.1580810546875,0.1585693359375,0.1590576171875,0.1595458984375,0.1600341796875,0.1605224609375,0.1611328125,0.16162109375,0.162109375,0.16259765625,0.1630859375,0.16357421875,0.1640625,0.16455078125,0.1650390625,0.16552734375,0.1661376953125,0.1666259765625,0.1671142578125,0.1676025390625,0.1680908203125,0.1685791015625,0.1690673828125,0.1695556640625,0.1700439453125,0.1705322265625,0.171142578125,0.171630859375,0.172119140625,0.172607421875,0.173095703125,0.173583984375,0.174072265625,0.174560546875,0.175048828125,0.175537109375,0.1761474609375,0.1766357421875,0.1771240234375,0.1776123046875,0.1781005859375,0.1785888671875,0.1790771484375,0.1795654296875,0.1800537109375,0.1805419921875,0.1810302734375,0.181640625,0.18212890625,0.1826171875,0.18310546875,0.18359375,0.18408203125,0.1845703125,0.18505859375,0.185546875,0.18603515625,0.1866455078125,0.1871337890625,0.1876220703125,0.1881103515625,0.1885986328125,0.1890869140625,0.1895751953125,0.1900634765625,0.1905517578125,0.1910400390625,0.191650390625,0.192138671875,0.192626953125,0.193115234375,0.193603515625,0.194091796875,0.194580078125,0.195068359375,0.195556640625,0.196044921875,0.1966552734375,0.1971435546875,0.1976318359375,0.1981201171875,0.1986083984375,0.1990966796875,0.1995849609375,0.2000732421875,0.2005615234375,0.2010498046875,0.20166015625,0.2021484375,0.20263671875,0.203125,0.20361328125,0.2041015625,0.20458984375,0.205078125,0.20556640625,0.2060546875,0.20654296875,0.2071533203125,0.2076416015625,0.2081298828125,0.2086181640625,0.2091064453125,0.2095947265625,0.2100830078125,0.2105712890625,0.2110595703125,0.2115478515625,0.212158203125,0.212646484375,0.213134765625,0.213623046875,0.214111328125,0.214599609375,0.215087890625,0.215576171875,0.216064453125,0.216552734375,0.2171630859375,0.2176513671875,0.2181396484375,0.2186279296875,0.2191162109375,0.2196044921875,0.2200927734375,0.2205810546875,0.2210693359375,0.2215576171875,0.22216796875,0.22265625,0.22314453125,0.2236328125,0.22412109375,0.224609375,0.22509765625,0.2255859375,0.22607421875,0.2265625,0.2271728515625,0.2276611328125,0.2281494140625,0.2286376953125,0.2291259765625,0.2296142578125,0.2301025390625,0.2305908203125,0.2310791015625,0.2315673828125,0.2320556640625,0.232666015625,0.233154296875,0.233642578125,0.234130859375,0.234619140625,0.235107421875,0.235595703125,0.236083984375,0.236572265625,0.237060546875,0.2376708984375,0.2381591796875,0.2386474609375,0.2391357421875,0.2396240234375,0.2401123046875,0.2406005859375,0.2410888671875,0.2415771484375,0.2420654296875,0.24267578125,0.2431640625,0.24365234375,0.244140625,0.24462890625,0.2451171875,0.24560546875,0.24609375,0.24658203125,0.2470703125,0.2476806640625,0.2481689453125,0.2486572265625,0.2491455078125,0.2496337890625,0.250244140625,0.250732421875,0.251220703125,0.251708984375,0.252197265625,0.252685546875,0.253173828125,0.253662109375,0.254150390625,0.254638671875,0.255126953125,0.255615234375,0.256103515625,0.256591796875,0.257080078125,0.257568359375,0.258056640625,0.258544921875,0.259033203125,0.259521484375,0.260009765625,0.2607421875,0.26123046875,0.26171875,0.26220703125,0.2626953125,0.26318359375,0.263671875,0.26416015625,0.2646484375,0.26513671875,0.265625,0.26611328125,0.2666015625,0.26708984375,0.267578125,0.26806640625,0.2685546875,0.26904296875,0.26953125,0.27001953125,0.270751953125,0.271240234375,0.271728515625,0.272216796875,0.272705078125,0.273193359375,0.273681640625,0.274169921875,0.274658203125,0.275146484375,0.275634765625,0.276123046875,0.276611328125,0.277099609375,0.277587890625,0.278076171875,0.278564453125,0.279052734375,0.279541015625,0.280029296875,0.28076171875,0.28125,0.28173828125,0.2822265625,0.28271484375,0.283203125,0.28369140625,0.2841796875,0.28466796875,0.28515625,0.28564453125,0.2861328125,0.28662109375,0.287109375,0.28759765625,0.2880859375,0.28857421875,0.2890625,0.28955078125,0.2900390625,0.29052734375,0.291259765625,0.291748046875,0.292236328125,0.292724609375,0.293212890625,0.293701171875,0.294189453125,0.294677734375,0.295166015625,0.295654296875,0.296142578125,0.296630859375,0.297119140625,0.297607421875,0.298095703125,0.298583984375,0.299072265625,0.299560546875,0.300048828125,0.300537109375,0.30126953125,0.3017578125,0.30224609375,0.302734375,0.30322265625,0.3037109375,0.30419921875,0.3046875,0.30517578125,0.3056640625,0.30615234375,0.306640625,0.30712890625,0.3076171875,0.30810546875,0.30859375,0.30908203125,0.3095703125,0.31005859375,0.310546875,0.31103515625,0.311767578125,0.312255859375,0.312744140625,0.313232421875,0.313720703125,0.314208984375,0.314697265625,0.315185546875,0.315673828125,0.316162109375,0.316650390625,0.317138671875,0.317626953125,0.318115234375,0.318603515625,0.319091796875,0.319580078125,0.320068359375,0.320556640625,0.321044921875,0.32177734375,0.322265625,0.32275390625,0.3232421875,0.32373046875,0.32421875,0.32470703125,0.3251953125,0.32568359375,0.326171875,0.32666015625,0.3271484375,0.32763671875,0.328125,0.32861328125,0.3291015625,0.32958984375,0.330078125,0.33056640625,0.3310546875,0.331787109375,0.332275390625,0.332763671875,0.333251953125,0.333740234375,0.334228515625,0.334716796875,0.335205078125,0.335693359375,0.336181640625,0.336669921875,0.337158203125,0.337646484375,0.338134765625,0.338623046875,0.339111328125,0.339599609375,0.340087890625,0.340576171875,0.341064453125,0.341552734375,0.34228515625,0.3427734375,0.34326171875,0.34375,0.34423828125,0.3447265625,0.34521484375,0.345703125,0.34619140625,0.3466796875,0.34716796875,0.34765625,0.34814453125,0.3486328125,0.34912109375,0.349609375,0.35009765625,0.3505859375,0.35107421875,0.3515625,0.352294921875,0.352783203125,0.353271484375,0.353759765625,0.354248046875,0.354736328125,0.355224609375,0.355712890625,0.356201171875,0.356689453125,0.357177734375,0.357666015625,0.358154296875,0.358642578125,0.359130859375,0.359619140625,0.360107421875,0.360595703125,0.361083984375,0.361572265625,0.362060546875,0.36279296875,0.36328125,0.36376953125,0.3642578125,0.36474609375,0.365234375,0.36572265625,0.3662109375,0.36669921875,0.3671875,0.36767578125,0.3681640625,0.36865234375,0.369140625,0.36962890625,0.3701171875,0.37060546875,0.37109375,0.37158203125,0.3720703125,0.372802734375,0.373291015625,0.373779296875,0.374267578125,0.374755859375,0.375244140625,0.375732421875,0.376220703125,0.376708984375,0.377197265625,0.377685546875,0.378173828125,0.378662109375,0.379150390625,0.379638671875,0.380126953125,0.380615234375,0.381103515625,0.381591796875,0.382080078125,0.3828125,0.38330078125,0.3837890625,0.38427734375,0.384765625,0.38525390625,0.3857421875,0.38623046875,0.38671875,0.38720703125,0.3876953125,0.38818359375,0.388671875,0.38916015625,0.3896484375,0.39013671875,0.390625,0.39111328125,0.3916015625,0.39208984375,0.392578125,0.393310546875,0.393798828125,0.394287109375,0.394775390625,0.395263671875,0.395751953125,0.396240234375,0.396728515625,0.397216796875,0.397705078125,0.398193359375,0.398681640625,0.399169921875,0.399658203125,0.400146484375,0.400634765625,0.401123046875,0.401611328125,0.402099609375,0.402587890625,0.4033203125,0.40380859375,0.404296875,0.40478515625,0.4052734375,0.40576171875,0.40625,0.40673828125,0.4072265625,0.40771484375,0.408203125,0.40869140625,0.4091796875,0.40966796875,0.41015625,0.41064453125,0.4111328125,0.41162109375,0.412109375,0.41259765625,0.4130859375,0.413818359375,0.414306640625,0.414794921875,0.415283203125,0.415771484375,0.416259765625,0.416748046875,0.417236328125,0.417724609375,0.418212890625,0.418701171875,0.419189453125,0.419677734375,0.420166015625,0.420654296875,0.421142578125,0.421630859375,0.422119140625,0.422607421875,0.423095703125,0.423828125,0.42431640625,0.4248046875,0.42529296875,0.42578125,0.42626953125,0.4267578125,0.42724609375,0.427734375,0.42822265625,0.4287109375,0.42919921875,0.4296875,0.43017578125,0.4306640625,0.43115234375,0.431640625,0.43212890625,0.4326171875,0.43310546875,0.433837890625,0.434326171875,0.434814453125,0.435302734375,0.435791015625,0.436279296875,0.436767578125,0.437255859375,0.437744140625,0.438232421875,0.438720703125,0.439208984375,0.439697265625,0.440185546875,0.440673828125,0.441162109375,0.441650390625,0.442138671875,0.442626953125,0.443115234375,0.443603515625,0.4443359375,0.44482421875,0.4453125,0.44580078125,0.4462890625,0.44677734375,0.447265625,0.44775390625,0.4482421875,0.44873046875,0.44921875,0.44970703125,0.4501953125,0.45068359375,0.451171875,0.45166015625,0.4521484375,0.45263671875,0.453125,0.45361328125,0.454345703125,0.454833984375,0.455322265625,0.455810546875,0.456298828125,0.456787109375,0.457275390625,0.457763671875,0.458251953125,0.458740234375,0.459228515625,0.459716796875,0.460205078125,0.460693359375,0.461181640625,0.461669921875,0.462158203125,0.462646484375,0.463134765625,0.463623046875,0.464111328125,0.46484375,0.46533203125,0.4658203125,0.46630859375,0.466796875,0.46728515625,0.4677734375,0.46826171875,0.46875,0.46923828125,0.4697265625,0.47021484375,0.470703125,0.47119140625,0.4716796875,0.47216796875,0.47265625,0.47314453125,0.4736328125,0.47412109375,0.474853515625,0.475341796875,0.475830078125,0.476318359375,0.476806640625,0.477294921875,0.477783203125,0.478271484375,0.478759765625,0.479248046875,0.479736328125,0.480224609375,0.480712890625,0.481201171875,0.481689453125,0.482177734375,0.482666015625,0.483154296875,0.483642578125,0.484130859375,0.48486328125,0.4853515625,0.48583984375,0.486328125,0.48681640625,0.4873046875,0.48779296875,0.48828125,0.48876953125,0.4892578125,0.48974609375,0.490234375,0.49072265625,0.4912109375,0.49169921875,0.4921875,0.49267578125,0.4931640625,0.49365234375,0.494140625,0.49462890625,0.495361328125,0.495849609375,0.496337890625,0.496826171875,0.497314453125,0.497802734375,0.498291015625,0.498779296875,0.499267578125,0.499755859375,0.50048828125,0.5009765625,0.50146484375,0.501953125,0.50244140625,0.5029296875,0.50341796875,0.50390625,0.50439453125,0.5048828125,0.50537109375,0.505859375,0.50634765625,0.5068359375,0.50732421875,0.5078125,0.50830078125,0.5087890625,0.50927734375,0.509765625,0.51025390625,0.5107421875,0.51123046875,0.51171875,0.51220703125,0.5126953125,0.51318359375,0.513671875,0.51416015625,0.5146484375,0.51513671875,0.515625,0.51611328125,0.5166015625,0.51708984375,0.517578125,0.51806640625,0.5185546875,0.51904296875,0.51953125,0.52001953125,0.52099609375,0.521484375,0.52197265625,0.5224609375,0.52294921875,0.5234375,0.52392578125,0.5244140625,0.52490234375,0.525390625,0.52587890625,0.5263671875,0.52685546875,0.52734375,0.52783203125,0.5283203125,0.52880859375,0.529296875,0.52978515625,0.5302734375,0.53076171875,0.53125,0.53173828125,0.5322265625,0.53271484375,0.533203125,0.53369140625,0.5341796875,0.53466796875,0.53515625,0.53564453125,0.5361328125,0.53662109375,0.537109375,0.53759765625,0.5380859375,0.53857421875,0.5390625,0.53955078125,0.5400390625,0.54052734375,0.54150390625,0.5419921875,0.54248046875,0.54296875,0.54345703125,0.5439453125,0.54443359375,0.544921875,0.54541015625,0.5458984375,0.54638671875,0.546875,0.54736328125,0.5478515625,0.54833984375,0.548828125,0.54931640625,0.5498046875,0.55029296875,0.55078125,0.55126953125,0.5517578125,0.55224609375,0.552734375,0.55322265625,0.5537109375,0.55419921875,0.5546875,0.55517578125,0.5556640625,0.55615234375,0.556640625,0.55712890625,0.5576171875,0.55810546875,0.55859375,0.55908203125,0.5595703125,0.56005859375,0.560546875,0.5615234375,0.56201171875,0.5625,0.56298828125,0.5634765625,0.56396484375,0.564453125,0.56494140625,0.5654296875,0.56591796875,0.56640625,0.56689453125,0.5673828125,0.56787109375,0.568359375,0.56884765625,0.5693359375,0.56982421875,0.5703125,0.57080078125,0.5712890625,0.57177734375,0.572265625,0.57275390625,0.5732421875,0.57373046875,0.57421875,0.57470703125,0.5751953125,0.57568359375,0.576171875,0.57666015625,0.5771484375,0.57763671875,0.578125,0.57861328125,0.5791015625,0.57958984375,0.580078125,0.58056640625,0.5810546875,0.58203125,0.58251953125,0.5830078125,0.58349609375,0.583984375,0.58447265625,0.5849609375,0.58544921875,0.5859375,0.58642578125,0.5869140625,0.58740234375,0.587890625,0.58837890625,0.5888671875,0.58935546875,0.58984375,0.59033203125,0.5908203125,0.59130859375,0.591796875,0.59228515625,0.5927734375,0.59326171875,0.59375,0.59423828125,0.5947265625,0.59521484375,0.595703125,0.59619140625,0.5966796875,0.59716796875,0.59765625,0.59814453125,0.5986328125,0.59912109375,0.599609375,0.60009765625,0.6005859375,0.60107421875,0.6015625,0.6025390625,0.60302734375,0.603515625,0.60400390625,0.6044921875,0.60498046875,0.60546875,0.60595703125,0.6064453125,0.60693359375,0.607421875,0.60791015625,0.6083984375,0.60888671875,0.609375,0.60986328125,0.6103515625,0.61083984375,0.611328125,0.61181640625,0.6123046875,0.61279296875,0.61328125,0.61376953125,0.6142578125,0.61474609375,0.615234375,0.61572265625,0.6162109375,0.61669921875,0.6171875,0.61767578125,0.6181640625,0.61865234375,0.619140625,0.61962890625,0.6201171875,0.62060546875,0.62109375,0.62158203125,0.6220703125,0.623046875,0.62353515625,0.6240234375,0.62451171875,0.625,0.62548828125,0.6259765625,0.62646484375,0.626953125,0.62744140625,0.6279296875,0.62841796875,0.62890625,0.62939453125,0.6298828125,0.63037109375,0.630859375,0.63134765625,0.6318359375,0.63232421875,0.6328125,0.63330078125,0.6337890625,0.63427734375,0.634765625,0.63525390625,0.6357421875,0.63623046875,0.63671875,0.63720703125,0.6376953125,0.63818359375,0.638671875,0.63916015625,0.6396484375,0.64013671875,0.640625,0.64111328125,0.6416015625,0.64208984375,0.642578125,0.6435546875,0.64404296875,0.64453125,0.64501953125,0.6455078125,0.64599609375,0.646484375,0.64697265625,0.6474609375,0.64794921875,0.6484375,0.64892578125,0.6494140625,0.64990234375,0.650390625,0.65087890625,0.6513671875,0.65185546875,0.65234375,0.65283203125,0.6533203125,0.65380859375,0.654296875,0.65478515625,0.6552734375,0.65576171875,0.65625,0.65673828125,0.6572265625,0.65771484375,0.658203125,0.65869140625,0.6591796875,0.65966796875,0.66015625,0.66064453125,0.6611328125,0.66162109375,0.662109375,0.66259765625,0.66357421875,0.6640625,0.66455078125,0.6650390625,0.66552734375,0.666015625,0.66650390625,0.6669921875,0.66748046875,0.66796875,0.66845703125,0.6689453125,0.66943359375,0.669921875,0.67041015625,0.6708984375,0.67138671875,0.671875,0.67236328125,0.6728515625,0.67333984375,0.673828125,0.67431640625,0.6748046875,0.67529296875,0.67578125,0.67626953125,0.6767578125,0.67724609375,0.677734375,0.67822265625,0.6787109375,0.67919921875,0.6796875,0.68017578125,0.6806640625,0.68115234375,0.681640625,0.68212890625,0.6826171875,0.68310546875,0.68408203125,0.6845703125,0.68505859375,0.685546875,0.68603515625,0.6865234375,0.68701171875,0.6875,0.68798828125,0.6884765625,0.68896484375,0.689453125,0.68994140625,0.6904296875,0.69091796875,0.69140625,0.69189453125,0.6923828125,0.69287109375,0.693359375,0.69384765625,0.6943359375,0.69482421875,0.6953125,0.69580078125,0.6962890625,0.69677734375,0.697265625,0.69775390625,0.6982421875,0.69873046875,0.69921875,0.69970703125,0.7001953125,0.70068359375,0.701171875,0.70166015625,0.7021484375,0.70263671875,0.703125,0.70361328125,0.70458984375,0.705078125,0.70556640625,0.7060546875,0.70654296875,0.70703125,0.70751953125,0.7080078125,0.70849609375,0.708984375,0.70947265625,0.7099609375,0.71044921875,0.7109375,0.71142578125,0.7119140625,0.71240234375,0.712890625,0.71337890625,0.7138671875,0.71435546875,0.71484375,0.71533203125,0.7158203125,0.71630859375,0.716796875,0.71728515625,0.7177734375,0.71826171875,0.71875,0.71923828125,0.7197265625,0.72021484375,0.720703125,0.72119140625,0.7216796875,0.72216796875,0.72265625,0.72314453125,0.7236328125,0.72412109375,0.72509765625,0.7255859375,0.72607421875,0.7265625,0.72705078125,0.7275390625,0.72802734375,0.728515625,0.72900390625,0.7294921875,0.72998046875,0.73046875,0.73095703125,0.7314453125,0.73193359375,0.732421875,0.73291015625,0.7333984375,0.73388671875,0.734375,0.73486328125,0.7353515625,0.73583984375,0.736328125,0.73681640625,0.7373046875,0.73779296875,0.73828125,0.73876953125,0.7392578125,0.73974609375,0.740234375,0.74072265625,0.7412109375,0.74169921875,0.7421875,0.74267578125,0.7431640625,0.74365234375,0.744140625,0.74462890625,0.74560546875,0.74609375,0.74658203125,0.7470703125,0.74755859375,0.748046875,0.74853515625,0.7490234375,0.74951171875,0.75,0.75048828125,0.7509765625,0.75146484375,0.751953125,0.75244140625,0.7529296875,0.75341796875,0.75390625,0.75439453125,0.7548828125,0.75537109375,0.755859375,0.75634765625,0.7568359375,0.75732421875,0.7578125,0.75830078125,0.7587890625,0.75927734375,0.759765625,0.76025390625,0.7607421875,0.76123046875,0.76171875,0.76220703125,0.7626953125,0.76318359375,0.763671875,0.76416015625,0.7646484375,0.765625,0.76611328125,0.7666015625,0.76708984375,0.767578125,0.76806640625,0.7685546875,0.76904296875,0.76953125,0.77001953125,0.7705078125,0.77099609375,0.771484375,0.77197265625,0.7724609375,0.77294921875,0.7734375,0.77392578125,0.7744140625,0.77490234375,0.775390625,0.77587890625,0.7763671875,0.77685546875,0.77734375,0.77783203125,0.7783203125,0.77880859375,0.779296875,0.77978515625,0.7802734375,0.78076171875,0.78125,0.78173828125,0.7822265625,0.78271484375,0.783203125,0.78369140625,0.7841796875,0.78466796875,0.78515625,0.7861328125,0.78662109375,0.787109375,0.78759765625,0.7880859375,0.78857421875,0.7890625,0.78955078125,0.7900390625,0.79052734375,0.791015625,0.79150390625,0.7919921875,0.79248046875,0.79296875,0.79345703125,0.7939453125,0.79443359375,0.794921875,0.79541015625,0.7958984375,0.79638671875,0.796875,0.79736328125,0.7978515625,0.79833984375,0.798828125,0.79931640625,0.7998046875,0.80029296875,0.80078125,0.80126953125,0.8017578125,0.80224609375,0.802734375,0.80322265625,0.8037109375,0.80419921875,0.8046875,0.80517578125,0.8056640625,0.806640625,0.80712890625,0.8076171875,0.80810546875,0.80859375,0.80908203125,0.8095703125,0.81005859375,0.810546875,0.81103515625,0.8115234375,0.81201171875,0.8125,0.81298828125,0.8134765625,0.81396484375,0.814453125,0.81494140625,0.8154296875,0.81591796875,0.81640625,0.81689453125,0.8173828125,0.81787109375,0.818359375,0.81884765625,0.8193359375,0.81982421875,0.8203125,0.82080078125,0.8212890625,0.82177734375,0.822265625,0.82275390625,0.8232421875,0.82373046875,0.82421875,0.82470703125,0.8251953125,0.82568359375,0.826171875,0.8271484375,0.82763671875,0.828125,0.82861328125,0.8291015625,0.82958984375,0.830078125,0.83056640625,0.8310546875,0.83154296875,0.83203125,0.83251953125,0.8330078125,0.83349609375,0.833984375,0.83447265625,0.8349609375,0.83544921875,0.8359375,0.83642578125,0.8369140625,0.83740234375,0.837890625,0.83837890625,0.8388671875,0.83935546875,0.83984375,0.84033203125,0.8408203125,0.84130859375,0.841796875,0.84228515625,0.8427734375,0.84326171875,0.84375,0.84423828125,0.8447265625,0.84521484375,0.845703125,0.84619140625,0.8466796875,0.84765625,0.84814453125,0.8486328125,0.84912109375,0.849609375,0.85009765625,0.8505859375,0.85107421875,0.8515625,0.85205078125,0.8525390625,0.85302734375,0.853515625,0.85400390625,0.8544921875,0.85498046875,0.85546875,0.85595703125,0.8564453125,0.85693359375,0.857421875,0.85791015625,0.8583984375,0.85888671875,0.859375,0.85986328125,0.8603515625,0.86083984375,0.861328125,0.86181640625,0.8623046875,0.86279296875,0.86328125,0.86376953125,0.8642578125,0.86474609375,0.865234375,0.86572265625,0.8662109375,0.86669921875,0.86767578125,0.8681640625,0.86865234375,0.869140625,0.86962890625,0.8701171875,0.87060546875,0.87109375,0.87158203125,0.8720703125,0.87255859375,0.873046875,0.87353515625,0.8740234375,0.87451171875,0.875,0.87548828125,0.8759765625,0.87646484375,0.876953125,0.87744140625,0.8779296875,0.87841796875,0.87890625,0.87939453125,0.8798828125,0.88037109375,0.880859375,0.88134765625,0.8818359375,0.88232421875,0.8828125,0.88330078125,0.8837890625,0.88427734375,0.884765625,0.88525390625,0.8857421875,0.88623046875,0.88671875,0.88720703125,0.88818359375,0.888671875,0.88916015625,0.8896484375,0.89013671875,0.890625,0.89111328125,0.8916015625,0.89208984375,0.892578125,0.89306640625,0.8935546875,0.89404296875,0.89453125,0.89501953125,0.8955078125,0.89599609375,0.896484375,0.89697265625,0.8974609375,0.89794921875,0.8984375,0.89892578125,0.8994140625,0.89990234375,0.900390625,0.90087890625,0.9013671875,0.90185546875,0.90234375,0.90283203125,0.9033203125,0.90380859375,0.904296875,0.90478515625,0.9052734375,0.90576171875,0.90625,0.90673828125,0.9072265625,0.90771484375,0.90869140625,0.9091796875,0.90966796875,0.91015625,0.91064453125,0.9111328125,0.91162109375,0.912109375,0.91259765625,0.9130859375,0.91357421875,0.9140625,0.91455078125,0.9150390625,0.91552734375,0.916015625,0.91650390625,0.9169921875,0.91748046875,0.91796875,0.91845703125,0.9189453125,0.91943359375,0.919921875,0.92041015625,0.9208984375,0.92138671875,0.921875,0.92236328125,0.9228515625,0.92333984375,0.923828125,0.92431640625,0.9248046875,0.92529296875,0.92578125,0.92626953125,0.9267578125,0.92724609375,0.927734375,0.92822265625,0.92919921875,0.9296875,0.93017578125,0.9306640625,0.93115234375,0.931640625,0.93212890625,0.9326171875,0.93310546875,0.93359375,0.93408203125,0.9345703125,0.93505859375,0.935546875,0.93603515625,0.9365234375,0.93701171875,0.9375,0.93798828125,0.9384765625,0.93896484375,0.939453125,0.93994140625,0.9404296875,0.94091796875,0.94140625,0.94189453125,0.9423828125,0.94287109375,0.943359375,0.94384765625,0.9443359375,0.94482421875,0.9453125,0.94580078125,0.9462890625,0.94677734375,0.947265625,0.94775390625,0.9482421875,0.94873046875,0.94970703125,0.9501953125,0.95068359375,0.951171875,0.95166015625,0.9521484375,0.95263671875,0.953125,0.95361328125,0.9541015625,0.95458984375,0.955078125,0.95556640625,0.9560546875,0.95654296875,0.95703125,0.95751953125,0.9580078125,0.95849609375,0.958984375,0.95947265625,0.9599609375,0.96044921875,0.9609375,0.96142578125,0.9619140625,0.96240234375,0.962890625,0.96337890625,0.9638671875,0.96435546875,0.96484375,0.96533203125,0.9658203125,0.96630859375,0.966796875,0.96728515625,0.9677734375,0.96826171875,0.96875,0.9697265625,0.97021484375,0.970703125,0.97119140625,0.9716796875,0.97216796875,0.97265625,0.97314453125,0.9736328125,0.97412109375,0.974609375,0.97509765625,0.9755859375,0.97607421875,0.9765625,0.97705078125,0.9775390625,0.97802734375,0.978515625,0.97900390625,0.9794921875,0.97998046875,0.98046875,0.98095703125,0.9814453125,0.98193359375,0.982421875,0.98291015625,0.9833984375,0.98388671875,0.984375,0.98486328125,0.9853515625,0.98583984375,0.986328125,0.98681640625,0.9873046875,0.98779296875,0.98828125,0.98876953125,0.9892578125,0.990234375,0.99072265625,0.9912109375,0.99169921875,0.9921875,0.99267578125,0.9931640625,0.99365234375,0.994140625,0.99462890625,0.9951171875,0.99560546875,0.99609375,0.99658203125,0.9970703125,0.99755859375,0.998046875,0.99853515625,0.9990234375,0.99951171875,1.0],\"coloraxis\":\"coloraxis\",\"symbol\":\"circle\"},\"mode\":\"markers\",\"name\":\"\",\"showlegend\":false,\"x\":[1.0,0.20928392456811287,0.08985010330124402,0.05006813486307091,0.031869532726713265,0.023033979515583104,0.01723152666051255,0.013802804518879951,0.011341157853092443,0.00967075475845092,0.008703679282605828,0.007868477735285068,0.006989318211789529,0.0058903688074201065,0.00527495714097323,0.004527671546002022,0.004000175831904699,0.0036485120225064837,0.0032528902369334915,0.0028572684513604994,0.002593520594311838,0.0023737307134379534,0.0022858147610883995,0.002153940832564069,0.0021099828563892918,0.002022066904039738,0.001978108927864961,0.0018901929755154073,0.0018462349993406304,0.0017143610708162996,0.0017143610708162996,0.0017143610708162996,0.0016704030946415227,0.0016704030946415227,0.0016704030946415227,0.0015824871422919688,0.0015824871422919688,0.001494571189942415,0.001450613213767638,0.001450613213767638,0.0013626972614180844,0.0013626972614180844,0.0013626972614180844,0.0013187392852433075,0.0013187392852433075,0.0013187392852433075,0.0013187392852433075,0.0013187392852433075,0.0013187392852433075,0.0013187392852433075,0.0012747813090685305,0.0012747813090685305,0.0012747813090685305,0.0012747813090685305,0.0012308233328937536,0.0012308233328937536,0.0012308233328937536,0.0012308233328937536,0.0012308233328937536,0.0012308233328937536,0.0012308233328937536,0.0011429073805441997,0.0011429073805441997,0.0011429073805441997,0.0010989494043694228,0.0010989494043694228,0.0010989494043694228,0.0010989494043694228,0.0010989494043694228,0.0010989494043694228,0.0010549914281946459,0.0010549914281946459,0.0010549914281946459,0.0010549914281946459,0.001011033452019869,0.001011033452019869,0.001011033452019869,0.001011033452019869,0.001011033452019869,0.001011033452019869,0.001011033452019869,0.001011033452019869,0.001011033452019869,0.001011033452019869,0.001011033452019869,0.001011033452019869,0.001011033452019869,0.001011033452019869,0.001011033452019869,0.001011033452019869,0.001011033452019869,0.001011033452019869,0.001011033452019869,0.001011033452019869,0.001011033452019869,0.001011033452019869,0.001011033452019869,0.001011033452019869,0.001011033452019869,0.001011033452019869,0.0009670754758450921,0.0009670754758450921,0.0009670754758450921,0.0009670754758450921,0.0009670754758450921,0.0009231174996703152,0.0009231174996703152,0.0009231174996703152,0.0009231174996703152,0.0009231174996703152,0.0009231174996703152,0.0008791595234955383,0.0008791595234955383,0.0008791595234955383,0.0008791595234955383,0.0008791595234955383,0.0008791595234955383,0.0008791595234955383,0.0008791595234955383,0.0008791595234955383,0.0008791595234955383,0.0008791595234955383,0.0008791595234955383,0.0008791595234955383,0.0008791595234955383,0.0008791595234955383,0.0008791595234955383,0.0008791595234955383,0.0008791595234955383,0.0008352015473207613,0.0008352015473207613,0.0008352015473207613,0.0008352015473207613,0.0008352015473207613,0.0008352015473207613,0.0008352015473207613,0.0008352015473207613,0.0008352015473207613,0.0008352015473207613,0.0008352015473207613,0.0008352015473207613,0.0008352015473207613,0.0008352015473207613,0.0008352015473207613,0.0008352015473207613,0.0008352015473207613,0.0008352015473207613,0.0007912435711459844,0.0007912435711459844,0.0007912435711459844,0.0007912435711459844,0.0007912435711459844,0.0007912435711459844,0.0007912435711459844,0.0007912435711459844,0.0007912435711459844,0.0007472855949712075,0.0007472855949712075,0.0007472855949712075,0.0007472855949712075,0.0007472855949712075,0.0007472855949712075,0.0007472855949712075,0.0007472855949712075,0.0007472855949712075,0.0007472855949712075,0.0007472855949712075,0.0007033276187964307,0.0007033276187964307,0.0007033276187964307,0.0007033276187964307,0.0007033276187964307,0.0007033276187964307,0.0007033276187964307,0.0007033276187964307,0.0007033276187964307,0.0007033276187964307,0.0007033276187964307,0.0007033276187964307,0.0007033276187964307,0.0006593696426216537,0.0006593696426216537,0.0006593696426216537,0.0006593696426216537,0.0006593696426216537,0.0006593696426216537,0.0006593696426216537,0.0006593696426216537,0.0006593696426216537,0.0006593696426216537,0.0006593696426216537,0.0006593696426216537,0.0006593696426216537,0.0006593696426216537,0.0006593696426216537,0.0006593696426216537,0.0006593696426216537,0.0006593696426216537,0.0006593696426216537,0.0006593696426216537,0.0006593696426216537,0.0006593696426216537,0.0006593696426216537,0.0006593696426216537,0.0006593696426216537,0.0006593696426216537,0.0006593696426216537,0.0006593696426216537,0.0006593696426216537,0.0006593696426216537,0.0006593696426216537,0.0006593696426216537,0.0006154116664468768,0.0006154116664468768,0.0006154116664468768,0.0006154116664468768,0.0006154116664468768,0.0006154116664468768,0.0006154116664468768,0.0006154116664468768,0.0006154116664468768,0.0006154116664468768,0.0006154116664468768,0.0006154116664468768,0.0006154116664468768,0.0006154116664468768,0.0006154116664468768,0.0006154116664468768,0.0006154116664468768,0.0006154116664468768,0.0006154116664468768,0.0006154116664468768,0.0006154116664468768,0.0006154116664468768,0.0006154116664468768,0.0006154116664468768,0.0006154116664468768,0.0006154116664468768,0.0006154116664468768,0.0006154116664468768,0.0006154116664468768,0.0006154116664468768,0.0006154116664468768,0.0006154116664468768,0.0006154116664468768,0.0006154116664468768,0.0006154116664468768,0.0006154116664468768,0.0006154116664468768,0.0006154116664468768,0.0006154116664468768,0.0006154116664468768,0.0006154116664468768,0.0006154116664468768,0.0006154116664468768,0.0006154116664468768,0.0006154116664468768,0.0006154116664468768,0.0006154116664468768,0.0006154116664468768,0.0006154116664468768,0.0006154116664468768,0.0006154116664468768,0.0006154116664468768,0.0006154116664468768,0.0006154116664468768,0.0006154116664468768,0.0006154116664468768,0.0006154116664468768,0.0006154116664468768,0.0006154116664468768,0.0006154116664468768,0.0006154116664468768,0.0006154116664468768,0.0006154116664468768,0.0006154116664468768,0.0006154116664468768,0.0006154116664468768,0.0006154116664468768,0.0006154116664468768,0.0006154116664468768,0.0006154116664468768,0.0006154116664468768,0.0006154116664468768,0.0006154116664468768,0.0006154116664468768,0.0006154116664468768,0.0006154116664468768,0.0006154116664468768,0.0006154116664468768,0.0006154116664468768,0.0006154116664468768,0.0006154116664468768,0.0006154116664468768,0.0006154116664468768,0.0006154116664468768,0.0006154116664468768,0.0006154116664468768,0.0006154116664468768,0.0006154116664468768,0.0006154116664468768,0.0006154116664468768,0.0006154116664468768,0.0006154116664468768,0.0006154116664468768,0.0006154116664468768,0.0006154116664468768,0.0006154116664468768,0.0006154116664468768,0.0006154116664468768,0.0006154116664468768,0.0006154116664468768,0.0006154116664468768,0.0006154116664468768,0.0006154116664468768,0.0006154116664468768,0.0006154116664468768,0.0006154116664468768,0.0006154116664468768,0.0006154116664468768,0.0006154116664468768,0.0006154116664468768,0.0006154116664468768,0.0006154116664468768,0.0006154116664468768,0.0006154116664468768,0.0006154116664468768,0.0006154116664468768,0.0006154116664468768,0.0006154116664468768,0.0006154116664468768,0.0006154116664468768,0.0006154116664468768,0.0006154116664468768,0.0006154116664468768,0.0006154116664468768,0.0006154116664468768,0.0006154116664468768,0.0006154116664468768,0.0006154116664468768,0.0006154116664468768,0.0006154116664468768,0.0006154116664468768,0.0006154116664468768,0.0006154116664468768,0.0006154116664468768,0.0006154116664468768,0.0006154116664468768,0.0006154116664468768,0.0006154116664468768,0.0006154116664468768,0.0006154116664468768,0.0006154116664468768,0.0006154116664468768,0.0006154116664468768,0.0006154116664468768,0.0006154116664468768,0.0006154116664468768,0.0006154116664468768,0.0006154116664468768,0.0006154116664468768,0.0006154116664468768,0.0006154116664468768,0.0006154116664468768,0.0006154116664468768,0.0006154116664468768,0.0006154116664468768,0.0006154116664468768,0.0006154116664468768,0.0006154116664468768,0.0006154116664468768,0.0006154116664468768,0.0006154116664468768,0.0006154116664468768,0.0006154116664468768,0.0006154116664468768,0.0006154116664468768,0.0006154116664468768,0.0006154116664468768,0.0006154116664468768,0.0006154116664468768,0.0006154116664468768,0.0006154116664468768,0.0006154116664468768,0.0005714536902720999,0.0005714536902720999,0.0005714536902720999,0.0005714536902720999,0.0005714536902720999,0.0005714536902720999,0.0005714536902720999,0.0005714536902720999,0.0005714536902720999,0.0005714536902720999,0.0005714536902720999,0.0005714536902720999,0.0005714536902720999,0.0005714536902720999,0.0005714536902720999,0.0005714536902720999,0.0005714536902720999,0.0005714536902720999,0.0005714536902720999,0.0005714536902720999,0.0005714536902720999,0.0005714536902720999,0.0005714536902720999,0.0005714536902720999,0.0005714536902720999,0.0005714536902720999,0.0005714536902720999,0.0005714536902720999,0.0005714536902720999,0.0005714536902720999,0.0005714536902720999,0.0005714536902720999,0.0005714536902720999,0.0005714536902720999,0.0005714536902720999,0.0005714536902720999,0.0005714536902720999,0.0005714536902720999,0.0005714536902720999,0.0005714536902720999,0.0005714536902720999,0.0005714536902720999,0.0005714536902720999,0.0005714536902720999,0.0005714536902720999,0.0005714536902720999,0.0005714536902720999,0.0005714536902720999,0.0005714536902720999,0.0005714536902720999,0.0005714536902720999,0.0005714536902720999,0.0005714536902720999,0.0005714536902720999,0.0005714536902720999,0.0005714536902720999,0.0005714536902720999,0.0005714536902720999,0.0005714536902720999,0.0005714536902720999,0.0005714536902720999,0.0005714536902720999,0.0005714536902720999,0.0005714536902720999,0.0005714536902720999,0.0005714536902720999,0.0005714536902720999,0.0005714536902720999,0.0005714536902720999,0.0005714536902720999,0.0005714536902720999,0.0005714536902720999,0.0005714536902720999,0.0005714536902720999,0.0005714536902720999,0.0005714536902720999,0.0005714536902720999,0.0005714536902720999,0.0005714536902720999,0.0005714536902720999,0.0005714536902720999,0.0005714536902720999,0.0005714536902720999,0.0005714536902720999,0.0005714536902720999,0.0005714536902720999,0.0005714536902720999,0.0005714536902720999,0.0005714536902720999,0.0005714536902720999,0.0005714536902720999,0.0005274957140973229,0.0005274957140973229,0.0005274957140973229,0.0005274957140973229,0.0005274957140973229,0.0005274957140973229,0.0005274957140973229,0.0005274957140973229,0.0005274957140973229,0.0005274957140973229,0.0005274957140973229,0.0005274957140973229,0.0005274957140973229,0.0005274957140973229,0.0005274957140973229,0.0005274957140973229,0.0005274957140973229,0.0005274957140973229,0.0005274957140973229,0.0005274957140973229,0.0005274957140973229,0.0005274957140973229,0.0005274957140973229,0.0005274957140973229,0.0005274957140973229,0.0005274957140973229,0.0005274957140973229,0.0005274957140973229,0.0005274957140973229,0.0005274957140973229,0.0005274957140973229,0.0005274957140973229,0.0005274957140973229,0.0005274957140973229,0.0005274957140973229,0.0005274957140973229,0.0005274957140973229,0.0005274957140973229,0.0005274957140973229,0.0005274957140973229,0.0005274957140973229,0.0005274957140973229,0.0005274957140973229,0.0005274957140973229,0.0005274957140973229,0.0005274957140973229,0.0005274957140973229,0.0005274957140973229,0.0005274957140973229,0.0005274957140973229,0.0005274957140973229,0.0005274957140973229,0.0005274957140973229,0.0005274957140973229,0.0005274957140973229,0.0005274957140973229,0.0005274957140973229,0.0005274957140973229,0.0005274957140973229,0.0005274957140973229,0.0005274957140973229,0.0005274957140973229,0.0005274957140973229,0.0005274957140973229,0.0005274957140973229,0.0005274957140973229,0.0005274957140973229,0.0005274957140973229,0.0005274957140973229,0.0005274957140973229,0.0005274957140973229,0.0005274957140973229,0.0005274957140973229,0.0005274957140973229,0.0005274957140973229,0.0005274957140973229,0.0005274957140973229,0.0005274957140973229,0.0005274957140973229,0.0005274957140973229,0.0005274957140973229,0.0005274957140973229,0.0005274957140973229,0.0005274957140973229,0.0005274957140973229,0.0005274957140973229,0.0005274957140973229,0.0005274957140973229,0.0005274957140973229,0.0005274957140973229,0.0005274957140973229,0.0005274957140973229,0.0005274957140973229,0.0005274957140973229,0.0005274957140973229,0.0005274957140973229,0.0005274957140973229,0.0005274957140973229,0.0005274957140973229,0.0005274957140973229,0.0005274957140973229,0.0005274957140973229,0.0005274957140973229,0.0005274957140973229,0.0005274957140973229,0.0005274957140973229,0.0005274957140973229,0.0005274957140973229,0.0005274957140973229,0.0005274957140973229,0.0005274957140973229,0.0005274957140973229,0.0005274957140973229,0.0005274957140973229,0.0005274957140973229,0.0005274957140973229,0.0005274957140973229,0.0005274957140973229,0.0005274957140973229,0.0005274957140973229,0.0005274957140973229,0.0005274957140973229,0.0005274957140973229,0.0005274957140973229,0.0005274957140973229,0.0005274957140973229,0.0005274957140973229,0.0005274957140973229,0.0005274957140973229,0.0005274957140973229,0.0005274957140973229,0.0005274957140973229,0.0005274957140973229,0.0005274957140973229,0.0005274957140973229,0.0005274957140973229,0.0005274957140973229,0.0005274957140973229,0.0005274957140973229,0.0005274957140973229,0.0005274957140973229,0.0005274957140973229,0.0005274957140973229,0.0005274957140973229,0.0005274957140973229,0.0005274957140973229,0.0005274957140973229,0.0005274957140973229,0.00048353773792254607,0.00048353773792254607,0.00048353773792254607,0.00048353773792254607,0.00048353773792254607,0.00048353773792254607,0.00048353773792254607,0.00048353773792254607,0.00048353773792254607,0.00048353773792254607,0.00048353773792254607,0.00048353773792254607,0.00048353773792254607,0.00048353773792254607,0.00048353773792254607,0.00048353773792254607,0.00048353773792254607,0.00048353773792254607,0.00048353773792254607,0.00048353773792254607,0.00048353773792254607,0.00048353773792254607,0.00048353773792254607,0.00048353773792254607,0.00048353773792254607,0.00048353773792254607,0.00048353773792254607,0.00048353773792254607,0.00048353773792254607,0.00048353773792254607,0.00048353773792254607,0.00048353773792254607,0.00048353773792254607,0.00048353773792254607,0.00048353773792254607,0.00048353773792254607,0.00048353773792254607,0.00048353773792254607,0.00048353773792254607,0.00048353773792254607,0.00048353773792254607,0.00048353773792254607,0.00048353773792254607,0.00048353773792254607,0.00048353773792254607,0.00048353773792254607,0.00048353773792254607,0.00048353773792254607,0.00048353773792254607,0.00048353773792254607,0.00048353773792254607,0.00048353773792254607,0.00048353773792254607,0.00048353773792254607,0.00048353773792254607,0.00048353773792254607,0.00048353773792254607,0.00048353773792254607,0.00048353773792254607,0.00048353773792254607,0.00048353773792254607,0.00048353773792254607,0.00048353773792254607,0.00048353773792254607,0.00048353773792254607,0.00048353773792254607,0.00048353773792254607,0.00048353773792254607,0.00048353773792254607,0.00048353773792254607,0.00048353773792254607,0.00048353773792254607,0.00048353773792254607,0.00048353773792254607,0.00048353773792254607,0.00048353773792254607,0.00048353773792254607,0.00043957976174776914,0.00043957976174776914,0.00043957976174776914,0.00043957976174776914,0.00043957976174776914,0.00043957976174776914,0.00043957976174776914,0.00043957976174776914,0.00043957976174776914,0.00043957976174776914,0.00043957976174776914,0.00043957976174776914,0.00043957976174776914,0.00043957976174776914,0.00043957976174776914,0.00043957976174776914,0.00043957976174776914,0.00043957976174776914,0.00043957976174776914,0.00043957976174776914,0.00043957976174776914,0.00043957976174776914,0.00043957976174776914,0.00043957976174776914,0.00043957976174776914,0.00043957976174776914,0.00043957976174776914,0.00043957976174776914,0.00043957976174776914,0.00043957976174776914,0.00043957976174776914,0.00043957976174776914,0.00043957976174776914,0.00043957976174776914,0.00043957976174776914,0.00043957976174776914,0.00043957976174776914,0.00043957976174776914,0.00043957976174776914,0.00043957976174776914,0.00043957976174776914,0.00043957976174776914,0.00043957976174776914,0.00043957976174776914,0.00043957976174776914,0.00043957976174776914,0.00043957976174776914,0.00043957976174776914,0.00043957976174776914,0.00043957976174776914,0.00043957976174776914,0.00043957976174776914,0.00043957976174776914,0.00043957976174776914,0.00043957976174776914,0.00043957976174776914,0.00043957976174776914,0.00043957976174776914,0.00043957976174776914,0.00043957976174776914,0.00043957976174776914,0.00043957976174776914,0.00043957976174776914,0.00043957976174776914,0.00043957976174776914,0.00043957976174776914,0.00043957976174776914,0.00043957976174776914,0.00043957976174776914,0.00043957976174776914,0.00043957976174776914,0.00043957976174776914,0.00043957976174776914,0.00043957976174776914,0.00043957976174776914,0.00043957976174776914,0.00043957976174776914,0.00043957976174776914,0.00043957976174776914,0.00043957976174776914,0.00043957976174776914,0.00043957976174776914,0.00043957976174776914,0.00043957976174776914,0.00043957976174776914,0.00043957976174776914,0.00043957976174776914,0.00043957976174776914,0.00043957976174776914,0.00043957976174776914,0.00043957976174776914,0.00043957976174776914,0.00043957976174776914,0.00043957976174776914,0.00043957976174776914,0.00043957976174776914,0.00043957976174776914,0.00043957976174776914,0.00043957976174776914,0.00043957976174776914,0.00043957976174776914,0.00043957976174776914,0.00043957976174776914,0.00043957976174776914,0.00043957976174776914,0.00043957976174776914,0.00043957976174776914,0.00043957976174776914,0.00043957976174776914,0.00043957976174776914,0.00043957976174776914,0.00043957976174776914,0.00043957976174776914,0.00043957976174776914,0.00043957976174776914,0.00043957976174776914,0.00043957976174776914,0.00043957976174776914,0.00043957976174776914,0.00043957976174776914,0.00043957976174776914,0.00043957976174776914,0.00043957976174776914,0.00043957976174776914,0.00043957976174776914,0.00043957976174776914,0.00043957976174776914,0.00043957976174776914,0.00043957976174776914,0.00043957976174776914,0.00043957976174776914,0.00043957976174776914,0.00043957976174776914,0.00043957976174776914,0.00043957976174776914,0.00043957976174776914,0.00043957976174776914,0.00043957976174776914,0.00043957976174776914,0.00043957976174776914,0.00043957976174776914,0.00043957976174776914,0.00043957976174776914,0.00043957976174776914,0.00043957976174776914,0.00043957976174776914,0.00043957976174776914,0.00043957976174776914,0.00043957976174776914,0.00043957976174776914,0.00043957976174776914,0.00043957976174776914,0.00043957976174776914,0.00043957976174776914,0.00043957976174776914,0.00043957976174776914,0.00043957976174776914,0.00043957976174776914,0.00043957976174776914,0.00043957976174776914,0.00043957976174776914,0.00043957976174776914,0.00043957976174776914,0.00043957976174776914,0.00043957976174776914,0.00043957976174776914,0.00043957976174776914,0.00043957976174776914,0.00043957976174776914,0.00043957976174776914,0.00043957976174776914,0.00043957976174776914,0.00043957976174776914,0.00043957976174776914,0.00043957976174776914,0.00043957976174776914,0.00043957976174776914,0.00043957976174776914,0.00043957976174776914,0.00043957976174776914,0.00043957976174776914,0.00043957976174776914,0.0003956217855729922,0.0003956217855729922,0.0003956217855729922,0.0003956217855729922,0.0003956217855729922,0.0003956217855729922,0.0003956217855729922,0.0003956217855729922,0.0003956217855729922,0.0003956217855729922,0.0003956217855729922,0.0003956217855729922,0.0003956217855729922,0.0003956217855729922,0.0003956217855729922,0.0003956217855729922,0.0003956217855729922,0.0003956217855729922,0.0003956217855729922,0.00035166380939821533,0.00035166380939821533,0.00035166380939821533,0.00035166380939821533,0.00035166380939821533,0.00035166380939821533,0.00035166380939821533,0.00035166380939821533,0.00035166380939821533,0.00035166380939821533,0.00035166380939821533,0.00035166380939821533,0.00035166380939821533,0.00035166380939821533,0.00035166380939821533,0.00035166380939821533,0.00035166380939821533,0.00035166380939821533,0.00035166380939821533,0.00035166380939821533,0.00035166380939821533,0.00035166380939821533,0.00035166380939821533,0.00035166380939821533,0.00035166380939821533,0.00035166380939821533,0.00035166380939821533,0.00035166380939821533,0.00035166380939821533,0.00035166380939821533,0.00035166380939821533,0.00035166380939821533,0.00035166380939821533,0.00035166380939821533,0.00035166380939821533,0.00035166380939821533,0.00035166380939821533,0.00035166380939821533,0.00035166380939821533,0.00035166380939821533,0.00035166380939821533,0.00035166380939821533,0.00035166380939821533,0.00035166380939821533,0.00035166380939821533,0.00035166380939821533,0.00035166380939821533,0.00035166380939821533,0.00035166380939821533,0.00035166380939821533,0.00035166380939821533,0.00035166380939821533,0.00035166380939821533,0.00035166380939821533,0.00035166380939821533,0.00035166380939821533,0.00035166380939821533,0.00035166380939821533,0.00035166380939821533,0.00035166380939821533,0.00035166380939821533,0.00035166380939821533,0.00035166380939821533,0.00035166380939821533,0.00035166380939821533,0.00035166380939821533,0.00035166380939821533,0.00035166380939821533,0.00035166380939821533,0.00035166380939821533,0.00035166380939821533,0.00035166380939821533,0.00035166380939821533,0.00035166380939821533,0.00035166380939821533,0.00035166380939821533,0.00035166380939821533,0.00035166380939821533,0.00035166380939821533,0.00035166380939821533,0.00035166380939821533,0.00035166380939821533,0.00035166380939821533,0.00035166380939821533,0.00035166380939821533,0.00035166380939821533,0.00035166380939821533,0.00035166380939821533,0.00035166380939821533,0.00035166380939821533,0.00035166380939821533,0.00035166380939821533,0.00035166380939821533,0.00035166380939821533,0.00035166380939821533,0.00035166380939821533,0.00035166380939821533,0.00035166380939821533,0.00035166380939821533,0.00035166380939821533,0.00035166380939821533,0.00035166380939821533,0.00035166380939821533,0.00035166380939821533,0.00035166380939821533,0.00035166380939821533,0.00035166380939821533,0.00035166380939821533,0.00035166380939821533,0.00035166380939821533,0.00035166380939821533,0.00035166380939821533,0.00035166380939821533,0.00035166380939821533,0.00035166380939821533,0.00035166380939821533,0.00035166380939821533,0.00035166380939821533,0.00035166380939821533,0.00035166380939821533,0.00035166380939821533,0.00035166380939821533,0.00035166380939821533,0.00035166380939821533,0.00035166380939821533,0.00035166380939821533,0.00035166380939821533,0.00035166380939821533,0.00035166380939821533,0.00035166380939821533,0.00035166380939821533,0.00035166380939821533,0.00035166380939821533,0.00035166380939821533,0.00035166380939821533,0.00035166380939821533,0.00035166380939821533,0.00035166380939821533,0.00035166380939821533,0.00035166380939821533,0.00035166380939821533,0.0003077058332234384,0.0003077058332234384,0.0003077058332234384,0.00026374785704866147,0.00026374785704866147,0.00026374785704866147,0.00026374785704866147,0.00026374785704866147,0.00026374785704866147,0.00026374785704866147,0.00026374785704866147,0.00026374785704866147,0.00026374785704866147,0.00026374785704866147,0.00021978988087388457,0.00021978988087388457,0.00021978988087388457,0.00021978988087388457,0.00021978988087388457,0.00021978988087388457,0.00021978988087388457,0.00021978988087388457,0.00021978988087388457,0.00021978988087388457,0.00021978988087388457,0.00021978988087388457,0.00017583190469910767,0.00017583190469910767,0.00017583190469910767,0.00017583190469910767,0.00017583190469910767,0.00017583190469910767,0.00017583190469910767,0.00017583190469910767,0.00017583190469910767,0.00017583190469910767,0.00017583190469910767,0.00017583190469910767,0.00017583190469910767,0.00017583190469910767,0.00017583190469910767,0.00017583190469910767,0.00017583190469910767,0.00017583190469910767,0.00017583190469910767,0.00017583190469910767,0.00017583190469910767,0.00017583190469910767,0.00017583190469910767,0.00017583190469910767,0.00017583190469910767,0.00017583190469910767,0.00017583190469910767,0.00017583190469910767,0.00017583190469910767,0.00017583190469910767,0.00017583190469910767,0.00017583190469910767,0.00017583190469910767,0.00017583190469910767,0.00017583190469910767,0.00017583190469910767,0.00017583190469910767,0.00017583190469910767,0.00017583190469910767,0.00017583190469910767,0.00017583190469910767,0.00017583190469910767,0.00017583190469910767,0.00017583190469910767,0.00017583190469910767,0.00017583190469910767,0.00017583190469910767,0.00017583190469910767,0.00017583190469910767,0.00017583190469910767,0.00017583190469910767,0.00017583190469910767,0.00017583190469910767,0.00017583190469910767,0.00017583190469910767,0.00017583190469910767,0.00017583190469910767,0.00017583190469910767,0.00017583190469910767,0.00017583190469910767,0.00017583190469910767,0.00017583190469910767,0.00017583190469910767,0.00017583190469910767,0.00017583190469910767,0.00017583190469910767,0.00017583190469910767,0.00017583190469910767,0.00017583190469910767,0.00017583190469910767,0.00017583190469910767,0.00017583190469910767,0.00017583190469910767,0.00017583190469910767,0.00017583190469910767,0.00017583190469910767,0.00017583190469910767,0.00017583190469910767,0.00017583190469910767,0.00017583190469910767,0.00017583190469910767,0.00017583190469910767,0.00017583190469910767,0.00017583190469910767,0.00017583190469910767,0.00017583190469910767,0.00017583190469910767,0.00017583190469910767,0.00017583190469910767,0.00017583190469910767,0.00017583190469910767,0.00017583190469910767,0.00017583190469910767,0.00017583190469910767,0.00017583190469910767,0.00017583190469910767,0.00017583190469910767,0.00017583190469910767,0.00017583190469910767,0.00017583190469910767,0.00017583190469910767,0.00017583190469910767,0.00017583190469910767,0.00017583190469910767,0.00017583190469910767,0.00017583190469910767,0.00017583190469910767,0.00017583190469910767,0.00017583190469910767,0.00017583190469910767,0.00017583190469910767,0.00017583190469910767,0.00017583190469910767,0.00017583190469910767,0.00017583190469910767,0.00017583190469910767,0.00017583190469910767,0.00017583190469910767,0.00017583190469910767,0.00017583190469910767,0.00017583190469910767,0.00017583190469910767,0.00017583190469910767,0.00017583190469910767,0.00017583190469910767,0.00017583190469910767,0.00017583190469910767,0.00017583190469910767,0.00017583190469910767,0.00017583190469910767,0.00017583190469910767,0.00017583190469910767,0.00017583190469910767,0.00017583190469910767,0.00017583190469910767,0.00017583190469910767,0.00017583190469910767,0.00017583190469910767,0.00017583190469910767,0.00017583190469910767,0.00017583190469910767,0.00017583190469910767,0.00017583190469910767,0.00017583190469910767,0.00017583190469910767,0.00017583190469910767,0.00017583190469910767,0.00017583190469910767,0.00017583190469910767,0.00017583190469910767,0.00017583190469910767,0.00017583190469910767,0.00017583190469910767,0.00017583190469910767,0.00017583190469910767,0.00017583190469910767,0.00017583190469910767,0.00017583190469910767,0.00017583190469910767,0.00017583190469910767,0.00017583190469910767,0.00017583190469910767,0.00017583190469910767,0.00017583190469910767,0.00017583190469910767,0.00017583190469910767,0.00017583190469910767,0.00017583190469910767,0.00017583190469910767,0.00017583190469910767,0.00017583190469910767,0.00017583190469910767,0.00017583190469910767,0.00017583190469910767,0.00017583190469910767,0.00017583190469910767,0.00017583190469910767,0.00017583190469910767,0.00017583190469910767,0.00017583190469910767,0.00017583190469910767,0.00017583190469910767,0.00017583190469910767,0.00017583190469910767,0.00017583190469910767,0.00017583190469910767,0.00017583190469910767,0.00017583190469910767,0.00017583190469910767,0.00017583190469910767,0.00017583190469910767,0.00017583190469910767,0.00017583190469910767,0.00017583190469910767,0.00017583190469910767,0.00017583190469910767,0.00017583190469910767,0.00017583190469910767,0.00017583190469910767,0.00017583190469910767,0.00017583190469910767,0.00017583190469910767,0.00017583190469910767,0.00017583190469910767,0.00017583190469910767,0.00017583190469910767,0.00017583190469910767,0.00017583190469910767,0.00017583190469910767,0.00017583190469910767,0.00017583190469910767,0.00017583190469910767,0.00017583190469910767,0.00017583190469910767,0.00017583190469910767,0.00017583190469910767,0.00017583190469910767,0.00017583190469910767,0.00017583190469910767,0.00017583190469910767,0.00017583190469910767,0.00017583190469910767,0.00017583190469910767,0.00017583190469910767,0.00017583190469910767,0.00017583190469910767,0.00017583190469910767,0.00017583190469910767,0.00017583190469910767,0.00017583190469910767,0.00017583190469910767,0.00017583190469910767,0.00017583190469910767,0.00017583190469910767,0.00017583190469910767,0.00017583190469910767,0.00017583190469910767,0.00017583190469910767,0.00017583190469910767,0.00017583190469910767,0.00017583190469910767,0.00017583190469910767,0.00017583190469910767,0.00017583190469910767,0.00017583190469910767,0.00017583190469910767,0.00017583190469910767,0.00017583190469910767,0.00017583190469910767,0.00017583190469910767,0.00017583190469910767,0.00017583190469910767,0.00017583190469910767,0.00017583190469910767,0.00017583190469910767,0.00017583190469910767,0.00017583190469910767,0.00017583190469910767,0.00017583190469910767,0.00017583190469910767,0.00017583190469910767,0.00017583190469910767,0.00017583190469910767,0.00017583190469910767,0.00017583190469910767,0.00017583190469910767,0.00017583190469910767,0.00017583190469910767,0.00017583190469910767,0.00017583190469910767,0.00017583190469910767,0.00017583190469910767,0.00017583190469910767,0.00017583190469910767,0.00017583190469910767,0.00017583190469910767,0.00017583190469910767,0.00017583190469910767,0.00017583190469910767,0.00017583190469910767,0.00017583190469910767,0.00017583190469910767,0.00017583190469910767,0.00017583190469910767,0.00017583190469910767,0.00017583190469910767,0.00017583190469910767,0.00017583190469910767,0.00017583190469910767,0.00017583190469910767,0.00017583190469910767,0.00017583190469910767,0.00017583190469910767,0.00017583190469910767,0.00017583190469910767,0.00017583190469910767,0.00017583190469910767,0.00017583190469910767,0.00017583190469910767,0.00017583190469910767,0.00017583190469910767,0.00017583190469910767,0.00017583190469910767,0.00017583190469910767,0.00017583190469910767,0.00017583190469910767,0.00017583190469910767,0.00017583190469910767,0.00017583190469910767,0.00017583190469910767,0.00017583190469910767,0.00017583190469910767,0.00017583190469910767,0.00017583190469910767,0.00017583190469910767,0.00017583190469910767,0.00017583190469910767,0.00017583190469910767,0.00017583190469910767,0.00017583190469910767,0.00017583190469910767,0.00017583190469910767,0.00017583190469910767,0.00017583190469910767,0.00017583190469910767,0.00017583190469910767,0.00017583190469910767,0.00017583190469910767,0.00017583190469910767,0.00017583190469910767,0.00017583190469910767,0.00017583190469910767,0.00017583190469910767,0.00017583190469910767,0.00017583190469910767,0.00017583190469910767,0.00017583190469910767,0.00017583190469910767,0.00017583190469910767,0.00017583190469910767,0.00017583190469910767,0.00017583190469910767,0.00017583190469910767,0.00017583190469910767,0.00017583190469910767,0.00017583190469910767,0.00017583190469910767,0.00017583190469910767,0.00017583190469910767,0.00017583190469910767,0.00017583190469910767,0.00017583190469910767,0.00017583190469910767,0.00017583190469910767,0.00017583190469910767,0.00017583190469910767,0.00017583190469910767,0.00017583190469910767,0.00017583190469910767,0.00017583190469910767,0.00017583190469910767,0.00017583190469910767,0.00017583190469910767,0.00017583190469910767,0.00017583190469910767,0.00017583190469910767,0.00017583190469910767,0.00017583190469910767,0.00017583190469910767,0.00017583190469910767,0.00017583190469910767,0.00017583190469910767,0.00017583190469910767,0.00017583190469910767,0.00017583190469910767,0.00017583190469910767,0.00017583190469910767,0.00017583190469910767,0.00017583190469910767,0.00017583190469910767,0.00017583190469910767,0.00017583190469910767,0.00017583190469910767,0.00017583190469910767,0.00017583190469910767,0.00017583190469910767,0.00017583190469910767,0.00017583190469910767,0.00017583190469910767,0.00017583190469910767,0.00017583190469910767,0.00017583190469910767,0.00017583190469910767,0.00017583190469910767,0.00017583190469910767,0.00017583190469910767,0.00017583190469910767,0.00017583190469910767,0.00017583190469910767,0.00017583190469910767,0.00017583190469910767,0.00017583190469910767,0.00017583190469910767,0.00017583190469910767,0.00017583190469910767,0.00017583190469910767,0.00017583190469910767,0.00017583190469910767,0.00017583190469910767,0.00017583190469910767,0.00017583190469910767,0.00017583190469910767,0.00017583190469910767,0.00017583190469910767,0.00017583190469910767,0.00017583190469910767,0.00017583190469910767,0.00017583190469910767,0.00017583190469910767,0.00017583190469910767,0.00017583190469910767,0.00017583190469910767,0.00017583190469910767,0.00017583190469910767,0.00017583190469910767,0.00017583190469910767,0.00017583190469910767,0.00017583190469910767,0.00017583190469910767,0.00017583190469910767,0.00017583190469910767,0.00017583190469910767,0.00017583190469910767,0.00017583190469910767,0.00017583190469910767,0.00017583190469910767,0.00017583190469910767,0.00017583190469910767,0.00017583190469910767,0.00017583190469910767,0.00017583190469910767,0.00017583190469910767,0.00017583190469910767,0.00017583190469910767,0.00017583190469910767,0.00017583190469910767,0.00017583190469910767,0.00017583190469910767,0.00017583190469910767,0.00017583190469910767,0.00017583190469910767,0.00017583190469910767,0.00017583190469910767,0.00017583190469910767,0.00017583190469910767,0.00017583190469910767,0.00017583190469910767,0.00017583190469910767,0.00017583190469910767,0.00017583190469910767,0.00017583190469910767,0.00017583190469910767,0.00017583190469910767,0.00017583190469910767,0.00017583190469910767,0.00017583190469910767,0.00017583190469910767,0.00017583190469910767,0.00017583190469910767,0.00017583190469910767,0.00017583190469910767,0.00017583190469910767,0.00017583190469910767,0.00017583190469910767,0.00017583190469910767,0.00017583190469910767,0.00017583190469910767,0.00017583190469910767,0.00017583190469910767,0.00017583190469910767,0.00017583190469910767,0.00017583190469910767,0.00017583190469910767,0.00017583190469910767,0.00017583190469910767,0.00017583190469910767,0.00017583190469910767,0.00017583190469910767,0.00017583190469910767,0.00017583190469910767,0.00017583190469910767,0.00017583190469910767,0.00017583190469910767,0.00017583190469910767,0.00017583190469910767,0.00017583190469910767,0.00017583190469910767,0.00017583190469910767,0.00017583190469910767,0.00017583190469910767,0.00017583190469910767,0.00017583190469910767,0.00017583190469910767,0.00017583190469910767,0.00017583190469910767,0.00017583190469910767,0.00017583190469910767,0.00017583190469910767,0.00017583190469910767,0.00017583190469910767,0.00017583190469910767,0.00017583190469910767,0.00017583190469910767,0.00017583190469910767,0.00017583190469910767,0.00017583190469910767,0.00017583190469910767,0.00017583190469910767,0.00017583190469910767,0.00017583190469910767,0.00017583190469910767,0.00017583190469910767,0.00017583190469910767,0.00017583190469910767,0.00017583190469910767,0.00017583190469910767,0.00017583190469910767,0.00017583190469910767,0.00017583190469910767,0.00017583190469910767,0.00017583190469910767,0.00017583190469910767,0.00017583190469910767,0.00017583190469910767,0.00017583190469910767,0.00017583190469910767,0.00017583190469910767,0.00017583190469910767,0.00017583190469910767,0.00017583190469910767,0.00017583190469910767,0.00017583190469910767,0.00017583190469910767,0.00017583190469910767,0.00017583190469910767,0.00017583190469910767,0.00017583190469910767,0.00017583190469910767,0.00017583190469910767,0.00017583190469910767,0.00017583190469910767,0.00017583190469910767,0.00017583190469910767,0.00017583190469910767,0.00017583190469910767,0.00017583190469910767,0.00017583190469910767,0.00017583190469910767,0.00017583190469910767,0.00017583190469910767,0.00017583190469910767,0.00017583190469910767,0.00017583190469910767,0.00017583190469910767,0.00017583190469910767,0.00017583190469910767,0.00017583190469910767,0.00017583190469910767,0.00017583190469910767,0.00017583190469910767,0.00017583190469910767,0.00017583190469910767,0.00017583190469910767,0.00017583190469910767,0.00017583190469910767,0.00017583190469910767,0.00017583190469910767,0.00017583190469910767,0.00017583190469910767,0.00017583190469910767,0.00017583190469910767,0.00017583190469910767,0.00017583190469910767,0.00017583190469910767,0.00017583190469910767,0.00017583190469910767,0.00017583190469910767,0.00017583190469910767,0.00017583190469910767,0.00017583190469910767,0.00017583190469910767,0.00017583190469910767,0.00017583190469910767,0.00017583190469910767,0.00017583190469910767,0.00017583190469910767,0.00017583190469910767,0.00017583190469910767,0.00017583190469910767,0.00017583190469910767,0.00017583190469910767,0.00017583190469910767,0.00017583190469910767,0.00017583190469910767,0.00017583190469910767,0.00017583190469910767,0.00017583190469910767,0.00017583190469910767,0.00017583190469910767,0.00017583190469910767,0.00017583190469910767,0.00017583190469910767,0.00017583190469910767,0.00017583190469910767,0.00017583190469910767,0.00017583190469910767,0.00017583190469910767,0.00017583190469910767,0.00017583190469910767,0.00017583190469910767,0.00017583190469910767,0.00017583190469910767,0.00017583190469910767,0.00017583190469910767,0.00017583190469910767,0.00017583190469910767,0.00017583190469910767,0.00017583190469910767,0.00017583190469910767,0.00017583190469910767,0.00017583190469910767,0.00017583190469910767,0.00017583190469910767,0.00017583190469910767,0.00017583190469910767,0.00017583190469910767,0.00017583190469910767,0.00017583190469910767,0.00017583190469910767,0.00017583190469910767,0.00017583190469910767,0.00017583190469910767,0.00017583190469910767,0.00017583190469910767,0.00017583190469910767,0.00017583190469910767,0.00017583190469910767,0.00017583190469910767,0.00017583190469910767,0.00017583190469910767,0.00017583190469910767,0.00017583190469910767,0.00017583190469910767,0.00017583190469910767,0.00017583190469910767,0.00017583190469910767,0.00017583190469910767,0.00017583190469910767,0.00017583190469910767,0.00017583190469910767,0.00017583190469910767,0.00017583190469910767,0.00017583190469910767,0.00017583190469910767,0.00017583190469910767,0.00017583190469910767,0.00017583190469910767,0.00017583190469910767,0.00017583190469910767,0.00017583190469910767,0.00017583190469910767,0.00017583190469910767,0.00017583190469910767,0.00017583190469910767,0.00017583190469910767,0.00017583190469910767,0.00017583190469910767,0.00017583190469910767,0.00017583190469910767,0.00017583190469910767,0.00017583190469910767,0.00017583190469910767,0.00017583190469910767,0.00017583190469910767,0.00017583190469910767,0.00017583190469910767,0.00017583190469910767,0.00017583190469910767,0.00017583190469910767,0.00017583190469910767,0.00017583190469910767,0.00017583190469910767,0.00017583190469910767,0.00017583190469910767,0.00017583190469910767,0.00017583190469910767,0.00017583190469910767,0.00017583190469910767,0.00017583190469910767,0.00017583190469910767,0.00017583190469910767,0.00017583190469910767,0.00017583190469910767,0.00017583190469910767,0.00017583190469910767,0.00017583190469910767,0.00017583190469910767,0.00017583190469910767,0.00017583190469910767,0.00017583190469910767,0.00017583190469910767,0.00017583190469910767,0.00017583190469910767,0.00017583190469910767,0.00017583190469910767,0.00017583190469910767,0.00017583190469910767,0.00017583190469910767,0.00017583190469910767,0.00017583190469910767,0.00017583190469910767,0.00017583190469910767,0.00017583190469910767,0.00017583190469910767,0.00017583190469910767,0.00017583190469910767,0.00017583190469910767,0.00017583190469910767,0.00017583190469910767,0.00017583190469910767,0.00017583190469910767,0.00017583190469910767,0.00017583190469910767,0.00017583190469910767,0.00017583190469910767,0.00017583190469910767,0.00017583190469910767,0.00017583190469910767,0.00017583190469910767,0.00017583190469910767,0.00017583190469910767,0.00017583190469910767,0.00017583190469910767,0.00017583190469910767,0.00017583190469910767,0.00017583190469910767,0.00017583190469910767,0.00017583190469910767,0.00017583190469910767,0.00017583190469910767,0.00017583190469910767,0.00017583190469910767,0.00017583190469910767,0.00017583190469910767,0.00017583190469910767,0.00017583190469910767,0.00017583190469910767,0.00017583190469910767,0.00017583190469910767,0.00017583190469910767,0.00017583190469910767,0.00017583190469910767,0.00017583190469910767,0.00017583190469910767,0.00017583190469910767,0.00017583190469910767,0.00017583190469910767,0.00017583190469910767,0.00017583190469910767,0.00017583190469910767,0.00017583190469910767,0.00017583190469910767,0.00017583190469910767,0.00017583190469910767,0.00017583190469910767,0.00017583190469910767,0.00017583190469910767,0.00017583190469910767,0.00017583190469910767,0.00017583190469910767,0.00017583190469910767,0.00017583190469910767,0.00017583190469910767,0.00017583190469910767,0.00017583190469910767,0.00017583190469910767,0.00017583190469910767,0.00017583190469910767,0.00017583190469910767,0.00017583190469910767,0.00017583190469910767,0.00017583190469910767,0.00017583190469910767,0.00017583190469910767,0.00017583190469910767,0.00017583190469910767,0.00017583190469910767,0.00017583190469910767,0.00017583190469910767,0.00017583190469910767,0.00017583190469910767,0.00017583190469910767,0.00017583190469910767,0.00017583190469910767,0.00017583190469910767,0.00017583190469910767,0.00017583190469910767,0.00017583190469910767,0.00017583190469910767,0.00017583190469910767,0.00017583190469910767,0.00017583190469910767,0.00017583190469910767,0.00017583190469910767,0.00017583190469910767,0.00017583190469910767,0.00017583190469910767,0.00017583190469910767,0.00017583190469910767,0.00017583190469910767,0.00017583190469910767,0.00017583190469910767,0.00017583190469910767,0.00017583190469910767,0.00017583190469910767,0.00017583190469910767,0.00017583190469910767,0.00017583190469910767,0.00017583190469910767,0.00017583190469910767,0.00017583190469910767,0.00017583190469910767,0.00017583190469910767,0.00017583190469910767,0.00017583190469910767,0.00017583190469910767,0.00017583190469910767,0.00017583190469910767,0.00017583190469910767,0.00017583190469910767,0.00017583190469910767,0.00017583190469910767,0.00017583190469910767,0.00017583190469910767,0.00017583190469910767,0.00017583190469910767,0.00017583190469910767,0.00017583190469910767,0.00017583190469910767,0.00017583190469910767,0.00017583190469910767,0.00017583190469910767,0.00017583190469910767,0.00017583190469910767,0.00017583190469910767,0.00017583190469910767,0.00017583190469910767,0.00017583190469910767,0.00017583190469910767,0.00017583190469910767,0.00017583190469910767,0.00017583190469910767,0.00017583190469910767,0.00017583190469910767,0.00017583190469910767,0.00017583190469910767,0.00017583190469910767,0.00017583190469910767,0.00017583190469910767,0.00017583190469910767,0.00017583190469910767,0.00017583190469910767,0.00017583190469910767,0.00017583190469910767,0.00017583190469910767,0.00017583190469910767,0.00017583190469910767,0.00017583190469910767,0.00017583190469910767,0.00017583190469910767,0.00017583190469910767,0.00017583190469910767,0.00017583190469910767,0.00017583190469910767,0.00017583190469910767,0.00017583190469910767,0.00017583190469910767,0.00017583190469910767,0.00013187392852433074,0.00013187392852433074,0.00013187392852433074,0.00013187392852433074,0.00013187392852433074,0.00013187392852433074,0.00013187392852433074,0.00013187392852433074,0.00013187392852433074,0.00013187392852433074,0.00013187392852433074,0.00013187392852433074,0.00013187392852433074,0.00013187392852433074,0.00013187392852433074,0.00013187392852433074,0.00013187392852433074,0.00013187392852433074,0.00013187392852433074,0.00013187392852433074,0.00013187392852433074,0.00013187392852433074,0.00013187392852433074,0.00013187392852433074,0.00013187392852433074,8.791595234955383e-05,8.791595234955383e-05,8.791595234955383e-05,8.791595234955383e-05,8.791595234955383e-05,8.791595234955383e-05,8.791595234955383e-05,8.791595234955383e-05,8.791595234955383e-05,8.791595234955383e-05,8.791595234955383e-05,8.791595234955383e-05,4.3957976174776917e-05,4.3957976174776917e-05,4.3957976174776917e-05,4.3957976174776917e-05,4.3957976174776917e-05,4.3957976174776917e-05,0.0],\"xaxis\":\"x\",\"y\":[1.0,0.9722222222222222,0.9722222222222222,0.9722222222222222,0.9722222222222222,0.9444444444444444,0.9166666666666666,0.9166666666666666,0.9166666666666666,0.9166666666666666,0.8611111111111112,0.8611111111111112,0.8611111111111112,0.8611111111111112,0.8611111111111112,0.8611111111111112,0.8611111111111112,0.8333333333333334,0.8333333333333334,0.8333333333333334,0.8333333333333334,0.8333333333333334,0.8333333333333334,0.8333333333333334,0.8333333333333334,0.8333333333333334,0.8333333333333334,0.8333333333333334,0.8333333333333334,0.8333333333333334,0.8333333333333334,0.8333333333333334,0.8333333333333334,0.8333333333333334,0.8333333333333334,0.8333333333333334,0.8055555555555556,0.8055555555555556,0.8055555555555556,0.8055555555555556,0.8055555555555556,0.8055555555555556,0.8055555555555556,0.8055555555555556,0.8055555555555556,0.8055555555555556,0.8055555555555556,0.8055555555555556,0.8055555555555556,0.8055555555555556,0.8055555555555556,0.7777777777777778,0.7777777777777778,0.7777777777777778,0.7777777777777778,0.7777777777777778,0.7777777777777778,0.7777777777777778,0.7777777777777778,0.7777777777777778,0.7777777777777778,0.7777777777777778,0.7777777777777778,0.7777777777777778,0.7777777777777778,0.7777777777777778,0.7777777777777778,0.7777777777777778,0.7777777777777778,0.7777777777777778,0.7777777777777778,0.7777777777777778,0.7777777777777778,0.7777777777777778,0.7777777777777778,0.7777777777777778,0.7777777777777778,0.7777777777777778,0.7777777777777778,0.7777777777777778,0.7777777777777778,0.7777777777777778,0.7777777777777778,0.7777777777777778,0.7777777777777778,0.7777777777777778,0.7777777777777778,0.7777777777777778,0.7777777777777778,0.7777777777777778,0.7777777777777778,0.7777777777777778,0.7777777777777778,0.7777777777777778,0.7777777777777778,0.7777777777777778,0.7777777777777778,0.7777777777777778,0.7777777777777778,0.7777777777777778,0.7777777777777778,0.7777777777777778,0.7777777777777778,0.7777777777777778,0.7777777777777778,0.7777777777777778,0.7777777777777778,0.7777777777777778,0.7777777777777778,0.7777777777777778,0.7777777777777778,0.7777777777777778,0.7777777777777778,0.7777777777777778,0.7777777777777778,0.7777777777777778,0.7777777777777778,0.7777777777777778,0.7777777777777778,0.7777777777777778,0.7777777777777778,0.7777777777777778,0.7777777777777778,0.7777777777777778,0.7777777777777778,0.7777777777777778,0.7777777777777778,0.7777777777777778,0.7777777777777778,0.7777777777777778,0.7777777777777778,0.7777777777777778,0.7777777777777778,0.7777777777777778,0.7777777777777778,0.7777777777777778,0.7777777777777778,0.7777777777777778,0.7777777777777778,0.7777777777777778,0.7777777777777778,0.7777777777777778,0.7777777777777778,0.7777777777777778,0.7777777777777778,0.7777777777777778,0.7777777777777778,0.75,0.75,0.75,0.75,0.75,0.75,0.75,0.75,0.75,0.75,0.75,0.75,0.75,0.75,0.75,0.75,0.75,0.75,0.75,0.75,0.75,0.75,0.75,0.75,0.75,0.75,0.75,0.75,0.75,0.75,0.75,0.75,0.75,0.75,0.75,0.75,0.75,0.75,0.75,0.75,0.75,0.75,0.75,0.75,0.75,0.75,0.75,0.75,0.75,0.75,0.75,0.75,0.75,0.75,0.75,0.75,0.75,0.75,0.75,0.75,0.75,0.75,0.75,0.75,0.75,0.75,0.75,0.75,0.75,0.75,0.75,0.75,0.75,0.75,0.75,0.7222222222222222,0.7222222222222222,0.7222222222222222,0.7222222222222222,0.7222222222222222,0.7222222222222222,0.7222222222222222,0.7222222222222222,0.7222222222222222,0.7222222222222222,0.7222222222222222,0.7222222222222222,0.7222222222222222,0.7222222222222222,0.7222222222222222,0.7222222222222222,0.7222222222222222,0.7222222222222222,0.7222222222222222,0.7222222222222222,0.7222222222222222,0.7222222222222222,0.7222222222222222,0.7222222222222222,0.7222222222222222,0.7222222222222222,0.7222222222222222,0.7222222222222222,0.7222222222222222,0.7222222222222222,0.7222222222222222,0.7222222222222222,0.7222222222222222,0.7222222222222222,0.7222222222222222,0.7222222222222222,0.7222222222222222,0.7222222222222222,0.7222222222222222,0.7222222222222222,0.7222222222222222,0.7222222222222222,0.7222222222222222,0.7222222222222222,0.7222222222222222,0.7222222222222222,0.7222222222222222,0.7222222222222222,0.7222222222222222,0.7222222222222222,0.7222222222222222,0.7222222222222222,0.7222222222222222,0.7222222222222222,0.7222222222222222,0.7222222222222222,0.7222222222222222,0.7222222222222222,0.7222222222222222,0.7222222222222222,0.7222222222222222,0.7222222222222222,0.7222222222222222,0.7222222222222222,0.7222222222222222,0.7222222222222222,0.7222222222222222,0.7222222222222222,0.7222222222222222,0.7222222222222222,0.7222222222222222,0.7222222222222222,0.7222222222222222,0.7222222222222222,0.7222222222222222,0.7222222222222222,0.7222222222222222,0.7222222222222222,0.7222222222222222,0.7222222222222222,0.7222222222222222,0.7222222222222222,0.7222222222222222,0.7222222222222222,0.7222222222222222,0.7222222222222222,0.7222222222222222,0.7222222222222222,0.7222222222222222,0.7222222222222222,0.7222222222222222,0.7222222222222222,0.7222222222222222,0.7222222222222222,0.7222222222222222,0.7222222222222222,0.7222222222222222,0.7222222222222222,0.7222222222222222,0.7222222222222222,0.7222222222222222,0.7222222222222222,0.7222222222222222,0.7222222222222222,0.7222222222222222,0.7222222222222222,0.7222222222222222,0.7222222222222222,0.7222222222222222,0.7222222222222222,0.7222222222222222,0.7222222222222222,0.7222222222222222,0.7222222222222222,0.7222222222222222,0.7222222222222222,0.7222222222222222,0.7222222222222222,0.7222222222222222,0.7222222222222222,0.7222222222222222,0.7222222222222222,0.7222222222222222,0.7222222222222222,0.7222222222222222,0.7222222222222222,0.7222222222222222,0.7222222222222222,0.7222222222222222,0.7222222222222222,0.7222222222222222,0.7222222222222222,0.7222222222222222,0.7222222222222222,0.7222222222222222,0.7222222222222222,0.7222222222222222,0.7222222222222222,0.7222222222222222,0.7222222222222222,0.7222222222222222,0.7222222222222222,0.7222222222222222,0.7222222222222222,0.7222222222222222,0.7222222222222222,0.7222222222222222,0.7222222222222222,0.7222222222222222,0.7222222222222222,0.7222222222222222,0.7222222222222222,0.7222222222222222,0.7222222222222222,0.7222222222222222,0.7222222222222222,0.7222222222222222,0.7222222222222222,0.7222222222222222,0.7222222222222222,0.7222222222222222,0.7222222222222222,0.7222222222222222,0.7222222222222222,0.7222222222222222,0.7222222222222222,0.7222222222222222,0.7222222222222222,0.7222222222222222,0.7222222222222222,0.7222222222222222,0.7222222222222222,0.7222222222222222,0.7222222222222222,0.7222222222222222,0.7222222222222222,0.7222222222222222,0.7222222222222222,0.7222222222222222,0.7222222222222222,0.7222222222222222,0.7222222222222222,0.7222222222222222,0.7222222222222222,0.7222222222222222,0.7222222222222222,0.7222222222222222,0.7222222222222222,0.6944444444444444,0.6944444444444444,0.6944444444444444,0.6944444444444444,0.6944444444444444,0.6944444444444444,0.6944444444444444,0.6944444444444444,0.6944444444444444,0.6944444444444444,0.6944444444444444,0.6944444444444444,0.6944444444444444,0.6944444444444444,0.6944444444444444,0.6944444444444444,0.6944444444444444,0.6944444444444444,0.6944444444444444,0.6944444444444444,0.6944444444444444,0.6944444444444444,0.6944444444444444,0.6944444444444444,0.6944444444444444,0.6944444444444444,0.6944444444444444,0.6944444444444444,0.6944444444444444,0.6944444444444444,0.6944444444444444,0.6944444444444444,0.6944444444444444,0.6944444444444444,0.6944444444444444,0.6944444444444444,0.6944444444444444,0.6944444444444444,0.6944444444444444,0.6944444444444444,0.6944444444444444,0.6944444444444444,0.6944444444444444,0.6944444444444444,0.6944444444444444,0.6944444444444444,0.6944444444444444,0.6944444444444444,0.6944444444444444,0.6944444444444444,0.6944444444444444,0.6944444444444444,0.6944444444444444,0.6944444444444444,0.6944444444444444,0.6944444444444444,0.6944444444444444,0.6944444444444444,0.6944444444444444,0.6944444444444444,0.6944444444444444,0.6944444444444444,0.6944444444444444,0.6944444444444444,0.6944444444444444,0.6944444444444444,0.6944444444444444,0.6944444444444444,0.6944444444444444,0.6944444444444444,0.6944444444444444,0.6944444444444444,0.6944444444444444,0.6944444444444444,0.6944444444444444,0.6944444444444444,0.6944444444444444,0.6944444444444444,0.6944444444444444,0.6944444444444444,0.6944444444444444,0.6944444444444444,0.6944444444444444,0.6944444444444444,0.6944444444444444,0.6944444444444444,0.6944444444444444,0.6944444444444444,0.6944444444444444,0.6944444444444444,0.6944444444444444,0.6944444444444444,0.6944444444444444,0.6666666666666666,0.6666666666666666,0.6666666666666666,0.6666666666666666,0.6666666666666666,0.6666666666666666,0.6666666666666666,0.6666666666666666,0.6666666666666666,0.6666666666666666,0.6666666666666666,0.6666666666666666,0.6666666666666666,0.6666666666666666,0.6666666666666666,0.6666666666666666,0.6666666666666666,0.6666666666666666,0.6666666666666666,0.6666666666666666,0.6666666666666666,0.6666666666666666,0.6666666666666666,0.6666666666666666,0.6666666666666666,0.6666666666666666,0.6666666666666666,0.6666666666666666,0.6666666666666666,0.6666666666666666,0.6666666666666666,0.6666666666666666,0.6666666666666666,0.6666666666666666,0.6666666666666666,0.6666666666666666,0.6666666666666666,0.6666666666666666,0.6666666666666666,0.6666666666666666,0.6666666666666666,0.6666666666666666,0.6666666666666666,0.6666666666666666,0.6666666666666666,0.6666666666666666,0.6666666666666666,0.6666666666666666,0.6666666666666666,0.6666666666666666,0.6666666666666666,0.6666666666666666,0.6666666666666666,0.6666666666666666,0.6666666666666666,0.6666666666666666,0.6666666666666666,0.6666666666666666,0.6666666666666666,0.6666666666666666,0.6666666666666666,0.6666666666666666,0.6666666666666666,0.6666666666666666,0.6666666666666666,0.6666666666666666,0.6666666666666666,0.6666666666666666,0.6666666666666666,0.6666666666666666,0.6666666666666666,0.6666666666666666,0.6666666666666666,0.6666666666666666,0.6666666666666666,0.6666666666666666,0.6666666666666666,0.6666666666666666,0.6666666666666666,0.6666666666666666,0.6666666666666666,0.6666666666666666,0.6666666666666666,0.6666666666666666,0.6666666666666666,0.6666666666666666,0.6666666666666666,0.6666666666666666,0.6666666666666666,0.6666666666666666,0.6666666666666666,0.6666666666666666,0.6666666666666666,0.6666666666666666,0.6666666666666666,0.6666666666666666,0.6666666666666666,0.6666666666666666,0.6666666666666666,0.6666666666666666,0.6666666666666666,0.6666666666666666,0.6666666666666666,0.6666666666666666,0.6666666666666666,0.6666666666666666,0.6666666666666666,0.6666666666666666,0.6666666666666666,0.6666666666666666,0.6666666666666666,0.6388888888888888,0.6388888888888888,0.6388888888888888,0.6388888888888888,0.6388888888888888,0.6388888888888888,0.6388888888888888,0.6388888888888888,0.6388888888888888,0.6388888888888888,0.6388888888888888,0.6388888888888888,0.6388888888888888,0.6388888888888888,0.6388888888888888,0.6388888888888888,0.6388888888888888,0.6388888888888888,0.6388888888888888,0.6388888888888888,0.6388888888888888,0.6388888888888888,0.6111111111111112,0.6111111111111112,0.6111111111111112,0.6111111111111112,0.6111111111111112,0.6111111111111112,0.6111111111111112,0.6111111111111112,0.6111111111111112,0.6111111111111112,0.6111111111111112,0.6111111111111112,0.6111111111111112,0.6111111111111112,0.6111111111111112,0.6111111111111112,0.6111111111111112,0.6111111111111112,0.6111111111111112,0.6111111111111112,0.6111111111111112,0.6111111111111112,0.6111111111111112,0.6111111111111112,0.6111111111111112,0.6111111111111112,0.6111111111111112,0.6111111111111112,0.6111111111111112,0.6111111111111112,0.6111111111111112,0.6111111111111112,0.6111111111111112,0.6111111111111112,0.6111111111111112,0.6111111111111112,0.6111111111111112,0.6111111111111112,0.6111111111111112,0.6111111111111112,0.6111111111111112,0.6111111111111112,0.6111111111111112,0.6111111111111112,0.6111111111111112,0.6111111111111112,0.5833333333333334,0.5833333333333334,0.5833333333333334,0.5833333333333334,0.5833333333333334,0.5833333333333334,0.5833333333333334,0.5833333333333334,0.5833333333333334,0.5833333333333334,0.5833333333333334,0.5833333333333334,0.5833333333333334,0.5833333333333334,0.5833333333333334,0.5833333333333334,0.5833333333333334,0.5833333333333334,0.5833333333333334,0.5833333333333334,0.5833333333333334,0.5833333333333334,0.5833333333333334,0.5833333333333334,0.5833333333333334,0.5833333333333334,0.5833333333333334,0.5833333333333334,0.5833333333333334,0.5833333333333334,0.5833333333333334,0.5833333333333334,0.5833333333333334,0.5833333333333334,0.5833333333333334,0.5833333333333334,0.5833333333333334,0.5833333333333334,0.5833333333333334,0.5833333333333334,0.5833333333333334,0.5833333333333334,0.5833333333333334,0.5833333333333334,0.5833333333333334,0.5833333333333334,0.5833333333333334,0.5833333333333334,0.5833333333333334,0.5833333333333334,0.5833333333333334,0.5833333333333334,0.5833333333333334,0.5833333333333334,0.5833333333333334,0.5833333333333334,0.5833333333333334,0.5833333333333334,0.5833333333333334,0.5833333333333334,0.5833333333333334,0.5833333333333334,0.5833333333333334,0.5833333333333334,0.5833333333333334,0.5833333333333334,0.5833333333333334,0.5833333333333334,0.5833333333333334,0.5833333333333334,0.5833333333333334,0.5833333333333334,0.5833333333333334,0.5833333333333334,0.5833333333333334,0.5833333333333334,0.5833333333333334,0.5833333333333334,0.5833333333333334,0.5833333333333334,0.5833333333333334,0.5833333333333334,0.5833333333333334,0.5833333333333334,0.5833333333333334,0.5833333333333334,0.5833333333333334,0.5833333333333334,0.5833333333333334,0.5833333333333334,0.5833333333333334,0.5833333333333334,0.5833333333333334,0.5833333333333334,0.5833333333333334,0.5833333333333334,0.5833333333333334,0.5833333333333334,0.5833333333333334,0.5833333333333334,0.5833333333333334,0.5833333333333334,0.5833333333333334,0.5833333333333334,0.5833333333333334,0.5833333333333334,0.5833333333333334,0.5833333333333334,0.5833333333333334,0.5833333333333334,0.5833333333333334,0.5833333333333334,0.5833333333333334,0.5833333333333334,0.5833333333333334,0.5833333333333334,0.5833333333333334,0.5833333333333334,0.5833333333333334,0.5833333333333334,0.5833333333333334,0.5833333333333334,0.5833333333333334,0.5833333333333334,0.5833333333333334,0.5833333333333334,0.5833333333333334,0.5833333333333334,0.5833333333333334,0.5833333333333334,0.5833333333333334,0.5833333333333334,0.5833333333333334,0.5833333333333334,0.5833333333333334,0.5833333333333334,0.5833333333333334,0.5833333333333334,0.5833333333333334,0.5833333333333334,0.5833333333333334,0.5833333333333334,0.5833333333333334,0.5833333333333334,0.5833333333333334,0.5833333333333334,0.5833333333333334,0.5833333333333334,0.5833333333333334,0.5833333333333334,0.5833333333333334,0.5833333333333334,0.5833333333333334,0.5833333333333334,0.5833333333333334,0.5833333333333334,0.5833333333333334,0.5833333333333334,0.5833333333333334,0.5833333333333334,0.5833333333333334,0.5833333333333334,0.5833333333333334,0.5833333333333334,0.5833333333333334,0.5833333333333334,0.5833333333333334,0.5833333333333334,0.5833333333333334,0.5833333333333334,0.5833333333333334,0.5833333333333334,0.5833333333333334,0.5833333333333334,0.5833333333333334,0.5833333333333334,0.5833333333333334,0.5833333333333334,0.5833333333333334,0.5833333333333334,0.5833333333333334,0.5833333333333334,0.5833333333333334,0.5833333333333334,0.5833333333333334,0.5833333333333334,0.5833333333333334,0.5833333333333334,0.5833333333333334,0.5833333333333334,0.5833333333333334,0.5833333333333334,0.5833333333333334,0.5833333333333334,0.5833333333333334,0.5833333333333334,0.5833333333333334,0.5833333333333334,0.5833333333333334,0.5833333333333334,0.5833333333333334,0.5833333333333334,0.5833333333333334,0.5833333333333334,0.5555555555555556,0.5555555555555556,0.5555555555555556,0.5555555555555556,0.5555555555555556,0.5555555555555556,0.5555555555555556,0.5555555555555556,0.5555555555555556,0.5555555555555556,0.5555555555555556,0.5555555555555556,0.5555555555555556,0.5555555555555556,0.5555555555555556,0.5555555555555556,0.5555555555555556,0.5555555555555556,0.5555555555555556,0.5555555555555556,0.5555555555555556,0.5555555555555556,0.5555555555555556,0.5555555555555556,0.5555555555555556,0.5555555555555556,0.5555555555555556,0.5555555555555556,0.5555555555555556,0.5555555555555556,0.5555555555555556,0.5555555555555556,0.5555555555555556,0.5555555555555556,0.5555555555555556,0.5555555555555556,0.5555555555555556,0.5555555555555556,0.5555555555555556,0.5555555555555556,0.5555555555555556,0.5555555555555556,0.5555555555555556,0.5555555555555556,0.5555555555555556,0.5555555555555556,0.5555555555555556,0.5555555555555556,0.5555555555555556,0.5555555555555556,0.5555555555555556,0.5555555555555556,0.5555555555555556,0.5555555555555556,0.5555555555555556,0.5555555555555556,0.5555555555555556,0.5555555555555556,0.5555555555555556,0.5555555555555556,0.5555555555555556,0.5555555555555556,0.5555555555555556,0.5555555555555556,0.5555555555555556,0.5555555555555556,0.5555555555555556,0.5555555555555556,0.5555555555555556,0.5555555555555556,0.5555555555555556,0.5555555555555556,0.5555555555555556,0.5555555555555556,0.5555555555555556,0.5555555555555556,0.5555555555555556,0.5555555555555556,0.5555555555555556,0.5555555555555556,0.5555555555555556,0.5555555555555556,0.5555555555555556,0.5555555555555556,0.5555555555555556,0.5555555555555556,0.5555555555555556,0.5555555555555556,0.5555555555555556,0.5555555555555556,0.5555555555555556,0.5555555555555556,0.5555555555555556,0.5555555555555556,0.5555555555555556,0.5555555555555556,0.5555555555555556,0.5555555555555556,0.5555555555555556,0.5555555555555556,0.5555555555555556,0.5555555555555556,0.5555555555555556,0.5555555555555556,0.5555555555555556,0.5555555555555556,0.5555555555555556,0.5555555555555556,0.5555555555555556,0.5555555555555556,0.5555555555555556,0.5555555555555556,0.5555555555555556,0.5555555555555556,0.5555555555555556,0.5555555555555556,0.5555555555555556,0.5555555555555556,0.5555555555555556,0.5555555555555556,0.5555555555555556,0.5555555555555556,0.5555555555555556,0.5277777777777778,0.5277777777777778,0.5277777777777778,0.5277777777777778,0.5277777777777778,0.5277777777777778,0.5277777777777778,0.5277777777777778,0.5277777777777778,0.5277777777777778,0.5277777777777778,0.5277777777777778,0.5277777777777778,0.5277777777777778,0.5277777777777778,0.5277777777777778,0.5277777777777778,0.5277777777777778,0.5277777777777778,0.5277777777777778,0.5277777777777778,0.5277777777777778,0.5277777777777778,0.5277777777777778,0.5277777777777778,0.5277777777777778,0.5277777777777778,0.5277777777777778,0.5277777777777778,0.5277777777777778,0.5277777777777778,0.5277777777777778,0.5277777777777778,0.5277777777777778,0.5277777777777778,0.5277777777777778,0.5277777777777778,0.5277777777777778,0.5277777777777778,0.5277777777777778,0.5277777777777778,0.5277777777777778,0.5277777777777778,0.5277777777777778,0.5277777777777778,0.5277777777777778,0.5277777777777778,0.5277777777777778,0.5277777777777778,0.5277777777777778,0.5277777777777778,0.5277777777777778,0.5277777777777778,0.5277777777777778,0.5277777777777778,0.5277777777777778,0.5277777777777778,0.5277777777777778,0.5277777777777778,0.5277777777777778,0.5277777777777778,0.5277777777777778,0.5277777777777778,0.5277777777777778,0.5277777777777778,0.5277777777777778,0.5277777777777778,0.5277777777777778,0.5277777777777778,0.5277777777777778,0.5277777777777778,0.5277777777777778,0.5277777777777778,0.5277777777777778,0.5277777777777778,0.5277777777777778,0.5277777777777778,0.5277777777777778,0.5277777777777778,0.5277777777777778,0.5277777777777778,0.5277777777777778,0.5277777777777778,0.5277777777777778,0.5277777777777778,0.5277777777777778,0.5277777777777778,0.5277777777777778,0.5277777777777778,0.5277777777777778,0.5277777777777778,0.5277777777777778,0.5277777777777778,0.5277777777777778,0.5277777777777778,0.5277777777777778,0.5277777777777778,0.5277777777777778,0.5277777777777778,0.5277777777777778,0.5277777777777778,0.5277777777777778,0.5277777777777778,0.5277777777777778,0.5277777777777778,0.5277777777777778,0.5277777777777778,0.5277777777777778,0.5277777777777778,0.5277777777777778,0.5277777777777778,0.5277777777777778,0.5277777777777778,0.5277777777777778,0.5277777777777778,0.5277777777777778,0.5277777777777778,0.5277777777777778,0.5277777777777778,0.5277777777777778,0.5277777777777778,0.5277777777777778,0.5277777777777778,0.5277777777777778,0.5277777777777778,0.5277777777777778,0.5277777777777778,0.5277777777777778,0.5277777777777778,0.5277777777777778,0.5277777777777778,0.5277777777777778,0.5277777777777778,0.5277777777777778,0.5277777777777778,0.5277777777777778,0.5277777777777778,0.5277777777777778,0.5277777777777778,0.5277777777777778,0.5277777777777778,0.5277777777777778,0.5277777777777778,0.5277777777777778,0.5277777777777778,0.5277777777777778,0.5277777777777778,0.5277777777777778,0.5277777777777778,0.5277777777777778,0.5277777777777778,0.5277777777777778,0.5277777777777778,0.5277777777777778,0.5277777777777778,0.5277777777777778,0.5277777777777778,0.5277777777777778,0.5277777777777778,0.5277777777777778,0.5277777777777778,0.5277777777777778,0.5277777777777778,0.5277777777777778,0.5277777777777778,0.5277777777777778,0.5277777777777778,0.5277777777777778,0.5277777777777778,0.5277777777777778,0.5277777777777778,0.5277777777777778,0.5277777777777778,0.5277777777777778,0.5277777777777778,0.5277777777777778,0.5277777777777778,0.5277777777777778,0.5277777777777778,0.5277777777777778,0.5277777777777778,0.5277777777777778,0.5277777777777778,0.5277777777777778,0.5277777777777778,0.5277777777777778,0.5277777777777778,0.5277777777777778,0.5277777777777778,0.5277777777777778,0.5277777777777778,0.5277777777777778,0.5277777777777778,0.5277777777777778,0.5277777777777778,0.5277777777777778,0.5277777777777778,0.5277777777777778,0.5277777777777778,0.5277777777777778,0.5277777777777778,0.5277777777777778,0.5277777777777778,0.5277777777777778,0.5277777777777778,0.5277777777777778,0.5277777777777778,0.5277777777777778,0.5277777777777778,0.5277777777777778,0.5277777777777778,0.5277777777777778,0.5277777777777778,0.5277777777777778,0.5277777777777778,0.5277777777777778,0.5277777777777778,0.5277777777777778,0.5277777777777778,0.5277777777777778,0.5277777777777778,0.5277777777777778,0.5277777777777778,0.5,0.5,0.5,0.5,0.5,0.5,0.5,0.5,0.5,0.5,0.5,0.5,0.5,0.5,0.5,0.5,0.5,0.5,0.5,0.5,0.5,0.5,0.5,0.5,0.5,0.5,0.5,0.5,0.5,0.5,0.5,0.5,0.5,0.5,0.5,0.5,0.5,0.5,0.5,0.5,0.5,0.5,0.5,0.5,0.5,0.5,0.5,0.5,0.5,0.5,0.5,0.5,0.5,0.5,0.5,0.5,0.5,0.5,0.5,0.5,0.5,0.5,0.5,0.5,0.5,0.5,0.5,0.5,0.5,0.5,0.5,0.5,0.5,0.5,0.5,0.5,0.5,0.5,0.5,0.5,0.5,0.5,0.5,0.5,0.5,0.5,0.5,0.5,0.5,0.5,0.5,0.5,0.5,0.5,0.5,0.5,0.5,0.5,0.5,0.5,0.5,0.5,0.5,0.5,0.5,0.5,0.5,0.5,0.5,0.5,0.5,0.5,0.5,0.5,0.5,0.5,0.5,0.5,0.5,0.5,0.5,0.5,0.5,0.5,0.5,0.5,0.5,0.5,0.5,0.5,0.5,0.5,0.5,0.5,0.5,0.5,0.5,0.5,0.5,0.5,0.5,0.5,0.5,0.5,0.5,0.5,0.5,0.5,0.5,0.5,0.5,0.5,0.5,0.5,0.5,0.5,0.5,0.5,0.5,0.5,0.5,0.5,0.5,0.5,0.5,0.5,0.5,0.5,0.5,0.5,0.5,0.5,0.5,0.5,0.5,0.5,0.4722222222222222,0.4722222222222222,0.4722222222222222,0.4722222222222222,0.4722222222222222,0.4722222222222222,0.4722222222222222,0.4722222222222222,0.4722222222222222,0.4722222222222222,0.4722222222222222,0.4722222222222222,0.4722222222222222,0.4722222222222222,0.4722222222222222,0.4722222222222222,0.4722222222222222,0.4722222222222222,0.4722222222222222,0.4722222222222222,0.4722222222222222,0.4722222222222222,0.4722222222222222,0.4722222222222222,0.4722222222222222,0.4722222222222222,0.4722222222222222,0.4722222222222222,0.4722222222222222,0.4722222222222222,0.4722222222222222,0.4722222222222222,0.4722222222222222,0.4722222222222222,0.4722222222222222,0.4722222222222222,0.4722222222222222,0.4722222222222222,0.4722222222222222,0.4722222222222222,0.4722222222222222,0.4722222222222222,0.4722222222222222,0.4722222222222222,0.4722222222222222,0.4722222222222222,0.4722222222222222,0.4722222222222222,0.4722222222222222,0.4722222222222222,0.4722222222222222,0.4722222222222222,0.4444444444444444,0.4444444444444444,0.4444444444444444,0.4444444444444444,0.4444444444444444,0.4444444444444444,0.4444444444444444,0.4444444444444444,0.4444444444444444,0.4444444444444444,0.4444444444444444,0.4444444444444444,0.4444444444444444,0.4444444444444444,0.4444444444444444,0.4444444444444444,0.4444444444444444,0.4444444444444444,0.4444444444444444,0.4444444444444444,0.4444444444444444,0.4444444444444444,0.4444444444444444,0.4444444444444444,0.4444444444444444,0.4444444444444444,0.4444444444444444,0.4444444444444444,0.4444444444444444,0.4444444444444444,0.4444444444444444,0.4444444444444444,0.4444444444444444,0.4444444444444444,0.4444444444444444,0.4444444444444444,0.4444444444444444,0.4444444444444444,0.4444444444444444,0.4444444444444444,0.4444444444444444,0.4444444444444444,0.4444444444444444,0.4444444444444444,0.4444444444444444,0.4444444444444444,0.4444444444444444,0.4444444444444444,0.4444444444444444,0.4444444444444444,0.4444444444444444,0.4444444444444444,0.4444444444444444,0.4444444444444444,0.4444444444444444,0.4444444444444444,0.4444444444444444,0.4444444444444444,0.4444444444444444,0.4444444444444444,0.4444444444444444,0.4444444444444444,0.4444444444444444,0.4444444444444444,0.4444444444444444,0.4444444444444444,0.4444444444444444,0.4444444444444444,0.4444444444444444,0.4444444444444444,0.4444444444444444,0.4444444444444444,0.4444444444444444,0.4444444444444444,0.4444444444444444,0.4444444444444444,0.4444444444444444,0.4444444444444444,0.4444444444444444,0.4444444444444444,0.4444444444444444,0.4444444444444444,0.4444444444444444,0.4444444444444444,0.4444444444444444,0.4444444444444444,0.4444444444444444,0.4444444444444444,0.4444444444444444,0.4444444444444444,0.4444444444444444,0.4444444444444444,0.4444444444444444,0.4444444444444444,0.4444444444444444,0.4444444444444444,0.4444444444444444,0.4444444444444444,0.4444444444444444,0.4444444444444444,0.4444444444444444,0.4444444444444444,0.4444444444444444,0.4444444444444444,0.4444444444444444,0.4444444444444444,0.4444444444444444,0.4444444444444444,0.4444444444444444,0.4444444444444444,0.4444444444444444,0.4444444444444444,0.4444444444444444,0.4444444444444444,0.4444444444444444,0.4444444444444444,0.4444444444444444,0.4444444444444444,0.4444444444444444,0.4444444444444444,0.4444444444444444,0.4444444444444444,0.4444444444444444,0.4444444444444444,0.4444444444444444,0.4444444444444444,0.4444444444444444,0.4444444444444444,0.4444444444444444,0.4444444444444444,0.4444444444444444,0.4444444444444444,0.4444444444444444,0.4444444444444444,0.4444444444444444,0.4444444444444444,0.4444444444444444,0.4444444444444444,0.4444444444444444,0.4444444444444444,0.4444444444444444,0.4444444444444444,0.4444444444444444,0.4444444444444444,0.4444444444444444,0.4444444444444444,0.4444444444444444,0.4444444444444444,0.4444444444444444,0.4444444444444444,0.4444444444444444,0.4444444444444444,0.4444444444444444,0.4444444444444444,0.4444444444444444,0.4444444444444444,0.4444444444444444,0.4444444444444444,0.4444444444444444,0.4444444444444444,0.4444444444444444,0.4444444444444444,0.4444444444444444,0.4444444444444444,0.4444444444444444,0.4444444444444444,0.4444444444444444,0.4444444444444444,0.4444444444444444,0.4444444444444444,0.4444444444444444,0.4444444444444444,0.4444444444444444,0.4444444444444444,0.4444444444444444,0.4444444444444444,0.4444444444444444,0.4444444444444444,0.4444444444444444,0.4444444444444444,0.4444444444444444,0.4444444444444444,0.4444444444444444,0.4444444444444444,0.4166666666666667,0.4166666666666667,0.4166666666666667,0.4166666666666667,0.4166666666666667,0.4166666666666667,0.4166666666666667,0.4166666666666667,0.4166666666666667,0.4166666666666667,0.4166666666666667,0.4166666666666667,0.4166666666666667,0.4166666666666667,0.4166666666666667,0.4166666666666667,0.4166666666666667,0.4166666666666667,0.4166666666666667,0.4166666666666667,0.4166666666666667,0.4166666666666667,0.4166666666666667,0.4166666666666667,0.4166666666666667,0.4166666666666667,0.4166666666666667,0.4166666666666667,0.4166666666666667,0.4166666666666667,0.4166666666666667,0.4166666666666667,0.4166666666666667,0.4166666666666667,0.4166666666666667,0.4166666666666667,0.4166666666666667,0.4166666666666667,0.4166666666666667,0.4166666666666667,0.4166666666666667,0.4166666666666667,0.4166666666666667,0.4166666666666667,0.4166666666666667,0.4166666666666667,0.4166666666666667,0.4166666666666667,0.4166666666666667,0.4166666666666667,0.4166666666666667,0.4166666666666667,0.4166666666666667,0.4166666666666667,0.4166666666666667,0.4166666666666667,0.4166666666666667,0.4166666666666667,0.4166666666666667,0.4166666666666667,0.4166666666666667,0.4166666666666667,0.4166666666666667,0.4166666666666667,0.4166666666666667,0.4166666666666667,0.4166666666666667,0.4166666666666667,0.4166666666666667,0.4166666666666667,0.4166666666666667,0.4166666666666667,0.4166666666666667,0.4166666666666667,0.4166666666666667,0.4166666666666667,0.4166666666666667,0.4166666666666667,0.4166666666666667,0.4166666666666667,0.4166666666666667,0.4166666666666667,0.4166666666666667,0.4166666666666667,0.4166666666666667,0.4166666666666667,0.4166666666666667,0.4166666666666667,0.4166666666666667,0.4166666666666667,0.4166666666666667,0.4166666666666667,0.4166666666666667,0.4166666666666667,0.4166666666666667,0.4166666666666667,0.4166666666666667,0.4166666666666667,0.4166666666666667,0.4166666666666667,0.4166666666666667,0.4166666666666667,0.4166666666666667,0.4166666666666667,0.4166666666666667,0.4166666666666667,0.4166666666666667,0.4166666666666667,0.4166666666666667,0.4166666666666667,0.4166666666666667,0.4166666666666667,0.4166666666666667,0.4166666666666667,0.4166666666666667,0.4166666666666667,0.4166666666666667,0.4166666666666667,0.4166666666666667,0.4166666666666667,0.4166666666666667,0.4166666666666667,0.4166666666666667,0.4166666666666667,0.4166666666666667,0.4166666666666667,0.4166666666666667,0.4166666666666667,0.4166666666666667,0.4166666666666667,0.4166666666666667,0.4166666666666667,0.4166666666666667,0.4166666666666667,0.4166666666666667,0.4166666666666667,0.4166666666666667,0.4166666666666667,0.4166666666666667,0.4166666666666667,0.4166666666666667,0.4166666666666667,0.4166666666666667,0.4166666666666667,0.4166666666666667,0.4166666666666667,0.4166666666666667,0.4166666666666667,0.4166666666666667,0.4166666666666667,0.4166666666666667,0.4166666666666667,0.4166666666666667,0.4166666666666667,0.4166666666666667,0.4166666666666667,0.4166666666666667,0.4166666666666667,0.4166666666666667,0.4166666666666667,0.4166666666666667,0.4166666666666667,0.4166666666666667,0.4166666666666667,0.4166666666666667,0.4166666666666667,0.4166666666666667,0.4166666666666667,0.4166666666666667,0.4166666666666667,0.4166666666666667,0.4166666666666667,0.4166666666666667,0.4166666666666667,0.4166666666666667,0.4166666666666667,0.4166666666666667,0.4166666666666667,0.4166666666666667,0.4166666666666667,0.4166666666666667,0.4166666666666667,0.4166666666666667,0.4166666666666667,0.4166666666666667,0.4166666666666667,0.4166666666666667,0.4166666666666667,0.4166666666666667,0.4166666666666667,0.4166666666666667,0.4166666666666667,0.4166666666666667,0.4166666666666667,0.4166666666666667,0.4166666666666667,0.4166666666666667,0.4166666666666667,0.4166666666666667,0.4166666666666667,0.4166666666666667,0.4166666666666667,0.4166666666666667,0.4166666666666667,0.4166666666666667,0.4166666666666667,0.4166666666666667,0.4166666666666667,0.4166666666666667,0.4166666666666667,0.4166666666666667,0.4166666666666667,0.4166666666666667,0.4166666666666667,0.4166666666666667,0.4166666666666667,0.4166666666666667,0.4166666666666667,0.4166666666666667,0.4166666666666667,0.4166666666666667,0.4166666666666667,0.4166666666666667,0.4166666666666667,0.4166666666666667,0.4166666666666667,0.4166666666666667,0.4166666666666667,0.4166666666666667,0.4166666666666667,0.4166666666666667,0.4166666666666667,0.4166666666666667,0.4166666666666667,0.4166666666666667,0.4166666666666667,0.4166666666666667,0.4166666666666667,0.4166666666666667,0.4166666666666667,0.4166666666666667,0.4166666666666667,0.4166666666666667,0.4166666666666667,0.4166666666666667,0.4166666666666667,0.4166666666666667,0.4166666666666667,0.4166666666666667,0.4166666666666667,0.4166666666666667,0.4166666666666667,0.4166666666666667,0.4166666666666667,0.4166666666666667,0.4166666666666667,0.4166666666666667,0.4166666666666667,0.4166666666666667,0.4166666666666667,0.4166666666666667,0.4166666666666667,0.4166666666666667,0.4166666666666667,0.4166666666666667,0.4166666666666667,0.4166666666666667,0.4166666666666667,0.4166666666666667,0.4166666666666667,0.4166666666666667,0.4166666666666667,0.3888888888888889,0.3888888888888889,0.3888888888888889,0.3888888888888889,0.3888888888888889,0.3888888888888889,0.3611111111111111,0.3611111111111111,0.3611111111111111,0.3611111111111111,0.3611111111111111,0.3611111111111111,0.3611111111111111,0.3611111111111111,0.3611111111111111,0.3611111111111111,0.3611111111111111,0.3611111111111111,0.3611111111111111,0.3611111111111111,0.3611111111111111,0.3611111111111111,0.3611111111111111,0.3611111111111111,0.3611111111111111,0.3611111111111111,0.3611111111111111,0.3611111111111111,0.3611111111111111,0.3611111111111111,0.3611111111111111,0.3611111111111111,0.3611111111111111,0.3611111111111111,0.3611111111111111,0.3611111111111111,0.3611111111111111,0.3611111111111111,0.3611111111111111,0.3611111111111111,0.3611111111111111,0.3611111111111111,0.3611111111111111,0.3611111111111111,0.3611111111111111,0.3611111111111111,0.3611111111111111,0.3611111111111111,0.3611111111111111,0.3611111111111111,0.3611111111111111,0.3611111111111111,0.3611111111111111,0.3611111111111111,0.3333333333333333,0.3333333333333333,0.3333333333333333,0.3333333333333333,0.3333333333333333,0.3333333333333333,0.3333333333333333,0.3333333333333333,0.3333333333333333,0.3333333333333333,0.3333333333333333,0.3333333333333333,0.3333333333333333,0.3055555555555556,0.3055555555555556,0.3055555555555556,0.2777777777777778,0.2777777777777778,0.25,0.25,0.25,0.2222222222222222,0.2222222222222222,0.2222222222222222,0.2222222222222222,0.2222222222222222,0.2222222222222222,0.2222222222222222,0.2222222222222222,0.0],\"yaxis\":\"y\",\"type\":\"scattergl\"}],                        {\"template\":{\"data\":{\"histogram2dcontour\":[{\"type\":\"histogram2dcontour\",\"colorbar\":{\"outlinewidth\":0,\"ticks\":\"\"},\"colorscale\":[[0.0,\"#0d0887\"],[0.1111111111111111,\"#46039f\"],[0.2222222222222222,\"#7201a8\"],[0.3333333333333333,\"#9c179e\"],[0.4444444444444444,\"#bd3786\"],[0.5555555555555556,\"#d8576b\"],[0.6666666666666666,\"#ed7953\"],[0.7777777777777778,\"#fb9f3a\"],[0.8888888888888888,\"#fdca26\"],[1.0,\"#f0f921\"]]}],\"choropleth\":[{\"type\":\"choropleth\",\"colorbar\":{\"outlinewidth\":0,\"ticks\":\"\"}}],\"histogram2d\":[{\"type\":\"histogram2d\",\"colorbar\":{\"outlinewidth\":0,\"ticks\":\"\"},\"colorscale\":[[0.0,\"#0d0887\"],[0.1111111111111111,\"#46039f\"],[0.2222222222222222,\"#7201a8\"],[0.3333333333333333,\"#9c179e\"],[0.4444444444444444,\"#bd3786\"],[0.5555555555555556,\"#d8576b\"],[0.6666666666666666,\"#ed7953\"],[0.7777777777777778,\"#fb9f3a\"],[0.8888888888888888,\"#fdca26\"],[1.0,\"#f0f921\"]]}],\"heatmap\":[{\"type\":\"heatmap\",\"colorbar\":{\"outlinewidth\":0,\"ticks\":\"\"},\"colorscale\":[[0.0,\"#0d0887\"],[0.1111111111111111,\"#46039f\"],[0.2222222222222222,\"#7201a8\"],[0.3333333333333333,\"#9c179e\"],[0.4444444444444444,\"#bd3786\"],[0.5555555555555556,\"#d8576b\"],[0.6666666666666666,\"#ed7953\"],[0.7777777777777778,\"#fb9f3a\"],[0.8888888888888888,\"#fdca26\"],[1.0,\"#f0f921\"]]}],\"heatmapgl\":[{\"type\":\"heatmapgl\",\"colorbar\":{\"outlinewidth\":0,\"ticks\":\"\"},\"colorscale\":[[0.0,\"#0d0887\"],[0.1111111111111111,\"#46039f\"],[0.2222222222222222,\"#7201a8\"],[0.3333333333333333,\"#9c179e\"],[0.4444444444444444,\"#bd3786\"],[0.5555555555555556,\"#d8576b\"],[0.6666666666666666,\"#ed7953\"],[0.7777777777777778,\"#fb9f3a\"],[0.8888888888888888,\"#fdca26\"],[1.0,\"#f0f921\"]]}],\"contourcarpet\":[{\"type\":\"contourcarpet\",\"colorbar\":{\"outlinewidth\":0,\"ticks\":\"\"}}],\"contour\":[{\"type\":\"contour\",\"colorbar\":{\"outlinewidth\":0,\"ticks\":\"\"},\"colorscale\":[[0.0,\"#0d0887\"],[0.1111111111111111,\"#46039f\"],[0.2222222222222222,\"#7201a8\"],[0.3333333333333333,\"#9c179e\"],[0.4444444444444444,\"#bd3786\"],[0.5555555555555556,\"#d8576b\"],[0.6666666666666666,\"#ed7953\"],[0.7777777777777778,\"#fb9f3a\"],[0.8888888888888888,\"#fdca26\"],[1.0,\"#f0f921\"]]}],\"surface\":[{\"type\":\"surface\",\"colorbar\":{\"outlinewidth\":0,\"ticks\":\"\"},\"colorscale\":[[0.0,\"#0d0887\"],[0.1111111111111111,\"#46039f\"],[0.2222222222222222,\"#7201a8\"],[0.3333333333333333,\"#9c179e\"],[0.4444444444444444,\"#bd3786\"],[0.5555555555555556,\"#d8576b\"],[0.6666666666666666,\"#ed7953\"],[0.7777777777777778,\"#fb9f3a\"],[0.8888888888888888,\"#fdca26\"],[1.0,\"#f0f921\"]]}],\"mesh3d\":[{\"type\":\"mesh3d\",\"colorbar\":{\"outlinewidth\":0,\"ticks\":\"\"}}],\"scatter\":[{\"fillpattern\":{\"fillmode\":\"overlay\",\"size\":10,\"solidity\":0.2},\"type\":\"scatter\"}],\"parcoords\":[{\"type\":\"parcoords\",\"line\":{\"colorbar\":{\"outlinewidth\":0,\"ticks\":\"\"}}}],\"scatterpolargl\":[{\"type\":\"scatterpolargl\",\"marker\":{\"colorbar\":{\"outlinewidth\":0,\"ticks\":\"\"}}}],\"bar\":[{\"error_x\":{\"color\":\"#2a3f5f\"},\"error_y\":{\"color\":\"#2a3f5f\"},\"marker\":{\"line\":{\"color\":\"#E5ECF6\",\"width\":0.5},\"pattern\":{\"fillmode\":\"overlay\",\"size\":10,\"solidity\":0.2}},\"type\":\"bar\"}],\"scattergeo\":[{\"type\":\"scattergeo\",\"marker\":{\"colorbar\":{\"outlinewidth\":0,\"ticks\":\"\"}}}],\"scatterpolar\":[{\"type\":\"scatterpolar\",\"marker\":{\"colorbar\":{\"outlinewidth\":0,\"ticks\":\"\"}}}],\"histogram\":[{\"marker\":{\"pattern\":{\"fillmode\":\"overlay\",\"size\":10,\"solidity\":0.2}},\"type\":\"histogram\"}],\"scattergl\":[{\"type\":\"scattergl\",\"marker\":{\"colorbar\":{\"outlinewidth\":0,\"ticks\":\"\"}}}],\"scatter3d\":[{\"type\":\"scatter3d\",\"line\":{\"colorbar\":{\"outlinewidth\":0,\"ticks\":\"\"}},\"marker\":{\"colorbar\":{\"outlinewidth\":0,\"ticks\":\"\"}}}],\"scattermapbox\":[{\"type\":\"scattermapbox\",\"marker\":{\"colorbar\":{\"outlinewidth\":0,\"ticks\":\"\"}}}],\"scatterternary\":[{\"type\":\"scatterternary\",\"marker\":{\"colorbar\":{\"outlinewidth\":0,\"ticks\":\"\"}}}],\"scattercarpet\":[{\"type\":\"scattercarpet\",\"marker\":{\"colorbar\":{\"outlinewidth\":0,\"ticks\":\"\"}}}],\"carpet\":[{\"aaxis\":{\"endlinecolor\":\"#2a3f5f\",\"gridcolor\":\"white\",\"linecolor\":\"white\",\"minorgridcolor\":\"white\",\"startlinecolor\":\"#2a3f5f\"},\"baxis\":{\"endlinecolor\":\"#2a3f5f\",\"gridcolor\":\"white\",\"linecolor\":\"white\",\"minorgridcolor\":\"white\",\"startlinecolor\":\"#2a3f5f\"},\"type\":\"carpet\"}],\"table\":[{\"cells\":{\"fill\":{\"color\":\"#EBF0F8\"},\"line\":{\"color\":\"white\"}},\"header\":{\"fill\":{\"color\":\"#C8D4E3\"},\"line\":{\"color\":\"white\"}},\"type\":\"table\"}],\"barpolar\":[{\"marker\":{\"line\":{\"color\":\"#E5ECF6\",\"width\":0.5},\"pattern\":{\"fillmode\":\"overlay\",\"size\":10,\"solidity\":0.2}},\"type\":\"barpolar\"}],\"pie\":[{\"automargin\":true,\"type\":\"pie\"}]},\"layout\":{\"autotypenumbers\":\"strict\",\"colorway\":[\"#636efa\",\"#EF553B\",\"#00cc96\",\"#ab63fa\",\"#FFA15A\",\"#19d3f3\",\"#FF6692\",\"#B6E880\",\"#FF97FF\",\"#FECB52\"],\"font\":{\"color\":\"#2a3f5f\"},\"hovermode\":\"closest\",\"hoverlabel\":{\"align\":\"left\"},\"paper_bgcolor\":\"white\",\"plot_bgcolor\":\"#E5ECF6\",\"polar\":{\"bgcolor\":\"#E5ECF6\",\"angularaxis\":{\"gridcolor\":\"white\",\"linecolor\":\"white\",\"ticks\":\"\"},\"radialaxis\":{\"gridcolor\":\"white\",\"linecolor\":\"white\",\"ticks\":\"\"}},\"ternary\":{\"bgcolor\":\"#E5ECF6\",\"aaxis\":{\"gridcolor\":\"white\",\"linecolor\":\"white\",\"ticks\":\"\"},\"baxis\":{\"gridcolor\":\"white\",\"linecolor\":\"white\",\"ticks\":\"\"},\"caxis\":{\"gridcolor\":\"white\",\"linecolor\":\"white\",\"ticks\":\"\"}},\"coloraxis\":{\"colorbar\":{\"outlinewidth\":0,\"ticks\":\"\"}},\"colorscale\":{\"sequential\":[[0.0,\"#0d0887\"],[0.1111111111111111,\"#46039f\"],[0.2222222222222222,\"#7201a8\"],[0.3333333333333333,\"#9c179e\"],[0.4444444444444444,\"#bd3786\"],[0.5555555555555556,\"#d8576b\"],[0.6666666666666666,\"#ed7953\"],[0.7777777777777778,\"#fb9f3a\"],[0.8888888888888888,\"#fdca26\"],[1.0,\"#f0f921\"]],\"sequentialminus\":[[0.0,\"#0d0887\"],[0.1111111111111111,\"#46039f\"],[0.2222222222222222,\"#7201a8\"],[0.3333333333333333,\"#9c179e\"],[0.4444444444444444,\"#bd3786\"],[0.5555555555555556,\"#d8576b\"],[0.6666666666666666,\"#ed7953\"],[0.7777777777777778,\"#fb9f3a\"],[0.8888888888888888,\"#fdca26\"],[1.0,\"#f0f921\"]],\"diverging\":[[0,\"#8e0152\"],[0.1,\"#c51b7d\"],[0.2,\"#de77ae\"],[0.3,\"#f1b6da\"],[0.4,\"#fde0ef\"],[0.5,\"#f7f7f7\"],[0.6,\"#e6f5d0\"],[0.7,\"#b8e186\"],[0.8,\"#7fbc41\"],[0.9,\"#4d9221\"],[1,\"#276419\"]]},\"xaxis\":{\"gridcolor\":\"white\",\"linecolor\":\"white\",\"ticks\":\"\",\"title\":{\"standoff\":15},\"zerolinecolor\":\"white\",\"automargin\":true,\"zerolinewidth\":2},\"yaxis\":{\"gridcolor\":\"white\",\"linecolor\":\"white\",\"ticks\":\"\",\"title\":{\"standoff\":15},\"zerolinecolor\":\"white\",\"automargin\":true,\"zerolinewidth\":2},\"scene\":{\"xaxis\":{\"backgroundcolor\":\"#E5ECF6\",\"gridcolor\":\"white\",\"linecolor\":\"white\",\"showbackground\":true,\"ticks\":\"\",\"zerolinecolor\":\"white\",\"gridwidth\":2},\"yaxis\":{\"backgroundcolor\":\"#E5ECF6\",\"gridcolor\":\"white\",\"linecolor\":\"white\",\"showbackground\":true,\"ticks\":\"\",\"zerolinecolor\":\"white\",\"gridwidth\":2},\"zaxis\":{\"backgroundcolor\":\"#E5ECF6\",\"gridcolor\":\"white\",\"linecolor\":\"white\",\"showbackground\":true,\"ticks\":\"\",\"zerolinecolor\":\"white\",\"gridwidth\":2}},\"shapedefaults\":{\"line\":{\"color\":\"#2a3f5f\"}},\"annotationdefaults\":{\"arrowcolor\":\"#2a3f5f\",\"arrowhead\":0,\"arrowwidth\":1},\"geo\":{\"bgcolor\":\"white\",\"landcolor\":\"#E5ECF6\",\"subunitcolor\":\"white\",\"showland\":true,\"showlakes\":true,\"lakecolor\":\"white\"},\"title\":{\"x\":0.05},\"mapbox\":{\"style\":\"light\"}}},\"xaxis\":{\"anchor\":\"y\",\"domain\":[0.0,1.0],\"title\":{\"text\":\"False Positive Rate\"}},\"yaxis\":{\"anchor\":\"x\",\"domain\":[0.0,1.0],\"title\":{\"text\":\"True Positive Rate\"}},\"coloraxis\":{\"colorbar\":{\"title\":{\"text\":\"Threshold\"}},\"colorscale\":[[0.0,\"#0d0887\"],[0.1111111111111111,\"#46039f\"],[0.2222222222222222,\"#7201a8\"],[0.3333333333333333,\"#9c179e\"],[0.4444444444444444,\"#bd3786\"],[0.5555555555555556,\"#d8576b\"],[0.6666666666666666,\"#ed7953\"],[0.7777777777777778,\"#fb9f3a\"],[0.8888888888888888,\"#fdca26\"],[1.0,\"#f0f921\"]]},\"legend\":{\"tracegroupgap\":0},\"title\":{\"text\":\"ROC Curve\"}},                        {\"responsive\": true}                    ).then(function(){\n",
              "                            \n",
              "var gd = document.getElementById('28761c94-6b70-44ed-87cf-60485b120d89');\n",
              "var x = new MutationObserver(function (mutations, observer) {{\n",
              "        var display = window.getComputedStyle(gd).display;\n",
              "        if (!display || display === 'none') {{\n",
              "            console.log([gd, 'removed!']);\n",
              "            Plotly.purge(gd);\n",
              "            observer.disconnect();\n",
              "        }}\n",
              "}});\n",
              "\n",
              "// Listen for the removal of the full notebook cells\n",
              "var notebookContainer = gd.closest('#notebook-container');\n",
              "if (notebookContainer) {{\n",
              "    x.observe(notebookContainer, {childList: true});\n",
              "}}\n",
              "\n",
              "// Listen for the clearing of the current output cell\n",
              "var outputEl = gd.closest('.output');\n",
              "if (outputEl) {{\n",
              "    x.observe(outputEl, {childList: true});\n",
              "}}\n",
              "\n",
              "                        })                };                            </script>        </div>\n",
              "</body>\n",
              "</html>"
            ]
          },
          "metadata": {}
        }
      ]
    },
    {
      "cell_type": "code",
      "source": [
        "# Report AUC\n",
        "\n",
        "from sklearn.metrics import auc\n",
        "\n",
        "auc(fprs, tprs)"
      ],
      "metadata": {
        "colab": {
          "base_uri": "https://localhost:8080/"
        },
        "id": "GENue7NKsU5w",
        "outputId": "74a61b4e-ecfc-4042-fac0-4106c0184801"
      },
      "execution_count": 28,
      "outputs": [
        {
          "output_type": "execute_result",
          "data": {
            "text/plain": [
              "0.9810064911278153"
            ]
          },
          "metadata": {},
          "execution_count": 28
        }
      ]
    },
    {
      "cell_type": "markdown",
      "source": [
        "### Matthews Correlation Coefficient"
      ],
      "metadata": {
        "id": "XG8o2mUDEVcW"
      }
    },
    {
      "cell_type": "markdown",
      "source": [
        "$Matthews$ $Correlation$ $Coefficient$ = $\\frac{(TP * TN) - (FP * FN)}{\\sqrt{(TP + FP) * (TP + FN) * (TN + FP) * (TN + FN)}}$"
      ],
      "metadata": {
        "id": "dvo7gru2FPLW"
      }
    },
    {
      "cell_type": "code",
      "source": [
        "from math import sqrt\n",
        "\n",
        "def mcc(tn, fp, fn, tp):\n",
        "  top = (tp * tn) - (fp * fn)\n",
        "  bot = (tp + fp) * (tp + fn) * (tn + fp) * (tn + fn)\n",
        "  return top / sqrt(bot)\n",
        "\n",
        "\"Matthews Correlation Coefficient: {0}\".format(mcc(tn, fp, fn, tp))"
      ],
      "metadata": {
        "colab": {
          "base_uri": "https://localhost:8080/",
          "height": 35
        },
        "id": "Sy7Pho_1F1Bs",
        "outputId": "38520628-42d2-4348-c1c9-ccf6bda9e4af"
      },
      "execution_count": 29,
      "outputs": [
        {
          "output_type": "execute_result",
          "data": {
            "text/plain": [
              "'Matthews Correlation Coefficient: 0.6294313746803477'"
            ],
            "application/vnd.google.colaboratory.intrinsic+json": {
              "type": "string"
            }
          },
          "metadata": {},
          "execution_count": 29
        }
      ]
    },
    {
      "cell_type": "markdown",
      "source": [
        "In Practice..."
      ],
      "metadata": {
        "id": "xwMLmERAspPG"
      }
    },
    {
      "cell_type": "code",
      "source": [
        "# Need actuals, predictions, and prediction probabilities\n",
        "\n",
        "y_test.shape, test_predictions.shape, probabilities.shape"
      ],
      "metadata": {
        "colab": {
          "base_uri": "https://localhost:8080/"
        },
        "id": "1cH4vfoF4J6v",
        "outputId": "8bc37c5e-dabd-4361-cea6-5d7c79c63dcb"
      },
      "execution_count": 30,
      "outputs": [
        {
          "output_type": "execute_result",
          "data": {
            "text/plain": [
              "((22785,), (22785,), (22785,))"
            ]
          },
          "metadata": {},
          "execution_count": 30
        }
      ]
    },
    {
      "cell_type": "code",
      "source": [
        "# Confusion Matrix\n",
        "\n",
        "from sklearn.metrics import confusion_matrix, ConfusionMatrixDisplay\n",
        "\n",
        "cm = confusion_matrix(y_test, test_predictions, labels=[0, 1])\n",
        "disp = ConfusionMatrixDisplay(confusion_matrix=cm,\n",
        "                              display_labels=['Not Fraud', 'Fraud'])\n",
        "disp.plot()"
      ],
      "metadata": {
        "colab": {
          "base_uri": "https://localhost:8080/",
          "height": 466
        },
        "id": "QIaOIgWYssmB",
        "outputId": "f54f27c8-2e3e-4d11-fd7d-20c31bb21b3a"
      },
      "execution_count": 31,
      "outputs": [
        {
          "output_type": "execute_result",
          "data": {
            "text/plain": [
              "<sklearn.metrics._plot.confusion_matrix.ConfusionMatrixDisplay at 0x78eef50b49d0>"
            ]
          },
          "metadata": {},
          "execution_count": 31
        },
        {
          "output_type": "display_data",
          "data": {
            "text/plain": [
              "<Figure size 640x480 with 2 Axes>"
            ],
            "image/png": "[encoded data removed]"
          },
          "metadata": {}
        }
      ]
    },
    {
      "cell_type": "code",
      "source": [
        "# Classification Report\n",
        "\n",
        "from sklearn.metrics import classification_report\n",
        "\n",
        "print(classification_report(y_test, test_predictions, labels=[0, 1], target_names=['Not Fraud', 'Fraud']))"
      ],
      "metadata": {
        "colab": {
          "base_uri": "https://localhost:8080/"
        },
        "id": "joBg4h21lOvD",
        "outputId": "59524276-4e9c-4863-8520-e79cc24be298"
      },
      "execution_count": 32,
      "outputs": [
        {
          "output_type": "stream",
          "name": "stdout",
          "text": [
            "              precision    recall  f1-score   support\n",
            "\n",
            "   Not Fraud       1.00      1.00      1.00     22749\n",
            "       Fraud       0.71      0.56      0.63        36\n",
            "\n",
            "    accuracy                           1.00     22785\n",
            "   macro avg       0.86      0.78      0.81     22785\n",
            "weighted avg       1.00      1.00      1.00     22785\n",
            "\n"
          ]
        }
      ]
    },
    {
      "cell_type": "code",
      "source": [
        "from sklearn.metrics import matthews_corrcoef\n",
        "\n",
        "matthews_corrcoef(y_test, test_predictions)"
      ],
      "metadata": {
        "colab": {
          "base_uri": "https://localhost:8080/"
        },
        "id": "t6dAocIznD1U",
        "outputId": "8b4560eb-4b39-4f71-f02a-b2e6f77843f6"
      },
      "execution_count": 33,
      "outputs": [
        {
          "output_type": "execute_result",
          "data": {
            "text/plain": [
              "0.6294313746803477"
            ]
          },
          "metadata": {},
          "execution_count": 33
        }
      ]
    },
    {
      "cell_type": "code",
      "source": [
        "# ROC & AUC\n",
        "\n",
        "from sklearn.metrics import RocCurveDisplay, roc_curve\n",
        "\n",
        "fprs, tprs, thresholdss = roc_curve(y_test, probabilities)\n",
        "roc_auc = auc(fprs, tprs)\n",
        "display = RocCurveDisplay(fpr=fprs, tpr=tprs, roc_auc=roc_auc)\n",
        "display.plot()"
      ],
      "metadata": {
        "colab": {
          "base_uri": "https://localhost:8080/",
          "height": 466
        },
        "id": "vGlhsLuPw5fp",
        "outputId": "60a923cf-b055-40dc-c69b-124ffe0fbeb2"
      },
      "execution_count": 34,
      "outputs": [
        {
          "output_type": "execute_result",
          "data": {
            "text/plain": [
              "<sklearn.metrics._plot.roc_curve.RocCurveDisplay at 0x78eef50b72b0>"
            ]
          },
          "metadata": {},
          "execution_count": 34
        },
        {
          "output_type": "display_data",
          "data": {
            "text/plain": [
              "<Figure size 640x480 with 1 Axes>"
            ],
            "image/png": "[encoded data removed]"
          },
          "metadata": {}
        }
      ]
    },
    {
      "cell_type": "code",
      "source": [],
      "metadata": {
        "id": "rnuLXrM70LO4"
      },
      "execution_count": null,
      "outputs": []
    }
  ]
}